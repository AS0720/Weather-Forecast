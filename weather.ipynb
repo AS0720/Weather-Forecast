{
  "nbformat": 4,
  "nbformat_minor": 0,
  "metadata": {
    "colab": {
      "provenance": [],
      "authorship_tag": "ABX9TyMHzGtz1qwYxQU2p9AbMKqn",
      "include_colab_link": true
    },
    "kernelspec": {
      "name": "python3",
      "display_name": "Python 3"
    },
    "language_info": {
      "name": "python"
    }
  },
  "cells": [
    {
      "cell_type": "markdown",
      "metadata": {
        "id": "view-in-github",
        "colab_type": "text"
      },
      "source": [
        "<a href=\"https://colab.research.google.com/github/AS0720/Weather-Forecast/blob/main/weather.ipynb\" target=\"_parent\"><img src=\"https://colab.research.google.com/assets/colab-badge.svg\" alt=\"Open In Colab\"/></a>"
      ]
    },
    {
      "cell_type": "code",
      "source": [
        "import requests\n",
        "import pandas as pd"
      ],
      "metadata": {
        "id": "ZOm6l_Uah5NY"
      },
      "execution_count": 66,
      "outputs": []
    },
    {
      "cell_type": "code",
      "source": [
        "pd.options.display.max_columns = None\n",
        "pd.options.display.max_rows = None"
      ],
      "metadata": {
        "id": "kziLbN2sh5YT"
      },
      "execution_count": 67,
      "outputs": []
    },
    {
      "cell_type": "code",
      "source": [
        "lat = 48.864716\n",
        "long = 2.349014\n",
        "lat_long = \"lat=\" + str(lat)+ \"&lon=\" + str(long)"
      ],
      "metadata": {
        "id": "3FA8J-Poh5dh"
      },
      "execution_count": 68,
      "outputs": []
    },
    {
      "cell_type": "code",
      "source": [
        "coord_API_endpoint = \"http://api.openweathermap.org/data/2.5/weather?\"\n",
        "lat_long = \"lat=\" + str(lat)+ \"&lon=\" + str(long)\n",
        "join_key = \"&appid=\" + \"e356e0f2bdc13904d0e62d5bf769987b\"\n",
        "units = \"&units=metric\""
      ],
      "metadata": {
        "id": "oddcgKeth5ll"
      },
      "execution_count": 69,
      "outputs": []
    },
    {
      "cell_type": "code",
      "source": [
        "current_coord_weather_url = coord_API_endpoint + lat_long + join_key + units"
      ],
      "metadata": {
        "id": "30HGlgyph5uc"
      },
      "execution_count": 70,
      "outputs": []
    },
    {
      "cell_type": "code",
      "source": [
        "print(current_coord_weather_url)"
      ],
      "metadata": {
        "colab": {
          "base_uri": "https://localhost:8080/"
        },
        "id": "SgdZS4L1h50N",
        "outputId": "2980f835-6afd-4181-daed-d25bf5813a09"
      },
      "execution_count": 71,
      "outputs": [
        {
          "output_type": "stream",
          "name": "stdout",
          "text": [
            "http://api.openweathermap.org/data/2.5/weather?lat=48.864716&lon=2.349014&appid=e356e0f2bdc13904d0e62d5bf769987b&units=metric\n"
          ]
        }
      ]
    },
    {
      "cell_type": "code",
      "source": [
        "City_API_endpoint = \"http://api.openweathermap.org/data/2.5/weather?q=\"\n",
        "City = \"Paris\"\n",
        "Country = \",FR,\"\n",
        "join_key = \"&appid=\" + \"e356e0f2bdc13904d0e62d5bf769987b\"\n",
        "units = \"&units=metric\""
      ],
      "metadata": {
        "id": "UJO2OUrGh58Q"
      },
      "execution_count": 72,
      "outputs": []
    },
    {
      "cell_type": "code",
      "source": [
        "current_city_weather = City_API_endpoint + City + Country + join_key + units"
      ],
      "metadata": {
        "id": "KtsemrcEh6Q0"
      },
      "execution_count": 73,
      "outputs": []
    },
    {
      "cell_type": "code",
      "source": [
        "print(current_city_weather)"
      ],
      "metadata": {
        "colab": {
          "base_uri": "https://localhost:8080/"
        },
        "id": "VSi0Zxx_h6Ud",
        "outputId": "8a89c332-a650-405b-a95d-dabc0c939096"
      },
      "execution_count": 85,
      "outputs": [
        {
          "output_type": "stream",
          "name": "stdout",
          "text": [
            "http://api.openweathermap.org/data/2.5/weather?q=Paris,FR,&appid=e356e0f2bdc13904d0e62d5bf769987b&units=metric\n"
          ]
        }
      ]
    },
    {
      "cell_type": "code",
      "source": [
        "json_data = requests.get(current_coord_weather_url).json()"
      ],
      "metadata": {
        "id": "x1TkfI7sh6YG"
      },
      "execution_count": 86,
      "outputs": []
    },
    {
      "cell_type": "code",
      "source": [
        "print(json_data)"
      ],
      "metadata": {
        "colab": {
          "base_uri": "https://localhost:8080/"
        },
        "id": "Oas1eqnvh6cB",
        "outputId": "8c13f97f-e33e-4729-b8d2-e9526ce1e9cd"
      },
      "execution_count": 133,
      "outputs": [
        {
          "output_type": "stream",
          "name": "stdout",
          "text": [
            "{'coord': {'lon': 2.35, 'lat': 48.86}, 'weather': [{'id': 701, 'main': 'Mist', 'description': 'mist', 'icon': '50n'}], 'base': 'stations', 'main': {'temp': 2.48, 'feels_like': -0.59, 'temp_min': 1.07, 'temp_max': 3.4, 'pressure': 1012, 'humidity': 95}, 'visibility': 5000, 'wind': {'speed': 3.09, 'deg': 250}, 'clouds': {'all': 75}, 'dt': 1670473292, 'sys': {'type': 2, 'id': 2012208, 'country': 'FR', 'sunrise': 1670484653, 'sunset': 1670514857}, 'timezone': 3600, 'id': 6455259, 'name': 'Paris', 'cod': 200}\n"
          ]
        }
      ]
    },
    {
      "cell_type": "code",
      "source": [
        "df_all_current_weather = pd.DataFrame()\n",
        "prediction_num = 0"
      ],
      "metadata": {
        "id": "nRfzKp6rj5XN"
      },
      "execution_count": 84,
      "outputs": []
    },
    {
      "cell_type": "code",
      "source": [
        "# Create empty lists to store the JSON Data\n",
        "current_weather_id = []\n",
        "current_time = []\n",
        "own_city_id = []\n",
        "city = []\n",
        "latitude = []\n",
        "longitude = []\n",
        "country = []\n",
        "timezone = []\n",
        "sunrise = []\n",
        "sunset = []\n",
        "temperature = []\n",
        "temperature_feel = []\n",
        "temperature_min = []\n",
        "temperature_max = []\n",
        "pressure = []\n",
        "humidity = []\n",
        "main = []\n",
        "main_description = []\n",
        "clouds = []\n",
        "wind_speed = []\n",
        "wind_degree = []\n",
        "visibility = []"
      ],
      "metadata": {
        "id": "6Ih9GC9Wj51b"
      },
      "execution_count": 79,
      "outputs": []
    },
    {
      "cell_type": "code",
      "source": [
        "# Add JSON Data to the lists\n",
        "prediction_num +=1\n",
        "current_weather_id.append(prediction_num + 1)\n",
        "current_time.append(pd.Timestamp.now())\n",
        "own_city_id.append(json_data['id'])\n",
        "city.append(json_data['name'])\n",
        "latitude.append(json_data['coord']['lat'])\n",
        "longitude.append(json_data['coord']['lon'])\n",
        "country.append(json_data['sys']['country'])\n",
        "if json_data['timezone'] >0 :\n",
        "    timezone.append((\"+\" + str((json_data['timezone'])/3600)))\n",
        "else:\n",
        "    timezone.append(((json_data['timezone'])/3600))\n",
        "sunrise.append(json_data['sys']['sunrise'])\n",
        "sunset.append(json_data['sys']['sunset'])\n",
        "temperature.append(json_data['main']['temp'])\n",
        "temperature_feel.append(json_data['main']['feels_like'])\n",
        "temperature_min.append(json_data['main']['temp_min'])\n",
        "temperature_max.append(json_data['main']['temp_max'])\n",
        "pressure.append(json_data['main']['pressure'])\n",
        "humidity.append(json_data['main']['humidity'])\n",
        "main.append(json_data['weather'][0]['main'])\n",
        "main_description.append(json_data['weather'][0]['description'])\n",
        "clouds.append(json_data['clouds']['all'])\n",
        "wind_speed.append(json_data['wind']['speed'])\n",
        "wind_degree.append(json_data['wind']['deg'])\n",
        "visibility.append(json_data['visibility'])"
      ],
      "metadata": {
        "id": "4A7t8Uh6j5-A"
      },
      "execution_count": 80,
      "outputs": []
    },
    {
      "cell_type": "code",
      "source": [
        "# Write Lists to DataFrame\n",
        "df_all_current_weather['current_weather_id'] = current_weather_id\n",
        "df_all_current_weather['current_time'] = current_time\n",
        "df_all_current_weather['own_city_id'] = own_city_id\n",
        "df_all_current_weather['city'] = city\n",
        "df_all_current_weather['latitude'] = latitude\n",
        "df_all_current_weather['longitude'] = longitude\n",
        "df_all_current_weather['country'] = country\n",
        "df_all_current_weather['timezone'] = timezone\n",
        "df_all_current_weather['sunrise'] = sunrise\n",
        "df_all_current_weather['sunset'] = sunset\n",
        "df_all_current_weather['temperature'] = temperature\n",
        "df_all_current_weather['temperature_feel'] = temperature_feel\n",
        "df_all_current_weather['temperature_min'] = temperature_min\n",
        "df_all_current_weather['temperature_max'] = temperature_max\n",
        "df_all_current_weather['pressure'] = pressure\n",
        "df_all_current_weather['humidity'] = humidity\n",
        "df_all_current_weather['main'] = main\n",
        "df_all_current_weather['main_description'] = main_description\n",
        "df_all_current_weather['clouds'] = clouds\n",
        "df_all_current_weather['wind_speed'] = wind_speed\n",
        "df_all_current_weather['wind_degree'] = wind_degree\n",
        "df_all_current_weather['visibility'] = visibility"
      ],
      "metadata": {
        "id": "-T6SfboAj6Ca"
      },
      "execution_count": 81,
      "outputs": []
    },
    {
      "cell_type": "code",
      "source": [
        "df_all_current_weather.head(5)"
      ],
      "metadata": {
        "colab": {
          "base_uri": "https://localhost:8080/",
          "height": 162
        },
        "id": "XpzasVt6j6Gm",
        "outputId": "ee45a2a0-518f-4e93-e420-119cfab38efb"
      },
      "execution_count": 82,
      "outputs": [
        {
          "output_type": "execute_result",
          "data": {
            "text/plain": [
              "   current_weather_id               current_time  own_city_id         city  \\\n",
              "0                   2 2022-12-08 03:04:17.543759      2978048  Saint-Merri   \n",
              "\n",
              "   latitude  longitude country timezone     sunrise      sunset  temperature  \\\n",
              "0    48.862     2.3505      FR     +1.0  1670484653  1670514856         2.93   \n",
              "\n",
              "   temperature_feel  temperature_min  temperature_max  pressure  humidity  \\\n",
              "0              0.89             1.59             3.91      1014        94   \n",
              "\n",
              "  main main_description  clouds  wind_speed  wind_degree  visibility  \n",
              "0  Fog              fog     100        2.06          230        6000  "
            ],
            "text/html": [
              "\n",
              "  <div id=\"df-8926af6f-f02d-4307-9346-42b625757d44\">\n",
              "    <div class=\"colab-df-container\">\n",
              "      <div>\n",
              "<style scoped>\n",
              "    .dataframe tbody tr th:only-of-type {\n",
              "        vertical-align: middle;\n",
              "    }\n",
              "\n",
              "    .dataframe tbody tr th {\n",
              "        vertical-align: top;\n",
              "    }\n",
              "\n",
              "    .dataframe thead th {\n",
              "        text-align: right;\n",
              "    }\n",
              "</style>\n",
              "<table border=\"1\" class=\"dataframe\">\n",
              "  <thead>\n",
              "    <tr style=\"text-align: right;\">\n",
              "      <th></th>\n",
              "      <th>current_weather_id</th>\n",
              "      <th>current_time</th>\n",
              "      <th>own_city_id</th>\n",
              "      <th>city</th>\n",
              "      <th>latitude</th>\n",
              "      <th>longitude</th>\n",
              "      <th>country</th>\n",
              "      <th>timezone</th>\n",
              "      <th>sunrise</th>\n",
              "      <th>sunset</th>\n",
              "      <th>temperature</th>\n",
              "      <th>temperature_feel</th>\n",
              "      <th>temperature_min</th>\n",
              "      <th>temperature_max</th>\n",
              "      <th>pressure</th>\n",
              "      <th>humidity</th>\n",
              "      <th>main</th>\n",
              "      <th>main_description</th>\n",
              "      <th>clouds</th>\n",
              "      <th>wind_speed</th>\n",
              "      <th>wind_degree</th>\n",
              "      <th>visibility</th>\n",
              "    </tr>\n",
              "  </thead>\n",
              "  <tbody>\n",
              "    <tr>\n",
              "      <th>0</th>\n",
              "      <td>2</td>\n",
              "      <td>2022-12-08 03:04:17.543759</td>\n",
              "      <td>2978048</td>\n",
              "      <td>Saint-Merri</td>\n",
              "      <td>48.862</td>\n",
              "      <td>2.3505</td>\n",
              "      <td>FR</td>\n",
              "      <td>+1.0</td>\n",
              "      <td>1670484653</td>\n",
              "      <td>1670514856</td>\n",
              "      <td>2.93</td>\n",
              "      <td>0.89</td>\n",
              "      <td>1.59</td>\n",
              "      <td>3.91</td>\n",
              "      <td>1014</td>\n",
              "      <td>94</td>\n",
              "      <td>Fog</td>\n",
              "      <td>fog</td>\n",
              "      <td>100</td>\n",
              "      <td>2.06</td>\n",
              "      <td>230</td>\n",
              "      <td>6000</td>\n",
              "    </tr>\n",
              "  </tbody>\n",
              "</table>\n",
              "</div>\n",
              "      <button class=\"colab-df-convert\" onclick=\"convertToInteractive('df-8926af6f-f02d-4307-9346-42b625757d44')\"\n",
              "              title=\"Convert this dataframe to an interactive table.\"\n",
              "              style=\"display:none;\">\n",
              "        \n",
              "  <svg xmlns=\"http://www.w3.org/2000/svg\" height=\"24px\"viewBox=\"0 0 24 24\"\n",
              "       width=\"24px\">\n",
              "    <path d=\"M0 0h24v24H0V0z\" fill=\"none\"/>\n",
              "    <path d=\"M18.56 5.44l.94 2.06.94-2.06 2.06-.94-2.06-.94-.94-2.06-.94 2.06-2.06.94zm-11 1L8.5 8.5l.94-2.06 2.06-.94-2.06-.94L8.5 2.5l-.94 2.06-2.06.94zm10 10l.94 2.06.94-2.06 2.06-.94-2.06-.94-.94-2.06-.94 2.06-2.06.94z\"/><path d=\"M17.41 7.96l-1.37-1.37c-.4-.4-.92-.59-1.43-.59-.52 0-1.04.2-1.43.59L10.3 9.45l-7.72 7.72c-.78.78-.78 2.05 0 2.83L4 21.41c.39.39.9.59 1.41.59.51 0 1.02-.2 1.41-.59l7.78-7.78 2.81-2.81c.8-.78.8-2.07 0-2.86zM5.41 20L4 18.59l7.72-7.72 1.47 1.35L5.41 20z\"/>\n",
              "  </svg>\n",
              "      </button>\n",
              "      \n",
              "  <style>\n",
              "    .colab-df-container {\n",
              "      display:flex;\n",
              "      flex-wrap:wrap;\n",
              "      gap: 12px;\n",
              "    }\n",
              "\n",
              "    .colab-df-convert {\n",
              "      background-color: #E8F0FE;\n",
              "      border: none;\n",
              "      border-radius: 50%;\n",
              "      cursor: pointer;\n",
              "      display: none;\n",
              "      fill: #1967D2;\n",
              "      height: 32px;\n",
              "      padding: 0 0 0 0;\n",
              "      width: 32px;\n",
              "    }\n",
              "\n",
              "    .colab-df-convert:hover {\n",
              "      background-color: #E2EBFA;\n",
              "      box-shadow: 0px 1px 2px rgba(60, 64, 67, 0.3), 0px 1px 3px 1px rgba(60, 64, 67, 0.15);\n",
              "      fill: #174EA6;\n",
              "    }\n",
              "\n",
              "    [theme=dark] .colab-df-convert {\n",
              "      background-color: #3B4455;\n",
              "      fill: #D2E3FC;\n",
              "    }\n",
              "\n",
              "    [theme=dark] .colab-df-convert:hover {\n",
              "      background-color: #434B5C;\n",
              "      box-shadow: 0px 1px 3px 1px rgba(0, 0, 0, 0.15);\n",
              "      filter: drop-shadow(0px 1px 2px rgba(0, 0, 0, 0.3));\n",
              "      fill: #FFFFFF;\n",
              "    }\n",
              "  </style>\n",
              "\n",
              "      <script>\n",
              "        const buttonEl =\n",
              "          document.querySelector('#df-8926af6f-f02d-4307-9346-42b625757d44 button.colab-df-convert');\n",
              "        buttonEl.style.display =\n",
              "          google.colab.kernel.accessAllowed ? 'block' : 'none';\n",
              "\n",
              "        async function convertToInteractive(key) {\n",
              "          const element = document.querySelector('#df-8926af6f-f02d-4307-9346-42b625757d44');\n",
              "          const dataTable =\n",
              "            await google.colab.kernel.invokeFunction('convertToInteractive',\n",
              "                                                     [key], {});\n",
              "          if (!dataTable) return;\n",
              "\n",
              "          const docLinkHtml = 'Like what you see? Visit the ' +\n",
              "            '<a target=\"_blank\" href=https://colab.research.google.com/notebooks/data_table.ipynb>data table notebook</a>'\n",
              "            + ' to learn more about interactive tables.';\n",
              "          element.innerHTML = '';\n",
              "          dataTable['output_type'] = 'display_data';\n",
              "          await google.colab.output.renderOutput(dataTable, element);\n",
              "          const docLink = document.createElement('div');\n",
              "          docLink.innerHTML = docLinkHtml;\n",
              "          element.appendChild(docLink);\n",
              "        }\n",
              "      </script>\n",
              "    </div>\n",
              "  </div>\n",
              "  "
            ]
          },
          "metadata": {},
          "execution_count": 82
        }
      ]
    },
    {
      "cell_type": "code",
      "source": [
        "lat = 48.864716\n",
        "long = 2.349014\n",
        "lat_long = \"lat=\" + str(lat)+ \"&lon=\" + str(long)"
      ],
      "metadata": {
        "id": "6kNraF8_j6Js"
      },
      "execution_count": 98,
      "outputs": []
    },
    {
      "cell_type": "code",
      "source": [
        "coord_API_endpoint = \"http://api.openweathermap.org/data/2.5/forecast?\"\n",
        "lat_long = \"lat=\" + str(lat)+ \"&lon=\" + str(long)\n",
        "join_key = \"&appid=\" + \"e356e0f2bdc13904d0e62d5bf769987b\"\n",
        "units = \"&units=metric\""
      ],
      "metadata": {
        "id": "srTEK8knkWoG"
      },
      "execution_count": 116,
      "outputs": []
    },
    {
      "cell_type": "code",
      "source": [
        "forecast_coord_weather_url = coord_API_endpoint + lat_long + join_key + units"
      ],
      "metadata": {
        "id": "u7M1n7xxkWsh"
      },
      "execution_count": 117,
      "outputs": []
    },
    {
      "cell_type": "code",
      "source": [
        "print (forecast_coord_weather_url)"
      ],
      "metadata": {
        "colab": {
          "base_uri": "https://localhost:8080/"
        },
        "id": "mCJv0yedkWv4",
        "outputId": "0ac252f8-361c-43ac-9ce7-6228819d44e7"
      },
      "execution_count": 118,
      "outputs": [
        {
          "output_type": "stream",
          "name": "stdout",
          "text": [
            "http://api.openweathermap.org/data/2.5/forecast?lat=48.864716&lon=2.349014&appid=e356e0f2bdc13904d0e62d5bf769987b&units=metric\n"
          ]
        }
      ]
    },
    {
      "cell_type": "code",
      "source": [
        "City_API_endpoint = \"http://api.openweathermap.org/data/2.5/forecast?q=\"\n",
        "City = \"Paris\"\n",
        "Country = \",FR,\"\n",
        "join_key = \"&appid=\" + \"e356e0f2bdc13904d0e62d5bf769987b\"\n",
        "units = \"&units=metric\""
      ],
      "metadata": {
        "id": "Nz7MCnVmkWzB"
      },
      "execution_count": 119,
      "outputs": []
    },
    {
      "cell_type": "code",
      "source": [
        "city_forecast = City_API_endpoint + City + Country + join_key + units"
      ],
      "metadata": {
        "id": "qtwvFlolkW14"
      },
      "execution_count": 120,
      "outputs": []
    },
    {
      "cell_type": "code",
      "source": [
        "print(city_forecast)"
      ],
      "metadata": {
        "colab": {
          "base_uri": "https://localhost:8080/"
        },
        "id": "bk_DamLDlJiM",
        "outputId": "ac4c792a-183a-4c61-931d-80be1c516715"
      },
      "execution_count": 121,
      "outputs": [
        {
          "output_type": "stream",
          "name": "stdout",
          "text": [
            "http://api.openweathermap.org/data/2.5/forecast?q=Paris,FR,&appid=e356e0f2bdc13904d0e62d5bf769987b&units=metric\n"
          ]
        }
      ]
    },
    {
      "cell_type": "code",
      "source": [
        "forecast_json_data = requests.get(city_forecast).json()"
      ],
      "metadata": {
        "id": "ZjI5HFsDlOrn"
      },
      "execution_count": 122,
      "outputs": []
    },
    {
      "cell_type": "code",
      "source": [
        "print (forecast_json_data)"
      ],
      "metadata": {
        "colab": {
          "base_uri": "https://localhost:8080/"
        },
        "id": "KbUBLqcYlOvf",
        "outputId": "8ace5a6b-6105-4970-dafd-949bfb73c48a"
      },
      "execution_count": 123,
      "outputs": [
        {
          "output_type": "stream",
          "name": "stdout",
          "text": [
            "{'cod': '200', 'message': 0, 'cnt': 40, 'list': [{'dt': 1670479200, 'main': {'temp': 2.51, 'feels_like': 2.51, 'temp_min': 2.51, 'temp_max': 3.71, 'pressure': 1012, 'sea_level': 1012, 'grnd_level': 1007, 'humidity': 95, 'temp_kf': -1.2}, 'weather': [{'id': 500, 'main': 'Rain', 'description': 'light rain', 'icon': '10n'}], 'clouds': {'all': 100}, 'wind': {'speed': 0.38, 'deg': 28, 'gust': 0.64}, 'visibility': 10000, 'pop': 0.2, 'rain': {'3h': 0.13}, 'sys': {'pod': 'n'}, 'dt_txt': '2022-12-08 06:00:00'}, {'dt': 1670490000, 'main': {'temp': 2.96, 'feels_like': 2.96, 'temp_min': 2.96, 'temp_max': 3.86, 'pressure': 1012, 'sea_level': 1012, 'grnd_level': 1006, 'humidity': 91, 'temp_kf': -0.9}, 'weather': [{'id': 500, 'main': 'Rain', 'description': 'light rain', 'icon': '10d'}], 'clouds': {'all': 91}, 'wind': {'speed': 0.23, 'deg': 22, 'gust': 0.77}, 'visibility': 10000, 'pop': 0.2, 'rain': {'3h': 0.12}, 'sys': {'pod': 'd'}, 'dt_txt': '2022-12-08 09:00:00'}, {'dt': 1670500800, 'main': {'temp': 4.2, 'feels_like': 3.19, 'temp_min': 4.2, 'temp_max': 5.05, 'pressure': 1011, 'sea_level': 1011, 'grnd_level': 1005, 'humidity': 79, 'temp_kf': -0.85}, 'weather': [{'id': 803, 'main': 'Clouds', 'description': 'broken clouds', 'icon': '04d'}], 'clouds': {'all': 83}, 'wind': {'speed': 1.39, 'deg': 8, 'gust': 1.62}, 'visibility': 10000, 'pop': 0.02, 'sys': {'pod': 'd'}, 'dt_txt': '2022-12-08 12:00:00'}, {'dt': 1670511600, 'main': {'temp': 4.86, 'feels_like': 3.5, 'temp_min': 4.86, 'temp_max': 4.86, 'pressure': 1009, 'sea_level': 1009, 'grnd_level': 1004, 'humidity': 65, 'temp_kf': 0}, 'weather': [{'id': 804, 'main': 'Clouds', 'description': 'overcast clouds', 'icon': '04d'}], 'clouds': {'all': 99}, 'wind': {'speed': 1.73, 'deg': 21, 'gust': 1.86}, 'visibility': 10000, 'pop': 0, 'sys': {'pod': 'd'}, 'dt_txt': '2022-12-08 15:00:00'}, {'dt': 1670522400, 'main': {'temp': 4.02, 'feels_like': 1.83, 'temp_min': 4.02, 'temp_max': 4.02, 'pressure': 1009, 'sea_level': 1009, 'grnd_level': 1004, 'humidity': 68, 'temp_kf': 0}, 'weather': [{'id': 804, 'main': 'Clouds', 'description': 'overcast clouds', 'icon': '04n'}], 'clouds': {'all': 99}, 'wind': {'speed': 2.4, 'deg': 42, 'gust': 3.07}, 'visibility': 10000, 'pop': 0, 'sys': {'pod': 'n'}, 'dt_txt': '2022-12-08 18:00:00'}, {'dt': 1670533200, 'main': {'temp': 3.11, 'feels_like': 0.6, 'temp_min': 3.11, 'temp_max': 3.11, 'pressure': 1008, 'sea_level': 1008, 'grnd_level': 1003, 'humidity': 72, 'temp_kf': 0}, 'weather': [{'id': 804, 'main': 'Clouds', 'description': 'overcast clouds', 'icon': '04n'}], 'clouds': {'all': 91}, 'wind': {'speed': 2.57, 'deg': 38, 'gust': 3.84}, 'visibility': 10000, 'pop': 0, 'sys': {'pod': 'n'}, 'dt_txt': '2022-12-08 21:00:00'}, {'dt': 1670544000, 'main': {'temp': 1.59, 'feels_like': -1.06, 'temp_min': 1.59, 'temp_max': 1.59, 'pressure': 1008, 'sea_level': 1008, 'grnd_level': 1003, 'humidity': 79, 'temp_kf': 0}, 'weather': [{'id': 803, 'main': 'Clouds', 'description': 'broken clouds', 'icon': '04n'}], 'clouds': {'all': 68}, 'wind': {'speed': 2.42, 'deg': 36, 'gust': 4.76}, 'visibility': 10000, 'pop': 0, 'sys': {'pod': 'n'}, 'dt_txt': '2022-12-09 00:00:00'}, {'dt': 1670554800, 'main': {'temp': 0.87, 'feels_like': -1.44, 'temp_min': 0.87, 'temp_max': 0.87, 'pressure': 1007, 'sea_level': 1007, 'grnd_level': 1002, 'humidity': 82, 'temp_kf': 0}, 'weather': [{'id': 800, 'main': 'Clear', 'description': 'clear sky', 'icon': '01n'}], 'clouds': {'all': 8}, 'wind': {'speed': 2, 'deg': 25, 'gust': 4.31}, 'visibility': 10000, 'pop': 0, 'sys': {'pod': 'n'}, 'dt_txt': '2022-12-09 03:00:00'}, {'dt': 1670565600, 'main': {'temp': 0.41, 'feels_like': -1.84, 'temp_min': 0.41, 'temp_max': 0.41, 'pressure': 1007, 'sea_level': 1007, 'grnd_level': 1002, 'humidity': 84, 'temp_kf': 0}, 'weather': [{'id': 800, 'main': 'Clear', 'description': 'clear sky', 'icon': '01n'}], 'clouds': {'all': 8}, 'wind': {'speed': 1.89, 'deg': 17, 'gust': 4.9}, 'visibility': 10000, 'pop': 0, 'sys': {'pod': 'n'}, 'dt_txt': '2022-12-09 06:00:00'}, {'dt': 1670576400, 'main': {'temp': 0.95, 'feels_like': -1.07, 'temp_min': 0.95, 'temp_max': 0.95, 'pressure': 1007, 'sea_level': 1007, 'grnd_level': 1002, 'humidity': 80, 'temp_kf': 0}, 'weather': [{'id': 800, 'main': 'Clear', 'description': 'clear sky', 'icon': '01d'}], 'clouds': {'all': 10}, 'wind': {'speed': 1.78, 'deg': 15, 'gust': 3.52}, 'visibility': 10000, 'pop': 0, 'sys': {'pod': 'd'}, 'dt_txt': '2022-12-09 09:00:00'}, {'dt': 1670587200, 'main': {'temp': 3.47, 'feels_like': 1.63, 'temp_min': 3.47, 'temp_max': 3.47, 'pressure': 1007, 'sea_level': 1007, 'grnd_level': 1002, 'humidity': 67, 'temp_kf': 0}, 'weather': [{'id': 800, 'main': 'Clear', 'description': 'clear sky', 'icon': '01d'}], 'clouds': {'all': 10}, 'wind': {'speed': 1.96, 'deg': 358, 'gust': 3.11}, 'visibility': 10000, 'pop': 0, 'sys': {'pod': 'd'}, 'dt_txt': '2022-12-09 12:00:00'}, {'dt': 1670598000, 'main': {'temp': 4.01, 'feels_like': 2.06, 'temp_min': 4.01, 'temp_max': 4.01, 'pressure': 1006, 'sea_level': 1006, 'grnd_level': 1002, 'humidity': 68, 'temp_kf': 0}, 'weather': [{'id': 800, 'main': 'Clear', 'description': 'clear sky', 'icon': '01d'}], 'clouds': {'all': 7}, 'wind': {'speed': 2.15, 'deg': 359, 'gust': 4.28}, 'visibility': 10000, 'pop': 0, 'sys': {'pod': 'd'}, 'dt_txt': '2022-12-09 15:00:00'}, {'dt': 1670608800, 'main': {'temp': 2.41, 'feels_like': 2.41, 'temp_min': 2.41, 'temp_max': 2.41, 'pressure': 1008, 'sea_level': 1008, 'grnd_level': 1003, 'humidity': 77, 'temp_kf': 0}, 'weather': [{'id': 800, 'main': 'Clear', 'description': 'clear sky', 'icon': '01n'}], 'clouds': {'all': 7}, 'wind': {'speed': 1.17, 'deg': 24, 'gust': 1.52}, 'visibility': 10000, 'pop': 0, 'sys': {'pod': 'n'}, 'dt_txt': '2022-12-09 18:00:00'}, {'dt': 1670619600, 'main': {'temp': 1.45, 'feels_like': 1.45, 'temp_min': 1.45, 'temp_max': 1.45, 'pressure': 1009, 'sea_level': 1009, 'grnd_level': 1004, 'humidity': 82, 'temp_kf': 0}, 'weather': [{'id': 800, 'main': 'Clear', 'description': 'clear sky', 'icon': '01n'}], 'clouds': {'all': 6}, 'wind': {'speed': 1.29, 'deg': 29, 'gust': 1.76}, 'visibility': 10000, 'pop': 0, 'sys': {'pod': 'n'}, 'dt_txt': '2022-12-09 21:00:00'}, {'dt': 1670630400, 'main': {'temp': 0.66, 'feels_like': 0.66, 'temp_min': 0.66, 'temp_max': 0.66, 'pressure': 1010, 'sea_level': 1010, 'grnd_level': 1005, 'humidity': 84, 'temp_kf': 0}, 'weather': [{'id': 800, 'main': 'Clear', 'description': 'clear sky', 'icon': '01n'}], 'clouds': {'all': 6}, 'wind': {'speed': 1.32, 'deg': 26, 'gust': 2.3}, 'visibility': 10000, 'pop': 0, 'sys': {'pod': 'n'}, 'dt_txt': '2022-12-10 00:00:00'}, {'dt': 1670641200, 'main': {'temp': 0.05, 'feels_like': -1.67, 'temp_min': 0.05, 'temp_max': 0.05, 'pressure': 1010, 'sea_level': 1010, 'grnd_level': 1005, 'humidity': 86, 'temp_kf': 0}, 'weather': [{'id': 800, 'main': 'Clear', 'description': 'clear sky', 'icon': '01n'}], 'clouds': {'all': 6}, 'wind': {'speed': 1.48, 'deg': 17, 'gust': 3.1}, 'visibility': 10000, 'pop': 0, 'sys': {'pod': 'n'}, 'dt_txt': '2022-12-10 03:00:00'}, {'dt': 1670652000, 'main': {'temp': -0.37, 'feels_like': -2.01, 'temp_min': -0.37, 'temp_max': -0.37, 'pressure': 1011, 'sea_level': 1011, 'grnd_level': 1006, 'humidity': 86, 'temp_kf': 0}, 'weather': [{'id': 800, 'main': 'Clear', 'description': 'clear sky', 'icon': '01n'}], 'clouds': {'all': 6}, 'wind': {'speed': 1.4, 'deg': 21, 'gust': 3.08}, 'visibility': 10000, 'pop': 0, 'sys': {'pod': 'n'}, 'dt_txt': '2022-12-10 06:00:00'}, {'dt': 1670662800, 'main': {'temp': 0.21, 'feels_like': -1.37, 'temp_min': 0.21, 'temp_max': 0.21, 'pressure': 1012, 'sea_level': 1012, 'grnd_level': 1007, 'humidity': 79, 'temp_kf': 0}, 'weather': [{'id': 800, 'main': 'Clear', 'description': 'clear sky', 'icon': '01d'}], 'clouds': {'all': 6}, 'wind': {'speed': 1.41, 'deg': 22, 'gust': 2.69}, 'visibility': 10000, 'pop': 0, 'sys': {'pod': 'd'}, 'dt_txt': '2022-12-10 09:00:00'}, {'dt': 1670673600, 'main': {'temp': 2.69, 'feels_like': 1.21, 'temp_min': 2.69, 'temp_max': 2.69, 'pressure': 1012, 'sea_level': 1012, 'grnd_level': 1007, 'humidity': 61, 'temp_kf': 0}, 'weather': [{'id': 800, 'main': 'Clear', 'description': 'clear sky', 'icon': '01d'}], 'clouds': {'all': 6}, 'wind': {'speed': 1.57, 'deg': 12, 'gust': 2.59}, 'visibility': 10000, 'pop': 0, 'sys': {'pod': 'd'}, 'dt_txt': '2022-12-10 12:00:00'}, {'dt': 1670684400, 'main': {'temp': 3.05, 'feels_like': 1.78, 'temp_min': 3.05, 'temp_max': 3.05, 'pressure': 1011, 'sea_level': 1011, 'grnd_level': 1007, 'humidity': 61, 'temp_kf': 0}, 'weather': [{'id': 800, 'main': 'Clear', 'description': 'clear sky', 'icon': '01d'}], 'clouds': {'all': 4}, 'wind': {'speed': 1.46, 'deg': 1, 'gust': 2.61}, 'visibility': 10000, 'pop': 0, 'sys': {'pod': 'd'}, 'dt_txt': '2022-12-10 15:00:00'}, {'dt': 1670695200, 'main': {'temp': 1.58, 'feels_like': 1.58, 'temp_min': 1.58, 'temp_max': 1.58, 'pressure': 1013, 'sea_level': 1013, 'grnd_level': 1008, 'humidity': 71, 'temp_kf': 0}, 'weather': [{'id': 800, 'main': 'Clear', 'description': 'clear sky', 'icon': '01n'}], 'clouds': {'all': 5}, 'wind': {'speed': 0.92, 'deg': 350, 'gust': 0.95}, 'visibility': 10000, 'pop': 0, 'sys': {'pod': 'n'}, 'dt_txt': '2022-12-10 18:00:00'}, {'dt': 1670706000, 'main': {'temp': 0.88, 'feels_like': 0.88, 'temp_min': 0.88, 'temp_max': 0.88, 'pressure': 1013, 'sea_level': 1013, 'grnd_level': 1008, 'humidity': 75, 'temp_kf': 0}, 'weather': [{'id': 800, 'main': 'Clear', 'description': 'clear sky', 'icon': '01n'}], 'clouds': {'all': 2}, 'wind': {'speed': 0.84, 'deg': 313, 'gust': 0.89}, 'visibility': 10000, 'pop': 0, 'sys': {'pod': 'n'}, 'dt_txt': '2022-12-10 21:00:00'}, {'dt': 1670716800, 'main': {'temp': 0.38, 'feels_like': 0.38, 'temp_min': 0.38, 'temp_max': 0.38, 'pressure': 1013, 'sea_level': 1013, 'grnd_level': 1008, 'humidity': 77, 'temp_kf': 0}, 'weather': [{'id': 800, 'main': 'Clear', 'description': 'clear sky', 'icon': '01n'}], 'clouds': {'all': 7}, 'wind': {'speed': 0.34, 'deg': 274, 'gust': 0.46}, 'visibility': 10000, 'pop': 0, 'sys': {'pod': 'n'}, 'dt_txt': '2022-12-11 00:00:00'}, {'dt': 1670727600, 'main': {'temp': 0.01, 'feels_like': 0.01, 'temp_min': 0.01, 'temp_max': 0.01, 'pressure': 1013, 'sea_level': 1013, 'grnd_level': 1008, 'humidity': 78, 'temp_kf': 0}, 'weather': [{'id': 800, 'main': 'Clear', 'description': 'clear sky', 'icon': '01n'}], 'clouds': {'all': 5}, 'wind': {'speed': 1.3, 'deg': 197, 'gust': 1.44}, 'visibility': 10000, 'pop': 0, 'sys': {'pod': 'n'}, 'dt_txt': '2022-12-11 03:00:00'}, {'dt': 1670738400, 'main': {'temp': -0.18, 'feels_like': -1.69, 'temp_min': -0.18, 'temp_max': -0.18, 'pressure': 1013, 'sea_level': 1013, 'grnd_level': 1008, 'humidity': 76, 'temp_kf': 0}, 'weather': [{'id': 800, 'main': 'Clear', 'description': 'clear sky', 'icon': '01n'}], 'clouds': {'all': 4}, 'wind': {'speed': 1.34, 'deg': 204, 'gust': 1.7}, 'visibility': 10000, 'pop': 0, 'sys': {'pod': 'n'}, 'dt_txt': '2022-12-11 06:00:00'}, {'dt': 1670749200, 'main': {'temp': 0.42, 'feels_like': -1.94, 'temp_min': 0.42, 'temp_max': 0.42, 'pressure': 1013, 'sea_level': 1013, 'grnd_level': 1008, 'humidity': 70, 'temp_kf': 0}, 'weather': [{'id': 802, 'main': 'Clouds', 'description': 'scattered clouds', 'icon': '03d'}], 'clouds': {'all': 45}, 'wind': {'speed': 1.98, 'deg': 202, 'gust': 4.72}, 'visibility': 10000, 'pop': 0, 'sys': {'pod': 'd'}, 'dt_txt': '2022-12-11 09:00:00'}, {'dt': 1670760000, 'main': {'temp': 2.26, 'feels_like': -0.1, 'temp_min': 2.26, 'temp_max': 2.26, 'pressure': 1012, 'sea_level': 1012, 'grnd_level': 1007, 'humidity': 59, 'temp_kf': 0}, 'weather': [{'id': 803, 'main': 'Clouds', 'description': 'broken clouds', 'icon': '04d'}], 'clouds': {'all': 73}, 'wind': {'speed': 2.25, 'deg': 198, 'gust': 3.88}, 'visibility': 10000, 'pop': 0.05, 'sys': {'pod': 'd'}, 'dt_txt': '2022-12-11 12:00:00'}, {'dt': 1670770800, 'main': {'temp': 0.95, 'feels_like': -1.65, 'temp_min': 0.95, 'temp_max': 0.95, 'pressure': 1012, 'sea_level': 1012, 'grnd_level': 1007, 'humidity': 85, 'temp_kf': 0}, 'weather': [{'id': 600, 'main': 'Snow', 'description': 'light snow', 'icon': '13d'}], 'clouds': {'all': 100}, 'wind': {'speed': 2.26, 'deg': 198, 'gust': 4.45}, 'visibility': 8776, 'pop': 0.44, 'snow': {'3h': 0.54}, 'sys': {'pod': 'd'}, 'dt_txt': '2022-12-11 15:00:00'}, {'dt': 1670781600, 'main': {'temp': 0.48, 'feels_like': -2.51, 'temp_min': 0.48, 'temp_max': 0.48, 'pressure': 1012, 'sea_level': 1012, 'grnd_level': 1007, 'humidity': 95, 'temp_kf': 0}, 'weather': [{'id': 600, 'main': 'Snow', 'description': 'light snow', 'icon': '13n'}], 'clouds': {'all': 100}, 'wind': {'speed': 2.56, 'deg': 175, 'gust': 5.19}, 'visibility': 4724, 'pop': 0.48, 'snow': {'3h': 0.63}, 'sys': {'pod': 'n'}, 'dt_txt': '2022-12-11 18:00:00'}, {'dt': 1670792400, 'main': {'temp': 0.31, 'feels_like': -2.79, 'temp_min': 0.31, 'temp_max': 0.31, 'pressure': 1012, 'sea_level': 1012, 'grnd_level': 1007, 'humidity': 91, 'temp_kf': 0}, 'weather': [{'id': 600, 'main': 'Snow', 'description': 'light snow', 'icon': '13n'}], 'clouds': {'all': 99}, 'wind': {'speed': 2.64, 'deg': 162, 'gust': 5.17}, 'visibility': 10000, 'pop': 0.37, 'snow': {'3h': 0.34}, 'sys': {'pod': 'n'}, 'dt_txt': '2022-12-11 21:00:00'}, {'dt': 1670803200, 'main': {'temp': -0.12, 'feels_like': -2.97, 'temp_min': -0.12, 'temp_max': -0.12, 'pressure': 1012, 'sea_level': 1012, 'grnd_level': 1007, 'humidity': 90, 'temp_kf': 0}, 'weather': [{'id': 804, 'main': 'Clouds', 'description': 'overcast clouds', 'icon': '04n'}], 'clouds': {'all': 93}, 'wind': {'speed': 2.32, 'deg': 164, 'gust': 4.56}, 'visibility': 10000, 'pop': 0.33, 'sys': {'pod': 'n'}, 'dt_txt': '2022-12-12 00:00:00'}, {'dt': 1670814000, 'main': {'temp': -0.44, 'feels_like': -2.5, 'temp_min': -0.44, 'temp_max': -0.44, 'pressure': 1013, 'sea_level': 1013, 'grnd_level': 1008, 'humidity': 91, 'temp_kf': 0}, 'weather': [{'id': 804, 'main': 'Clouds', 'description': 'overcast clouds', 'icon': '04n'}], 'clouds': {'all': 91}, 'wind': {'speed': 1.66, 'deg': 143, 'gust': 3.3}, 'visibility': 10000, 'pop': 0.09, 'sys': {'pod': 'n'}, 'dt_txt': '2022-12-12 03:00:00'}, {'dt': 1670824800, 'main': {'temp': -0.58, 'feels_like': -2.88, 'temp_min': -0.58, 'temp_max': -0.58, 'pressure': 1013, 'sea_level': 1013, 'grnd_level': 1008, 'humidity': 92, 'temp_kf': 0}, 'weather': [{'id': 600, 'main': 'Snow', 'description': 'light snow', 'icon': '13n'}], 'clouds': {'all': 93}, 'wind': {'speed': 1.81, 'deg': 116, 'gust': 3.21}, 'visibility': 10000, 'pop': 0.23, 'snow': {'3h': 0.22}, 'sys': {'pod': 'n'}, 'dt_txt': '2022-12-12 06:00:00'}, {'dt': 1670835600, 'main': {'temp': -0.62, 'feels_like': -2.65, 'temp_min': -0.62, 'temp_max': -0.62, 'pressure': 1015, 'sea_level': 1015, 'grnd_level': 1010, 'humidity': 89, 'temp_kf': 0}, 'weather': [{'id': 803, 'main': 'Clouds', 'description': 'broken clouds', 'icon': '04d'}], 'clouds': {'all': 65}, 'wind': {'speed': 1.62, 'deg': 109, 'gust': 2.55}, 'visibility': 10000, 'pop': 0, 'sys': {'pod': 'd'}, 'dt_txt': '2022-12-12 09:00:00'}, {'dt': 1670846400, 'main': {'temp': 0.98, 'feels_like': 0.98, 'temp_min': 0.98, 'temp_max': 0.98, 'pressure': 1015, 'sea_level': 1015, 'grnd_level': 1010, 'humidity': 78, 'temp_kf': 0}, 'weather': [{'id': 803, 'main': 'Clouds', 'description': 'broken clouds', 'icon': '04d'}], 'clouds': {'all': 62}, 'wind': {'speed': 1.33, 'deg': 115, 'gust': 1.98}, 'visibility': 10000, 'pop': 0, 'sys': {'pod': 'd'}, 'dt_txt': '2022-12-12 12:00:00'}, {'dt': 1670857200, 'main': {'temp': 1.07, 'feels_like': -0.55, 'temp_min': 1.07, 'temp_max': 1.07, 'pressure': 1015, 'sea_level': 1015, 'grnd_level': 1010, 'humidity': 77, 'temp_kf': 0}, 'weather': [{'id': 801, 'main': 'Clouds', 'description': 'few clouds', 'icon': '02d'}], 'clouds': {'all': 24}, 'wind': {'speed': 1.51, 'deg': 97, 'gust': 2.36}, 'visibility': 10000, 'pop': 0, 'sys': {'pod': 'd'}, 'dt_txt': '2022-12-12 15:00:00'}, {'dt': 1670868000, 'main': {'temp': -0.4, 'feels_like': -0.4, 'temp_min': -0.4, 'temp_max': -0.4, 'pressure': 1016, 'sea_level': 1016, 'grnd_level': 1011, 'humidity': 85, 'temp_kf': 0}, 'weather': [{'id': 801, 'main': 'Clouds', 'description': 'few clouds', 'icon': '02n'}], 'clouds': {'all': 15}, 'wind': {'speed': 1.1, 'deg': 116, 'gust': 1.65}, 'visibility': 10000, 'pop': 0, 'sys': {'pod': 'n'}, 'dt_txt': '2022-12-12 18:00:00'}, {'dt': 1670878800, 'main': {'temp': -0.85, 'feels_like': -2.64, 'temp_min': -0.85, 'temp_max': -0.85, 'pressure': 1015, 'sea_level': 1015, 'grnd_level': 1010, 'humidity': 85, 'temp_kf': 0}, 'weather': [{'id': 800, 'main': 'Clear', 'description': 'clear sky', 'icon': '01n'}], 'clouds': {'all': 7}, 'wind': {'speed': 1.45, 'deg': 83, 'gust': 3}, 'visibility': 10000, 'pop': 0, 'sys': {'pod': 'n'}, 'dt_txt': '2022-12-12 21:00:00'}, {'dt': 1670889600, 'main': {'temp': -1.22, 'feels_like': -1.22, 'temp_min': -1.22, 'temp_max': -1.22, 'pressure': 1016, 'sea_level': 1016, 'grnd_level': 1011, 'humidity': 82, 'temp_kf': 0}, 'weather': [{'id': 800, 'main': 'Clear', 'description': 'clear sky', 'icon': '01n'}], 'clouds': {'all': 7}, 'wind': {'speed': 1.21, 'deg': 95, 'gust': 2.42}, 'visibility': 10000, 'pop': 0, 'sys': {'pod': 'n'}, 'dt_txt': '2022-12-13 00:00:00'}, {'dt': 1670900400, 'main': {'temp': -1.49, 'feels_like': -3.63, 'temp_min': -1.49, 'temp_max': -1.49, 'pressure': 1015, 'sea_level': 1015, 'grnd_level': 1010, 'humidity': 80, 'temp_kf': 0}, 'weather': [{'id': 800, 'main': 'Clear', 'description': 'clear sky', 'icon': '01n'}], 'clouds': {'all': 10}, 'wind': {'speed': 1.61, 'deg': 64, 'gust': 2.98}, 'visibility': 10000, 'pop': 0, 'sys': {'pod': 'n'}, 'dt_txt': '2022-12-13 03:00:00'}], 'city': {'id': 2988507, 'name': 'Paris', 'coord': {'lat': 48.8534, 'lon': 2.3488}, 'country': 'FR', 'population': 2138551, 'timezone': 3600, 'sunrise': 1670484652, 'sunset': 1670514859}}\n"
          ]
        }
      ]
    },
    {
      "cell_type": "code",
      "source": [
        "# forecast_main = forecast_json_data['weather'][0]['main']\n",
        "# forecast_main_description = forecast_json_data['weather'][0]['description']\n",
        "# forecast_temperature = forecast_json_data['main']['temp']\n",
        "# forecast_temperature_feel = forecast_json_data['main']['feels_like']\n",
        "# forecast_temperature_min = forecast_json_data['main']['temp_min']\n",
        "# forecast_temperature_max = forecast_json_data['main']['temp_max']\n",
        "# forecast_pressure = forecast_json_data['main']['pressure']\n",
        "# forecast_humidity = forecast_json_data['main']['humidity']\n",
        "# forecast_visibility = forecast_json_data['visibility']\n",
        "# forecast_wind_speed = forecast_json_data['wind']['speed']\n",
        "# forecast_wind_degree = forecast_json_data['wind']['deg']"
      ],
      "metadata": {
        "id": "5U1fg3wtlOzp"
      },
      "execution_count": 124,
      "outputs": []
    },
    {
      "cell_type": "code",
      "source": [
        "forecast_main = forecast_json_data['list'][0]['main']"
      ],
      "metadata": {
        "id": "0ls9Pu5-lna8"
      },
      "execution_count": 125,
      "outputs": []
    },
    {
      "cell_type": "code",
      "source": [
        "num_forecasts = len(forecast_json_data['list'])\n",
        "num_forecasts"
      ],
      "metadata": {
        "colab": {
          "base_uri": "https://localhost:8080/"
        },
        "id": "vINUmacmlnhs",
        "outputId": "d3aef807-8ff0-4752-f555-32ac8d361f06"
      },
      "execution_count": 126,
      "outputs": [
        {
          "output_type": "execute_result",
          "data": {
            "text/plain": [
              "40"
            ]
          },
          "metadata": {},
          "execution_count": 126
        }
      ]
    },
    {
      "cell_type": "code",
      "source": [
        "forecast_json_data['city']"
      ],
      "metadata": {
        "colab": {
          "base_uri": "https://localhost:8080/"
        },
        "id": "qIOOzmcLlnrF",
        "outputId": "c3eacaf3-e81f-482e-9ede-0cf91082719a"
      },
      "execution_count": 127,
      "outputs": [
        {
          "output_type": "execute_result",
          "data": {
            "text/plain": [
              "{'id': 2988507,\n",
              " 'name': 'Paris',\n",
              " 'coord': {'lat': 48.8534, 'lon': 2.3488},\n",
              " 'country': 'FR',\n",
              " 'population': 2138551,\n",
              " 'timezone': 3600,\n",
              " 'sunrise': 1670484652,\n",
              " 'sunset': 1670514859}"
            ]
          },
          "metadata": {},
          "execution_count": 127
        }
      ]
    },
    {
      "cell_type": "code",
      "source": [
        "df_predictions = pd.DataFrame()"
      ],
      "metadata": {
        "id": "ubnghcZdl9i1"
      },
      "execution_count": 128,
      "outputs": []
    },
    {
      "cell_type": "code",
      "source": [
        "# Creating empty lists\n",
        "prediction_num = 0\n",
        "list_prediction_num = []\n",
        "date_time_prediction = []\n",
        "owm_city_id = []\n",
        "city_name = []\n",
        "latitude = []\n",
        "longitude = []\n",
        "country_name = []\n",
        "population = []\n",
        "timezone = [] # Shift in seconds from UTC\n",
        "sunrise = []\n",
        "sunset = []\n",
        "# Main\n",
        "temp_prediction = []\n",
        "temp_feels_like_prediction = []\n",
        "temp_min_prediction = []\n",
        "temp_max_prediction = []\n",
        "pressure_prediction = []\n",
        "sea_level_prediction = []\n",
        "grnd_level_prediction = []\n",
        "humidity_prediction = []\n",
        "temp_kf_prediction = []\n",
        "# Weather\n",
        "main_weather_prediction = []\n",
        "main_weather_description_prediction = []\n",
        "# Clouds\n",
        "clouds_prediction = []\n",
        "# Wind\n",
        "wind_speed_prediction = []\n",
        "wind_degree_prediction = []"
      ],
      "metadata": {
        "id": "RLc40csyl9sv"
      },
      "execution_count": 129,
      "outputs": []
    },
    {
      "cell_type": "code",
      "source": [
        "# Loop Through the JSON\n",
        "for num_forecasts in forecast_json_data['list']:\n",
        "    df_predictions['prediction_num'] = prediction_num\n",
        "    list_prediction_num.append(prediction_num)\n",
        "    date_time_prediction.append(forecast_json_data['list'][prediction_num]['dt_txt'])\n",
        "    \n",
        "    owm_city_id.append(forecast_json_data['city']['id'])\n",
        "    city_name.append(forecast_json_data['city']['name'])\n",
        "    latitude.append(forecast_json_data['city']['coord']['lat'])\n",
        "    longitude.append(forecast_json_data['city']['coord']['lon'])\n",
        "    country_name.append(forecast_json_data['city']['country'])\n",
        "    population.append(forecast_json_data['city']['population'])\n",
        "    \n",
        "    if forecast_json_data['city']['timezone'] >0 :\n",
        "        timezone.append(\"+\" + str((forecast_json_data['city']['timezone'])/3600))\n",
        "    else:\n",
        "        timezone.append((forecast_json_data['city']['timezone'])/3600)\n",
        "        \n",
        "    sunrise.append(forecast_json_data['city']['sunrise'])\n",
        "    sunset.append(forecast_json_data['city']['sunset'])\n",
        "    \n",
        "    # Main\n",
        "    temp_prediction.append(forecast_json_data['list'][prediction_num]['main']['temp'])\n",
        "    temp_feels_like_prediction.append(forecast_json_data['list'][prediction_num]['main']['feels_like'])\n",
        "    temp_min_prediction.append(forecast_json_data['list'][prediction_num]['main']['temp_min'])\n",
        "    temp_max_prediction.append(forecast_json_data['list'][prediction_num]['main']['temp_max'])\n",
        "    pressure_prediction.append(forecast_json_data['list'][prediction_num]['main']['pressure'])\n",
        "    sea_level_prediction.append(forecast_json_data['list'][prediction_num]['main']['sea_level'])\n",
        "    grnd_level_prediction.append(forecast_json_data['list'][prediction_num]['main']['grnd_level'])\n",
        "    humidity_prediction.append(forecast_json_data['list'][prediction_num]['main']['humidity'])\n",
        "    temp_kf_prediction.append(forecast_json_data['list'][prediction_num]['main']['temp_kf'])\n",
        "    # Weather\n",
        "    main_weather_prediction.append(forecast_json_data['list'][prediction_num]['weather'][0]['main'])\n",
        "    main_weather_description_prediction.append(forecast_json_data['list'][prediction_num]['weather'][0]['description'])\n",
        "    # Clouds\n",
        "    clouds_prediction.append(forecast_json_data['list'][prediction_num]['clouds']['all'])\n",
        "    # Wind\n",
        "    wind_speed_prediction.append(forecast_json_data['list'][prediction_num]['wind']['speed'])\n",
        "    wind_degree_prediction.append(forecast_json_data['list'][prediction_num]['wind']['deg'])\n",
        "    \n",
        "    prediction_num += 1"
      ],
      "metadata": {
        "id": "KZcoWJuWl90T"
      },
      "execution_count": 130,
      "outputs": []
    },
    {
      "cell_type": "code",
      "source": [
        "# Put data into a dataframe\n",
        "df_predictions['prediction_num'] = list_prediction_num\n",
        "df_predictions['date_time_prediction'] = date_time_prediction\n",
        "df_predictions['owm_city_id'] = owm_city_id\n",
        "df_predictions['city_name'] = city_name\n",
        "df_predictions['latitude'] = latitude\n",
        "df_predictions['longitude'] = longitude\n",
        "df_predictions['country_name'] = country_name\n",
        "df_predictions['population'] = population\n",
        "df_predictions['timezone'] = timezone\n",
        "df_predictions['sunrise'] = sunrise\n",
        "df_predictions['sunset'] = sunset\n",
        "\n",
        "    # Main\n",
        "df_predictions['temp_prediction'] = temp_prediction\n",
        "df_predictions['temp_feels_like_prediction'] = temp_feels_like_prediction\n",
        "df_predictions['temp_min_prediction'] = temp_min_prediction\n",
        "df_predictions['temp_max_prediction'] = temp_max_prediction\n",
        "df_predictions['pressure_prediction'] = pressure_prediction\n",
        "df_predictions['sea_level_prediction'] = sea_level_prediction\n",
        "df_predictions['grnd_level_prediction'] = grnd_level_prediction\n",
        "df_predictions['humidity_prediction'] = humidity_prediction\n",
        "df_predictions['temp_kf_prediction'] = temp_kf_prediction\n",
        "    # Weather\n",
        "df_predictions['main_weather_prediction'] = main_weather_prediction\n",
        "df_predictions['main_weather_description_prediction'] = main_weather_description_prediction\n",
        "    # Clouds\n",
        "df_predictions['clouds_prediction'] = clouds_prediction\n",
        "    # Wind\n",
        "df_predictions['wind_speed_prediction'] = wind_speed_prediction\n",
        "df_predictions['wind_degree_prediction'] = wind_degree_prediction"
      ],
      "metadata": {
        "id": "02wtYoo9mSBP"
      },
      "execution_count": 131,
      "outputs": []
    },
    {
      "cell_type": "code",
      "source": [
        "df_predictions.head()"
      ],
      "metadata": {
        "colab": {
          "base_uri": "https://localhost:8080/",
          "height": 270
        },
        "id": "6l-OT2ilmSFo",
        "outputId": "ec6f575d-665f-49c0-d4f3-b9ec57c60bc3"
      },
      "execution_count": 132,
      "outputs": [
        {
          "output_type": "execute_result",
          "data": {
            "text/plain": [
              "   prediction_num date_time_prediction  owm_city_id city_name  latitude  \\\n",
              "0               0  2022-12-08 06:00:00      2988507     Paris   48.8534   \n",
              "1               1  2022-12-08 09:00:00      2988507     Paris   48.8534   \n",
              "2               2  2022-12-08 12:00:00      2988507     Paris   48.8534   \n",
              "3               3  2022-12-08 15:00:00      2988507     Paris   48.8534   \n",
              "4               4  2022-12-08 18:00:00      2988507     Paris   48.8534   \n",
              "\n",
              "   longitude country_name  population timezone     sunrise      sunset  \\\n",
              "0     2.3488           FR     2138551     +1.0  1670484652  1670514859   \n",
              "1     2.3488           FR     2138551     +1.0  1670484652  1670514859   \n",
              "2     2.3488           FR     2138551     +1.0  1670484652  1670514859   \n",
              "3     2.3488           FR     2138551     +1.0  1670484652  1670514859   \n",
              "4     2.3488           FR     2138551     +1.0  1670484652  1670514859   \n",
              "\n",
              "   temp_prediction  temp_feels_like_prediction  temp_min_prediction  \\\n",
              "0             2.51                        2.51                 2.51   \n",
              "1             2.96                        2.96                 2.96   \n",
              "2             4.20                        3.19                 4.20   \n",
              "3             4.86                        3.50                 4.86   \n",
              "4             4.02                        1.83                 4.02   \n",
              "\n",
              "   temp_max_prediction  pressure_prediction  sea_level_prediction  \\\n",
              "0                 3.71                 1012                  1012   \n",
              "1                 3.86                 1012                  1012   \n",
              "2                 5.05                 1011                  1011   \n",
              "3                 4.86                 1009                  1009   \n",
              "4                 4.02                 1009                  1009   \n",
              "\n",
              "   grnd_level_prediction  humidity_prediction  temp_kf_prediction  \\\n",
              "0                   1007                   95               -1.20   \n",
              "1                   1006                   91               -0.90   \n",
              "2                   1005                   79               -0.85   \n",
              "3                   1004                   65                0.00   \n",
              "4                   1004                   68                0.00   \n",
              "\n",
              "  main_weather_prediction main_weather_description_prediction  \\\n",
              "0                    Rain                          light rain   \n",
              "1                    Rain                          light rain   \n",
              "2                  Clouds                       broken clouds   \n",
              "3                  Clouds                     overcast clouds   \n",
              "4                  Clouds                     overcast clouds   \n",
              "\n",
              "   clouds_prediction  wind_speed_prediction  wind_degree_prediction  \n",
              "0                100                   0.38                      28  \n",
              "1                 91                   0.23                      22  \n",
              "2                 83                   1.39                       8  \n",
              "3                 99                   1.73                      21  \n",
              "4                 99                   2.40                      42  "
            ],
            "text/html": [
              "\n",
              "  <div id=\"df-580a8cf9-10d3-4984-995a-26f15e6c981f\">\n",
              "    <div class=\"colab-df-container\">\n",
              "      <div>\n",
              "<style scoped>\n",
              "    .dataframe tbody tr th:only-of-type {\n",
              "        vertical-align: middle;\n",
              "    }\n",
              "\n",
              "    .dataframe tbody tr th {\n",
              "        vertical-align: top;\n",
              "    }\n",
              "\n",
              "    .dataframe thead th {\n",
              "        text-align: right;\n",
              "    }\n",
              "</style>\n",
              "<table border=\"1\" class=\"dataframe\">\n",
              "  <thead>\n",
              "    <tr style=\"text-align: right;\">\n",
              "      <th></th>\n",
              "      <th>prediction_num</th>\n",
              "      <th>date_time_prediction</th>\n",
              "      <th>owm_city_id</th>\n",
              "      <th>city_name</th>\n",
              "      <th>latitude</th>\n",
              "      <th>longitude</th>\n",
              "      <th>country_name</th>\n",
              "      <th>population</th>\n",
              "      <th>timezone</th>\n",
              "      <th>sunrise</th>\n",
              "      <th>sunset</th>\n",
              "      <th>temp_prediction</th>\n",
              "      <th>temp_feels_like_prediction</th>\n",
              "      <th>temp_min_prediction</th>\n",
              "      <th>temp_max_prediction</th>\n",
              "      <th>pressure_prediction</th>\n",
              "      <th>sea_level_prediction</th>\n",
              "      <th>grnd_level_prediction</th>\n",
              "      <th>humidity_prediction</th>\n",
              "      <th>temp_kf_prediction</th>\n",
              "      <th>main_weather_prediction</th>\n",
              "      <th>main_weather_description_prediction</th>\n",
              "      <th>clouds_prediction</th>\n",
              "      <th>wind_speed_prediction</th>\n",
              "      <th>wind_degree_prediction</th>\n",
              "    </tr>\n",
              "  </thead>\n",
              "  <tbody>\n",
              "    <tr>\n",
              "      <th>0</th>\n",
              "      <td>0</td>\n",
              "      <td>2022-12-08 06:00:00</td>\n",
              "      <td>2988507</td>\n",
              "      <td>Paris</td>\n",
              "      <td>48.8534</td>\n",
              "      <td>2.3488</td>\n",
              "      <td>FR</td>\n",
              "      <td>2138551</td>\n",
              "      <td>+1.0</td>\n",
              "      <td>1670484652</td>\n",
              "      <td>1670514859</td>\n",
              "      <td>2.51</td>\n",
              "      <td>2.51</td>\n",
              "      <td>2.51</td>\n",
              "      <td>3.71</td>\n",
              "      <td>1012</td>\n",
              "      <td>1012</td>\n",
              "      <td>1007</td>\n",
              "      <td>95</td>\n",
              "      <td>-1.20</td>\n",
              "      <td>Rain</td>\n",
              "      <td>light rain</td>\n",
              "      <td>100</td>\n",
              "      <td>0.38</td>\n",
              "      <td>28</td>\n",
              "    </tr>\n",
              "    <tr>\n",
              "      <th>1</th>\n",
              "      <td>1</td>\n",
              "      <td>2022-12-08 09:00:00</td>\n",
              "      <td>2988507</td>\n",
              "      <td>Paris</td>\n",
              "      <td>48.8534</td>\n",
              "      <td>2.3488</td>\n",
              "      <td>FR</td>\n",
              "      <td>2138551</td>\n",
              "      <td>+1.0</td>\n",
              "      <td>1670484652</td>\n",
              "      <td>1670514859</td>\n",
              "      <td>2.96</td>\n",
              "      <td>2.96</td>\n",
              "      <td>2.96</td>\n",
              "      <td>3.86</td>\n",
              "      <td>1012</td>\n",
              "      <td>1012</td>\n",
              "      <td>1006</td>\n",
              "      <td>91</td>\n",
              "      <td>-0.90</td>\n",
              "      <td>Rain</td>\n",
              "      <td>light rain</td>\n",
              "      <td>91</td>\n",
              "      <td>0.23</td>\n",
              "      <td>22</td>\n",
              "    </tr>\n",
              "    <tr>\n",
              "      <th>2</th>\n",
              "      <td>2</td>\n",
              "      <td>2022-12-08 12:00:00</td>\n",
              "      <td>2988507</td>\n",
              "      <td>Paris</td>\n",
              "      <td>48.8534</td>\n",
              "      <td>2.3488</td>\n",
              "      <td>FR</td>\n",
              "      <td>2138551</td>\n",
              "      <td>+1.0</td>\n",
              "      <td>1670484652</td>\n",
              "      <td>1670514859</td>\n",
              "      <td>4.20</td>\n",
              "      <td>3.19</td>\n",
              "      <td>4.20</td>\n",
              "      <td>5.05</td>\n",
              "      <td>1011</td>\n",
              "      <td>1011</td>\n",
              "      <td>1005</td>\n",
              "      <td>79</td>\n",
              "      <td>-0.85</td>\n",
              "      <td>Clouds</td>\n",
              "      <td>broken clouds</td>\n",
              "      <td>83</td>\n",
              "      <td>1.39</td>\n",
              "      <td>8</td>\n",
              "    </tr>\n",
              "    <tr>\n",
              "      <th>3</th>\n",
              "      <td>3</td>\n",
              "      <td>2022-12-08 15:00:00</td>\n",
              "      <td>2988507</td>\n",
              "      <td>Paris</td>\n",
              "      <td>48.8534</td>\n",
              "      <td>2.3488</td>\n",
              "      <td>FR</td>\n",
              "      <td>2138551</td>\n",
              "      <td>+1.0</td>\n",
              "      <td>1670484652</td>\n",
              "      <td>1670514859</td>\n",
              "      <td>4.86</td>\n",
              "      <td>3.50</td>\n",
              "      <td>4.86</td>\n",
              "      <td>4.86</td>\n",
              "      <td>1009</td>\n",
              "      <td>1009</td>\n",
              "      <td>1004</td>\n",
              "      <td>65</td>\n",
              "      <td>0.00</td>\n",
              "      <td>Clouds</td>\n",
              "      <td>overcast clouds</td>\n",
              "      <td>99</td>\n",
              "      <td>1.73</td>\n",
              "      <td>21</td>\n",
              "    </tr>\n",
              "    <tr>\n",
              "      <th>4</th>\n",
              "      <td>4</td>\n",
              "      <td>2022-12-08 18:00:00</td>\n",
              "      <td>2988507</td>\n",
              "      <td>Paris</td>\n",
              "      <td>48.8534</td>\n",
              "      <td>2.3488</td>\n",
              "      <td>FR</td>\n",
              "      <td>2138551</td>\n",
              "      <td>+1.0</td>\n",
              "      <td>1670484652</td>\n",
              "      <td>1670514859</td>\n",
              "      <td>4.02</td>\n",
              "      <td>1.83</td>\n",
              "      <td>4.02</td>\n",
              "      <td>4.02</td>\n",
              "      <td>1009</td>\n",
              "      <td>1009</td>\n",
              "      <td>1004</td>\n",
              "      <td>68</td>\n",
              "      <td>0.00</td>\n",
              "      <td>Clouds</td>\n",
              "      <td>overcast clouds</td>\n",
              "      <td>99</td>\n",
              "      <td>2.40</td>\n",
              "      <td>42</td>\n",
              "    </tr>\n",
              "  </tbody>\n",
              "</table>\n",
              "</div>\n",
              "      <button class=\"colab-df-convert\" onclick=\"convertToInteractive('df-580a8cf9-10d3-4984-995a-26f15e6c981f')\"\n",
              "              title=\"Convert this dataframe to an interactive table.\"\n",
              "              style=\"display:none;\">\n",
              "        \n",
              "  <svg xmlns=\"http://www.w3.org/2000/svg\" height=\"24px\"viewBox=\"0 0 24 24\"\n",
              "       width=\"24px\">\n",
              "    <path d=\"M0 0h24v24H0V0z\" fill=\"none\"/>\n",
              "    <path d=\"M18.56 5.44l.94 2.06.94-2.06 2.06-.94-2.06-.94-.94-2.06-.94 2.06-2.06.94zm-11 1L8.5 8.5l.94-2.06 2.06-.94-2.06-.94L8.5 2.5l-.94 2.06-2.06.94zm10 10l.94 2.06.94-2.06 2.06-.94-2.06-.94-.94-2.06-.94 2.06-2.06.94z\"/><path d=\"M17.41 7.96l-1.37-1.37c-.4-.4-.92-.59-1.43-.59-.52 0-1.04.2-1.43.59L10.3 9.45l-7.72 7.72c-.78.78-.78 2.05 0 2.83L4 21.41c.39.39.9.59 1.41.59.51 0 1.02-.2 1.41-.59l7.78-7.78 2.81-2.81c.8-.78.8-2.07 0-2.86zM5.41 20L4 18.59l7.72-7.72 1.47 1.35L5.41 20z\"/>\n",
              "  </svg>\n",
              "      </button>\n",
              "      \n",
              "  <style>\n",
              "    .colab-df-container {\n",
              "      display:flex;\n",
              "      flex-wrap:wrap;\n",
              "      gap: 12px;\n",
              "    }\n",
              "\n",
              "    .colab-df-convert {\n",
              "      background-color: #E8F0FE;\n",
              "      border: none;\n",
              "      border-radius: 50%;\n",
              "      cursor: pointer;\n",
              "      display: none;\n",
              "      fill: #1967D2;\n",
              "      height: 32px;\n",
              "      padding: 0 0 0 0;\n",
              "      width: 32px;\n",
              "    }\n",
              "\n",
              "    .colab-df-convert:hover {\n",
              "      background-color: #E2EBFA;\n",
              "      box-shadow: 0px 1px 2px rgba(60, 64, 67, 0.3), 0px 1px 3px 1px rgba(60, 64, 67, 0.15);\n",
              "      fill: #174EA6;\n",
              "    }\n",
              "\n",
              "    [theme=dark] .colab-df-convert {\n",
              "      background-color: #3B4455;\n",
              "      fill: #D2E3FC;\n",
              "    }\n",
              "\n",
              "    [theme=dark] .colab-df-convert:hover {\n",
              "      background-color: #434B5C;\n",
              "      box-shadow: 0px 1px 3px 1px rgba(0, 0, 0, 0.15);\n",
              "      filter: drop-shadow(0px 1px 2px rgba(0, 0, 0, 0.3));\n",
              "      fill: #FFFFFF;\n",
              "    }\n",
              "  </style>\n",
              "\n",
              "      <script>\n",
              "        const buttonEl =\n",
              "          document.querySelector('#df-580a8cf9-10d3-4984-995a-26f15e6c981f button.colab-df-convert');\n",
              "        buttonEl.style.display =\n",
              "          google.colab.kernel.accessAllowed ? 'block' : 'none';\n",
              "\n",
              "        async function convertToInteractive(key) {\n",
              "          const element = document.querySelector('#df-580a8cf9-10d3-4984-995a-26f15e6c981f');\n",
              "          const dataTable =\n",
              "            await google.colab.kernel.invokeFunction('convertToInteractive',\n",
              "                                                     [key], {});\n",
              "          if (!dataTable) return;\n",
              "\n",
              "          const docLinkHtml = 'Like what you see? Visit the ' +\n",
              "            '<a target=\"_blank\" href=https://colab.research.google.com/notebooks/data_table.ipynb>data table notebook</a>'\n",
              "            + ' to learn more about interactive tables.';\n",
              "          element.innerHTML = '';\n",
              "          dataTable['output_type'] = 'display_data';\n",
              "          await google.colab.output.renderOutput(dataTable, element);\n",
              "          const docLink = document.createElement('div');\n",
              "          docLink.innerHTML = docLinkHtml;\n",
              "          element.appendChild(docLink);\n",
              "        }\n",
              "      </script>\n",
              "    </div>\n",
              "  </div>\n",
              "  "
            ]
          },
          "metadata": {},
          "execution_count": 132
        }
      ]
    },
    {
      "cell_type": "code",
      "source": [
        "City_API_endpoint = \"http://api.openweathermap.org/data/2.5/weather?q=\"\n",
        "City = \"Tours\"\n",
        "Country = \",FR,\"\n",
        "join_key = \"&appid=\" + \"e356e0f2bdc13904d0e62d5bf769987b\"\n",
        "units = \"&units=metric\""
      ],
      "metadata": {
        "id": "jKgZc15ImSQn"
      },
      "execution_count": 135,
      "outputs": []
    },
    {
      "cell_type": "code",
      "source": [
        "current_city_weather = City_API_endpoint + City + Country + join_key + units"
      ],
      "metadata": {
        "id": "MWMuyUUlmST-"
      },
      "execution_count": 136,
      "outputs": []
    },
    {
      "cell_type": "code",
      "source": [
        "print(current_city_weather)"
      ],
      "metadata": {
        "colab": {
          "base_uri": "https://localhost:8080/"
        },
        "id": "j7cy8j8sDdWk",
        "outputId": "765d64b7-4ce5-405a-bb7f-0013140da110"
      },
      "execution_count": 137,
      "outputs": [
        {
          "output_type": "stream",
          "name": "stdout",
          "text": [
            "http://api.openweathermap.org/data/2.5/weather?q=Tours,FR,&appid=e356e0f2bdc13904d0e62d5bf769987b&units=metric\n"
          ]
        }
      ]
    },
    {
      "cell_type": "code",
      "source": [
        "json_data = requests.get(current_city_weather).json()"
      ],
      "metadata": {
        "id": "8X-hSqqKDda7"
      },
      "execution_count": 138,
      "outputs": []
    },
    {
      "cell_type": "code",
      "source": [
        "print(json_data)"
      ],
      "metadata": {
        "colab": {
          "base_uri": "https://localhost:8080/"
        },
        "id": "oZCzJ4OrDde1",
        "outputId": "a8cc98ee-9165-4af4-8646-e7e237f0f38c"
      },
      "execution_count": 139,
      "outputs": [
        {
          "output_type": "stream",
          "name": "stdout",
          "text": [
            "{'coord': {'lon': 0.6667, 'lat': 47.4167}, 'weather': [{'id': 701, 'main': 'Mist', 'description': 'mist', 'icon': '50n'}], 'base': 'stations', 'main': {'temp': 1.03, 'feels_like': -2.34, 'temp_min': 0.79, 'temp_max': 1.03, 'pressure': 1012, 'humidity': 100}, 'visibility': 5000, 'wind': {'speed': 3.09, 'deg': 60}, 'clouds': {'all': 100}, 'dt': 1670476229, 'sys': {'type': 1, 'id': 6537, 'country': 'FR', 'sunrise': 1670484704, 'sunset': 1670515614}, 'timezone': 3600, 'id': 2972190, 'name': 'Arrondissement de Tours', 'cod': 200}\n"
          ]
        }
      ]
    },
    {
      "cell_type": "code",
      "source": [
        "df_all_current_weather = pd.DataFrame()\n",
        "prediction_num = 0"
      ],
      "metadata": {
        "id": "3vPNrHC4Ddif"
      },
      "execution_count": 140,
      "outputs": []
    },
    {
      "cell_type": "code",
      "source": [
        "# Create empty lists to store the JSON Data\n",
        "current_weather_id = []\n",
        "current_time = []\n",
        "own_city_id = []\n",
        "city = []\n",
        "latitude = []\n",
        "longitude = []\n",
        "country = []\n",
        "timezone = []\n",
        "sunrise = []\n",
        "sunset = []\n",
        "temperature = []\n",
        "temperature_feel = []\n",
        "temperature_min = []\n",
        "temperature_max = []\n",
        "pressure = []\n",
        "humidity = []\n",
        "main = []\n",
        "main_description = []\n",
        "clouds = []\n",
        "wind_speed = []\n",
        "wind_degree = []\n",
        "visibility = []"
      ],
      "metadata": {
        "id": "C7IyBWyODdmZ"
      },
      "execution_count": 141,
      "outputs": []
    },
    {
      "cell_type": "code",
      "source": [
        "# Add JSON Data to the lists\n",
        "prediction_num +=1\n",
        "current_weather_id.append(prediction_num + 1)\n",
        "current_time.append(pd.Timestamp.now())\n",
        "own_city_id.append(json_data['id'])\n",
        "city.append(json_data['name'])\n",
        "latitude.append(json_data['coord']['lat'])\n",
        "longitude.append(json_data['coord']['lon'])\n",
        "country.append(json_data['sys']['country'])\n",
        "if json_data['timezone'] >0 :\n",
        "    timezone.append((\"+\" + str((json_data['timezone'])/3600)))\n",
        "else:\n",
        "    timezone.append(((json_data['timezone'])/3600))\n",
        "sunrise.append(json_data['sys']['sunrise'])\n",
        "sunset.append(json_data['sys']['sunset'])\n",
        "temperature.append(json_data['main']['temp'])\n",
        "temperature_feel.append(json_data['main']['feels_like'])\n",
        "temperature_min.append(json_data['main']['temp_min'])\n",
        "temperature_max.append(json_data['main']['temp_max'])\n",
        "pressure.append(json_data['main']['pressure'])\n",
        "humidity.append(json_data['main']['humidity'])\n",
        "main.append(json_data['weather'][0]['main'])\n",
        "main_description.append(json_data['weather'][0]['description'])\n",
        "clouds.append(json_data['clouds']['all'])\n",
        "wind_speed.append(json_data['wind']['speed'])\n",
        "wind_degree.append(json_data['wind']['deg'])\n",
        "visibility.append(json_data['visibility'])"
      ],
      "metadata": {
        "id": "GRU5z3idDdpg"
      },
      "execution_count": 142,
      "outputs": []
    },
    {
      "cell_type": "code",
      "source": [
        "# Write Lists to DataFrame\n",
        "df_all_current_weather['current_weather_id'] = current_weather_id\n",
        "df_all_current_weather['current_time'] = current_time\n",
        "df_all_current_weather['own_city_id'] = own_city_id\n",
        "df_all_current_weather['city'] = city\n",
        "df_all_current_weather['latitude'] = latitude\n",
        "df_all_current_weather['longitude'] = longitude\n",
        "df_all_current_weather['country'] = country\n",
        "df_all_current_weather['timezone'] = timezone\n",
        "df_all_current_weather['sunrise'] = sunrise\n",
        "df_all_current_weather['sunset'] = sunset\n",
        "df_all_current_weather['temperature'] = temperature\n",
        "df_all_current_weather['temperature_feel'] = temperature_feel\n",
        "df_all_current_weather['temperature_min'] = temperature_min\n",
        "df_all_current_weather['temperature_max'] = temperature_max\n",
        "df_all_current_weather['pressure'] = pressure\n",
        "df_all_current_weather['humidity'] = humidity\n",
        "df_all_current_weather['main'] = main\n",
        "df_all_current_weather['main_description'] = main_description\n",
        "df_all_current_weather['clouds'] = clouds\n",
        "df_all_current_weather['wind_speed'] = wind_speed\n",
        "df_all_current_weather['wind_degree'] = wind_degree\n",
        "df_all_current_weather['visibility'] = visibility"
      ],
      "metadata": {
        "id": "jXms_74-DdtK"
      },
      "execution_count": 143,
      "outputs": []
    },
    {
      "cell_type": "code",
      "source": [
        "df_all_current_weather.head(5)"
      ],
      "metadata": {
        "colab": {
          "base_uri": "https://localhost:8080/",
          "height": 162
        },
        "id": "Bvhq46InUs6v",
        "outputId": "8efdf18b-13f6-4030-d8e3-a4f95bd31a92"
      },
      "execution_count": 144,
      "outputs": [
        {
          "output_type": "execute_result",
          "data": {
            "text/plain": [
              "   current_weather_id               current_time  own_city_id  \\\n",
              "0                   2 2022-12-08 06:00:55.378841      2972190   \n",
              "\n",
              "                      city  latitude  longitude country timezone     sunrise  \\\n",
              "0  Arrondissement de Tours   47.4167     0.6667      FR     +1.0  1670484704   \n",
              "\n",
              "       sunset  temperature  temperature_feel  temperature_min  \\\n",
              "0  1670515614         1.03             -2.34             0.79   \n",
              "\n",
              "   temperature_max  pressure  humidity  main main_description  clouds  \\\n",
              "0             1.03      1012       100  Mist             mist     100   \n",
              "\n",
              "   wind_speed  wind_degree  visibility  \n",
              "0        3.09           60        5000  "
            ],
            "text/html": [
              "\n",
              "  <div id=\"df-cf8bf315-8b9d-4138-aaef-ac57d95aa990\">\n",
              "    <div class=\"colab-df-container\">\n",
              "      <div>\n",
              "<style scoped>\n",
              "    .dataframe tbody tr th:only-of-type {\n",
              "        vertical-align: middle;\n",
              "    }\n",
              "\n",
              "    .dataframe tbody tr th {\n",
              "        vertical-align: top;\n",
              "    }\n",
              "\n",
              "    .dataframe thead th {\n",
              "        text-align: right;\n",
              "    }\n",
              "</style>\n",
              "<table border=\"1\" class=\"dataframe\">\n",
              "  <thead>\n",
              "    <tr style=\"text-align: right;\">\n",
              "      <th></th>\n",
              "      <th>current_weather_id</th>\n",
              "      <th>current_time</th>\n",
              "      <th>own_city_id</th>\n",
              "      <th>city</th>\n",
              "      <th>latitude</th>\n",
              "      <th>longitude</th>\n",
              "      <th>country</th>\n",
              "      <th>timezone</th>\n",
              "      <th>sunrise</th>\n",
              "      <th>sunset</th>\n",
              "      <th>temperature</th>\n",
              "      <th>temperature_feel</th>\n",
              "      <th>temperature_min</th>\n",
              "      <th>temperature_max</th>\n",
              "      <th>pressure</th>\n",
              "      <th>humidity</th>\n",
              "      <th>main</th>\n",
              "      <th>main_description</th>\n",
              "      <th>clouds</th>\n",
              "      <th>wind_speed</th>\n",
              "      <th>wind_degree</th>\n",
              "      <th>visibility</th>\n",
              "    </tr>\n",
              "  </thead>\n",
              "  <tbody>\n",
              "    <tr>\n",
              "      <th>0</th>\n",
              "      <td>2</td>\n",
              "      <td>2022-12-08 06:00:55.378841</td>\n",
              "      <td>2972190</td>\n",
              "      <td>Arrondissement de Tours</td>\n",
              "      <td>47.4167</td>\n",
              "      <td>0.6667</td>\n",
              "      <td>FR</td>\n",
              "      <td>+1.0</td>\n",
              "      <td>1670484704</td>\n",
              "      <td>1670515614</td>\n",
              "      <td>1.03</td>\n",
              "      <td>-2.34</td>\n",
              "      <td>0.79</td>\n",
              "      <td>1.03</td>\n",
              "      <td>1012</td>\n",
              "      <td>100</td>\n",
              "      <td>Mist</td>\n",
              "      <td>mist</td>\n",
              "      <td>100</td>\n",
              "      <td>3.09</td>\n",
              "      <td>60</td>\n",
              "      <td>5000</td>\n",
              "    </tr>\n",
              "  </tbody>\n",
              "</table>\n",
              "</div>\n",
              "      <button class=\"colab-df-convert\" onclick=\"convertToInteractive('df-cf8bf315-8b9d-4138-aaef-ac57d95aa990')\"\n",
              "              title=\"Convert this dataframe to an interactive table.\"\n",
              "              style=\"display:none;\">\n",
              "        \n",
              "  <svg xmlns=\"http://www.w3.org/2000/svg\" height=\"24px\"viewBox=\"0 0 24 24\"\n",
              "       width=\"24px\">\n",
              "    <path d=\"M0 0h24v24H0V0z\" fill=\"none\"/>\n",
              "    <path d=\"M18.56 5.44l.94 2.06.94-2.06 2.06-.94-2.06-.94-.94-2.06-.94 2.06-2.06.94zm-11 1L8.5 8.5l.94-2.06 2.06-.94-2.06-.94L8.5 2.5l-.94 2.06-2.06.94zm10 10l.94 2.06.94-2.06 2.06-.94-2.06-.94-.94-2.06-.94 2.06-2.06.94z\"/><path d=\"M17.41 7.96l-1.37-1.37c-.4-.4-.92-.59-1.43-.59-.52 0-1.04.2-1.43.59L10.3 9.45l-7.72 7.72c-.78.78-.78 2.05 0 2.83L4 21.41c.39.39.9.59 1.41.59.51 0 1.02-.2 1.41-.59l7.78-7.78 2.81-2.81c.8-.78.8-2.07 0-2.86zM5.41 20L4 18.59l7.72-7.72 1.47 1.35L5.41 20z\"/>\n",
              "  </svg>\n",
              "      </button>\n",
              "      \n",
              "  <style>\n",
              "    .colab-df-container {\n",
              "      display:flex;\n",
              "      flex-wrap:wrap;\n",
              "      gap: 12px;\n",
              "    }\n",
              "\n",
              "    .colab-df-convert {\n",
              "      background-color: #E8F0FE;\n",
              "      border: none;\n",
              "      border-radius: 50%;\n",
              "      cursor: pointer;\n",
              "      display: none;\n",
              "      fill: #1967D2;\n",
              "      height: 32px;\n",
              "      padding: 0 0 0 0;\n",
              "      width: 32px;\n",
              "    }\n",
              "\n",
              "    .colab-df-convert:hover {\n",
              "      background-color: #E2EBFA;\n",
              "      box-shadow: 0px 1px 2px rgba(60, 64, 67, 0.3), 0px 1px 3px 1px rgba(60, 64, 67, 0.15);\n",
              "      fill: #174EA6;\n",
              "    }\n",
              "\n",
              "    [theme=dark] .colab-df-convert {\n",
              "      background-color: #3B4455;\n",
              "      fill: #D2E3FC;\n",
              "    }\n",
              "\n",
              "    [theme=dark] .colab-df-convert:hover {\n",
              "      background-color: #434B5C;\n",
              "      box-shadow: 0px 1px 3px 1px rgba(0, 0, 0, 0.15);\n",
              "      filter: drop-shadow(0px 1px 2px rgba(0, 0, 0, 0.3));\n",
              "      fill: #FFFFFF;\n",
              "    }\n",
              "  </style>\n",
              "\n",
              "      <script>\n",
              "        const buttonEl =\n",
              "          document.querySelector('#df-cf8bf315-8b9d-4138-aaef-ac57d95aa990 button.colab-df-convert');\n",
              "        buttonEl.style.display =\n",
              "          google.colab.kernel.accessAllowed ? 'block' : 'none';\n",
              "\n",
              "        async function convertToInteractive(key) {\n",
              "          const element = document.querySelector('#df-cf8bf315-8b9d-4138-aaef-ac57d95aa990');\n",
              "          const dataTable =\n",
              "            await google.colab.kernel.invokeFunction('convertToInteractive',\n",
              "                                                     [key], {});\n",
              "          if (!dataTable) return;\n",
              "\n",
              "          const docLinkHtml = 'Like what you see? Visit the ' +\n",
              "            '<a target=\"_blank\" href=https://colab.research.google.com/notebooks/data_table.ipynb>data table notebook</a>'\n",
              "            + ' to learn more about interactive tables.';\n",
              "          element.innerHTML = '';\n",
              "          dataTable['output_type'] = 'display_data';\n",
              "          await google.colab.output.renderOutput(dataTable, element);\n",
              "          const docLink = document.createElement('div');\n",
              "          docLink.innerHTML = docLinkHtml;\n",
              "          element.appendChild(docLink);\n",
              "        }\n",
              "      </script>\n",
              "    </div>\n",
              "  </div>\n",
              "  "
            ]
          },
          "metadata": {},
          "execution_count": 144
        }
      ]
    },
    {
      "cell_type": "code",
      "source": [
        "City_API_endpoint = \"http://api.openweathermap.org/data/2.5/forecast?q=\"\n",
        "City = \"Rennes\"\n",
        "Country = \",FR,\"\n",
        "join_key = \"&appid=\" + \"e356e0f2bdc13904d0e62d5bf769987b\"\n",
        "units = \"&units=metric\""
      ],
      "metadata": {
        "id": "9hhkG6NeUtE3"
      },
      "execution_count": 145,
      "outputs": []
    },
    {
      "cell_type": "code",
      "source": [
        "city_forecast = City_API_endpoint + City + Country + join_key + units"
      ],
      "metadata": {
        "id": "x8qo9Ri0UtJR"
      },
      "execution_count": 146,
      "outputs": []
    },
    {
      "cell_type": "code",
      "source": [
        "print(city_forecast)"
      ],
      "metadata": {
        "colab": {
          "base_uri": "https://localhost:8080/"
        },
        "id": "iLEcnexXVGHN",
        "outputId": "2406d2c4-9ecd-49a1-a85c-13c003492964"
      },
      "execution_count": 147,
      "outputs": [
        {
          "output_type": "stream",
          "name": "stdout",
          "text": [
            "http://api.openweathermap.org/data/2.5/forecast?q=Rennes,FR,&appid=e356e0f2bdc13904d0e62d5bf769987b&units=metric\n"
          ]
        }
      ]
    },
    {
      "cell_type": "code",
      "source": [
        "forecast_json_data = requests.get(city_forecast).json()"
      ],
      "metadata": {
        "id": "KgssepSkVGRX"
      },
      "execution_count": 148,
      "outputs": []
    },
    {
      "cell_type": "code",
      "source": [
        "print (forecast_json_data)"
      ],
      "metadata": {
        "colab": {
          "base_uri": "https://localhost:8080/"
        },
        "id": "Fe3TRV_pVGVP",
        "outputId": "103fdb8b-5199-4c51-941c-90e57268ff1e"
      },
      "execution_count": 149,
      "outputs": [
        {
          "output_type": "stream",
          "name": "stdout",
          "text": [
            "{'cod': '200', 'message': 0, 'cnt': 40, 'list': [{'dt': 1670490000, 'main': {'temp': -0.74, 'feels_like': -3.83, 'temp_min': -0.74, 'temp_max': 1.73, 'pressure': 1013, 'sea_level': 1013, 'grnd_level': 1008, 'humidity': 96, 'temp_kf': -2.47}, 'weather': [{'id': 803, 'main': 'Clouds', 'description': 'broken clouds', 'icon': '04d'}], 'clouds': {'all': 70}, 'wind': {'speed': 2.44, 'deg': 37, 'gust': 4.63}, 'visibility': 10000, 'pop': 0, 'sys': {'pod': 'd'}, 'dt_txt': '2022-12-08 09:00:00'}, {'dt': 1670500800, 'main': {'temp': 3.13, 'feels_like': -0.07, 'temp_min': 3.13, 'temp_max': 5.69, 'pressure': 1011, 'sea_level': 1011, 'grnd_level': 1006, 'humidity': 79, 'temp_kf': -2.56}, 'weather': [{'id': 802, 'main': 'Clouds', 'description': 'scattered clouds', 'icon': '03d'}], 'clouds': {'all': 40}, 'wind': {'speed': 3.44, 'deg': 42, 'gust': 4.53}, 'visibility': 10000, 'pop': 0, 'sys': {'pod': 'd'}, 'dt_txt': '2022-12-08 12:00:00'}, {'dt': 1670511600, 'main': {'temp': 5.54, 'feels_like': 3.02, 'temp_min': 5.54, 'temp_max': 5.54, 'pressure': 1008, 'sea_level': 1008, 'grnd_level': 1004, 'humidity': 67, 'temp_kf': 0}, 'weather': [{'id': 802, 'main': 'Clouds', 'description': 'scattered clouds', 'icon': '03d'}], 'clouds': {'all': 36}, 'wind': {'speed': 3.2, 'deg': 32, 'gust': 4.79}, 'visibility': 10000, 'pop': 0, 'sys': {'pod': 'd'}, 'dt_txt': '2022-12-08 15:00:00'}, {'dt': 1670522400, 'main': {'temp': 1.7, 'feels_like': -1.62, 'temp_min': 1.7, 'temp_max': 1.7, 'pressure': 1008, 'sea_level': 1008, 'grnd_level': 1004, 'humidity': 85, 'temp_kf': 0}, 'weather': [{'id': 802, 'main': 'Clouds', 'description': 'scattered clouds', 'icon': '03n'}], 'clouds': {'all': 32}, 'wind': {'speed': 3.2, 'deg': 36, 'gust': 5.27}, 'visibility': 10000, 'pop': 0, 'sys': {'pod': 'n'}, 'dt_txt': '2022-12-08 18:00:00'}, {'dt': 1670533200, 'main': {'temp': 0.48, 'feels_like': -2.95, 'temp_min': 0.48, 'temp_max': 0.48, 'pressure': 1008, 'sea_level': 1008, 'grnd_level': 1004, 'humidity': 92, 'temp_kf': 0}, 'weather': [{'id': 800, 'main': 'Clear', 'description': 'clear sky', 'icon': '01n'}], 'clouds': {'all': 7}, 'wind': {'speed': 3.03, 'deg': 57, 'gust': 5.2}, 'visibility': 10000, 'pop': 0, 'sys': {'pod': 'n'}, 'dt_txt': '2022-12-08 21:00:00'}, {'dt': 1670544000, 'main': {'temp': -0.28, 'feels_like': -4, 'temp_min': -0.28, 'temp_max': -0.28, 'pressure': 1008, 'sea_level': 1008, 'grnd_level': 1004, 'humidity': 94, 'temp_kf': 0}, 'weather': [{'id': 800, 'main': 'Clear', 'description': 'clear sky', 'icon': '01n'}], 'clouds': {'all': 8}, 'wind': {'speed': 3.19, 'deg': 52, 'gust': 6.23}, 'visibility': 10000, 'pop': 0, 'sys': {'pod': 'n'}, 'dt_txt': '2022-12-09 00:00:00'}, {'dt': 1670554800, 'main': {'temp': -1.08, 'feels_like': -4.81, 'temp_min': -1.08, 'temp_max': -1.08, 'pressure': 1007, 'sea_level': 1007, 'grnd_level': 1003, 'humidity': 92, 'temp_kf': 0}, 'weather': [{'id': 800, 'main': 'Clear', 'description': 'clear sky', 'icon': '01n'}], 'clouds': {'all': 8}, 'wind': {'speed': 3.01, 'deg': 50, 'gust': 5.8}, 'visibility': 10000, 'pop': 0, 'sys': {'pod': 'n'}, 'dt_txt': '2022-12-09 03:00:00'}, {'dt': 1670565600, 'main': {'temp': -1.44, 'feels_like': -5.35, 'temp_min': -1.44, 'temp_max': -1.44, 'pressure': 1007, 'sea_level': 1007, 'grnd_level': 1003, 'humidity': 89, 'temp_kf': 0}, 'weather': [{'id': 800, 'main': 'Clear', 'description': 'clear sky', 'icon': '01n'}], 'clouds': {'all': 8}, 'wind': {'speed': 3.13, 'deg': 37, 'gust': 5.62}, 'visibility': 10000, 'pop': 0, 'sys': {'pod': 'n'}, 'dt_txt': '2022-12-09 06:00:00'}, {'dt': 1670576400, 'main': {'temp': -0.12, 'feels_like': -3.62, 'temp_min': -0.12, 'temp_max': -0.12, 'pressure': 1007, 'sea_level': 1007, 'grnd_level': 1003, 'humidity': 82, 'temp_kf': 0}, 'weather': [{'id': 800, 'main': 'Clear', 'description': 'clear sky', 'icon': '01d'}], 'clouds': {'all': 8}, 'wind': {'speed': 2.97, 'deg': 44, 'gust': 8.07}, 'visibility': 10000, 'pop': 0, 'sys': {'pod': 'd'}, 'dt_txt': '2022-12-09 09:00:00'}, {'dt': 1670587200, 'main': {'temp': 4.85, 'feels_like': 1.7, 'temp_min': 4.85, 'temp_max': 4.85, 'pressure': 1007, 'sea_level': 1007, 'grnd_level': 1003, 'humidity': 57, 'temp_kf': 0}, 'weather': [{'id': 800, 'main': 'Clear', 'description': 'clear sky', 'icon': '01d'}], 'clouds': {'all': 5}, 'wind': {'speed': 3.96, 'deg': 55, 'gust': 6.14}, 'visibility': 10000, 'pop': 0, 'sys': {'pod': 'd'}, 'dt_txt': '2022-12-09 12:00:00'}, {'dt': 1670598000, 'main': {'temp': 4.41, 'feels_like': 1.9, 'temp_min': 4.41, 'temp_max': 4.41, 'pressure': 1006, 'sea_level': 1006, 'grnd_level': 1002, 'humidity': 62, 'temp_kf': 0}, 'weather': [{'id': 800, 'main': 'Clear', 'description': 'clear sky', 'icon': '01d'}], 'clouds': {'all': 4}, 'wind': {'speed': 2.86, 'deg': 24, 'gust': 4.72}, 'visibility': 10000, 'pop': 0, 'sys': {'pod': 'd'}, 'dt_txt': '2022-12-09 15:00:00'}, {'dt': 1670608800, 'main': {'temp': 0.26, 'feels_like': -3.06, 'temp_min': 0.26, 'temp_max': 0.26, 'pressure': 1008, 'sea_level': 1008, 'grnd_level': 1004, 'humidity': 86, 'temp_kf': 0}, 'weather': [{'id': 800, 'main': 'Clear', 'description': 'clear sky', 'icon': '01n'}], 'clouds': {'all': 6}, 'wind': {'speed': 2.86, 'deg': 15, 'gust': 3.02}, 'visibility': 10000, 'pop': 0, 'sys': {'pod': 'n'}, 'dt_txt': '2022-12-09 18:00:00'}, {'dt': 1670619600, 'main': {'temp': -0.54, 'feels_like': -3.39, 'temp_min': -0.54, 'temp_max': -0.54, 'pressure': 1009, 'sea_level': 1009, 'grnd_level': 1005, 'humidity': 91, 'temp_kf': 0}, 'weather': [{'id': 800, 'main': 'Clear', 'description': 'clear sky', 'icon': '01n'}], 'clouds': {'all': 7}, 'wind': {'speed': 2.25, 'deg': 33, 'gust': 2.22}, 'visibility': 10000, 'pop': 0, 'sys': {'pod': 'n'}, 'dt_txt': '2022-12-09 21:00:00'}, {'dt': 1670630400, 'main': {'temp': -1.13, 'feels_like': -3.19, 'temp_min': -1.13, 'temp_max': -1.13, 'pressure': 1009, 'sea_level': 1009, 'grnd_level': 1005, 'humidity': 91, 'temp_kf': 0}, 'weather': [{'id': 800, 'main': 'Clear', 'description': 'clear sky', 'icon': '01n'}], 'clouds': {'all': 8}, 'wind': {'speed': 1.59, 'deg': 31, 'gust': 1.57}, 'visibility': 10000, 'pop': 0, 'sys': {'pod': 'n'}, 'dt_txt': '2022-12-10 00:00:00'}, {'dt': 1670641200, 'main': {'temp': -1.28, 'feels_like': -1.28, 'temp_min': -1.28, 'temp_max': -1.28, 'pressure': 1010, 'sea_level': 1010, 'grnd_level': 1006, 'humidity': 88, 'temp_kf': 0}, 'weather': [{'id': 800, 'main': 'Clear', 'description': 'clear sky', 'icon': '01n'}], 'clouds': {'all': 10}, 'wind': {'speed': 1.05, 'deg': 346, 'gust': 1.06}, 'visibility': 10000, 'pop': 0.05, 'sys': {'pod': 'n'}, 'dt_txt': '2022-12-10 03:00:00'}, {'dt': 1670652000, 'main': {'temp': -1.19, 'feels_like': -3.4, 'temp_min': -1.19, 'temp_max': -1.19, 'pressure': 1010, 'sea_level': 1010, 'grnd_level': 1006, 'humidity': 90, 'temp_kf': 0}, 'weather': [{'id': 801, 'main': 'Clouds', 'description': 'few clouds', 'icon': '02n'}], 'clouds': {'all': 12}, 'wind': {'speed': 1.68, 'deg': 299, 'gust': 1.68}, 'visibility': 10000, 'pop': 0.05, 'sys': {'pod': 'n'}, 'dt_txt': '2022-12-10 06:00:00'}, {'dt': 1670662800, 'main': {'temp': 0.3, 'feels_like': -1.25, 'temp_min': 0.3, 'temp_max': 0.3, 'pressure': 1011, 'sea_level': 1011, 'grnd_level': 1007, 'humidity': 86, 'temp_kf': 0}, 'weather': [{'id': 801, 'main': 'Clouds', 'description': 'few clouds', 'icon': '02d'}], 'clouds': {'all': 23}, 'wind': {'speed': 1.4, 'deg': 287, 'gust': 1.46}, 'visibility': 10000, 'pop': 0.03, 'sys': {'pod': 'd'}, 'dt_txt': '2022-12-10 09:00:00'}, {'dt': 1670673600, 'main': {'temp': 4.79, 'feels_like': 3.46, 'temp_min': 4.79, 'temp_max': 4.79, 'pressure': 1011, 'sea_level': 1011, 'grnd_level': 1007, 'humidity': 67, 'temp_kf': 0}, 'weather': [{'id': 801, 'main': 'Clouds', 'description': 'few clouds', 'icon': '02d'}], 'clouds': {'all': 17}, 'wind': {'speed': 1.7, 'deg': 292, 'gust': 2.25}, 'visibility': 10000, 'pop': 0.04, 'sys': {'pod': 'd'}, 'dt_txt': '2022-12-10 12:00:00'}, {'dt': 1670684400, 'main': {'temp': 4.27, 'feels_like': 4.27, 'temp_min': 4.27, 'temp_max': 4.27, 'pressure': 1011, 'sea_level': 1011, 'grnd_level': 1007, 'humidity': 70, 'temp_kf': 0}, 'weather': [{'id': 800, 'main': 'Clear', 'description': 'clear sky', 'icon': '01d'}], 'clouds': {'all': 9}, 'wind': {'speed': 0.8, 'deg': 279, 'gust': 0.89}, 'visibility': 10000, 'pop': 0.1, 'sys': {'pod': 'd'}, 'dt_txt': '2022-12-10 15:00:00'}, {'dt': 1670695200, 'main': {'temp': 0.41, 'feels_like': 0.41, 'temp_min': 0.41, 'temp_max': 0.41, 'pressure': 1012, 'sea_level': 1012, 'grnd_level': 1008, 'humidity': 81, 'temp_kf': 0}, 'weather': [{'id': 801, 'main': 'Clouds', 'description': 'few clouds', 'icon': '02n'}], 'clouds': {'all': 23}, 'wind': {'speed': 1.2, 'deg': 194, 'gust': 1.25}, 'visibility': 10000, 'pop': 0.1, 'sys': {'pod': 'n'}, 'dt_txt': '2022-12-10 18:00:00'}, {'dt': 1670706000, 'main': {'temp': -0.86, 'feels_like': -0.86, 'temp_min': -0.86, 'temp_max': -0.86, 'pressure': 1013, 'sea_level': 1013, 'grnd_level': 1009, 'humidity': 85, 'temp_kf': 0}, 'weather': [{'id': 800, 'main': 'Clear', 'description': 'clear sky', 'icon': '01n'}], 'clouds': {'all': 5}, 'wind': {'speed': 1.29, 'deg': 201, 'gust': 1.33}, 'visibility': 10000, 'pop': 0, 'sys': {'pod': 'n'}, 'dt_txt': '2022-12-10 21:00:00'}, {'dt': 1670716800, 'main': {'temp': -1.39, 'feels_like': -4.57, 'temp_min': -1.39, 'temp_max': -1.39, 'pressure': 1013, 'sea_level': 1013, 'grnd_level': 1009, 'humidity': 88, 'temp_kf': 0}, 'weather': [{'id': 800, 'main': 'Clear', 'description': 'clear sky', 'icon': '01n'}], 'clouds': {'all': 7}, 'wind': {'speed': 2.41, 'deg': 204, 'gust': 2.35}, 'visibility': 10000, 'pop': 0, 'sys': {'pod': 'n'}, 'dt_txt': '2022-12-11 00:00:00'}, {'dt': 1670727600, 'main': {'temp': -1.73, 'feels_like': -4.84, 'temp_min': -1.73, 'temp_max': -1.73, 'pressure': 1013, 'sea_level': 1013, 'grnd_level': 1009, 'humidity': 88, 'temp_kf': 0}, 'weather': [{'id': 801, 'main': 'Clouds', 'description': 'few clouds', 'icon': '02n'}], 'clouds': {'all': 11}, 'wind': {'speed': 2.3, 'deg': 174, 'gust': 2.25}, 'visibility': 10000, 'pop': 0, 'sys': {'pod': 'n'}, 'dt_txt': '2022-12-11 03:00:00'}, {'dt': 1670738400, 'main': {'temp': -2.16, 'feels_like': -6.22, 'temp_min': -2.16, 'temp_max': -2.16, 'pressure': 1013, 'sea_level': 1013, 'grnd_level': 1009, 'humidity': 92, 'temp_kf': 0}, 'weather': [{'id': 800, 'main': 'Clear', 'description': 'clear sky', 'icon': '01n'}], 'clouds': {'all': 10}, 'wind': {'speed': 3.13, 'deg': 179, 'gust': 4.75}, 'visibility': 10000, 'pop': 0, 'sys': {'pod': 'n'}, 'dt_txt': '2022-12-11 06:00:00'}, {'dt': 1670749200, 'main': {'temp': -0.75, 'feels_like': -4.35, 'temp_min': -0.75, 'temp_max': -0.75, 'pressure': 1014, 'sea_level': 1014, 'grnd_level': 1009, 'humidity': 86, 'temp_kf': 0}, 'weather': [{'id': 804, 'main': 'Clouds', 'description': 'overcast clouds', 'icon': '04d'}], 'clouds': {'all': 100}, 'wind': {'speed': 2.94, 'deg': 176, 'gust': 6.44}, 'visibility': 10000, 'pop': 0, 'sys': {'pod': 'd'}, 'dt_txt': '2022-12-11 09:00:00'}, {'dt': 1670760000, 'main': {'temp': 4.26, 'feels_like': 0.81, 'temp_min': 4.26, 'temp_max': 4.26, 'pressure': 1013, 'sea_level': 1013, 'grnd_level': 1009, 'humidity': 64, 'temp_kf': 0}, 'weather': [{'id': 803, 'main': 'Clouds', 'description': 'broken clouds', 'icon': '04d'}], 'clouds': {'all': 70}, 'wind': {'speed': 4.25, 'deg': 193, 'gust': 5.87}, 'visibility': 10000, 'pop': 0, 'sys': {'pod': 'd'}, 'dt_txt': '2022-12-11 12:00:00'}, {'dt': 1670770800, 'main': {'temp': 4.27, 'feels_like': 1.55, 'temp_min': 4.27, 'temp_max': 4.27, 'pressure': 1012, 'sea_level': 1012, 'grnd_level': 1008, 'humidity': 66, 'temp_kf': 0}, 'weather': [{'id': 803, 'main': 'Clouds', 'description': 'broken clouds', 'icon': '04d'}], 'clouds': {'all': 68}, 'wind': {'speed': 3.11, 'deg': 190, 'gust': 5.01}, 'visibility': 10000, 'pop': 0.07, 'sys': {'pod': 'd'}, 'dt_txt': '2022-12-11 15:00:00'}, {'dt': 1670781600, 'main': {'temp': 0.27, 'feels_like': -3.31, 'temp_min': 0.27, 'temp_max': 0.27, 'pressure': 1013, 'sea_level': 1013, 'grnd_level': 1008, 'humidity': 81, 'temp_kf': 0}, 'weather': [{'id': 803, 'main': 'Clouds', 'description': 'broken clouds', 'icon': '04n'}], 'clouds': {'all': 78}, 'wind': {'speed': 3.16, 'deg': 197, 'gust': 5.28}, 'visibility': 10000, 'pop': 0.2, 'sys': {'pod': 'n'}, 'dt_txt': '2022-12-11 18:00:00'}, {'dt': 1670792400, 'main': {'temp': -0.8, 'feels_like': -4.15, 'temp_min': -0.8, 'temp_max': -0.8, 'pressure': 1013, 'sea_level': 1013, 'grnd_level': 1009, 'humidity': 92, 'temp_kf': 0}, 'weather': [{'id': 600, 'main': 'Snow', 'description': 'light snow', 'icon': '13n'}, {'id': 511, 'main': 'Rain', 'description': 'freezing rain', 'icon': '13n'}], 'clouds': {'all': 80}, 'wind': {'speed': 2.67, 'deg': 215, 'gust': 3.27}, 'visibility': 10000, 'pop': 0.39, 'snow': {'3h': 0.19}, 'sys': {'pod': 'n'}, 'dt_txt': '2022-12-11 21:00:00'}, {'dt': 1670803200, 'main': {'temp': -0.54, 'feels_like': -2.62, 'temp_min': -0.54, 'temp_max': -0.54, 'pressure': 1014, 'sea_level': 1014, 'grnd_level': 1010, 'humidity': 94, 'temp_kf': 0}, 'weather': [{'id': 600, 'main': 'Snow', 'description': 'light snow', 'icon': '13n'}, {'id': 511, 'main': 'Rain', 'description': 'freezing rain', 'icon': '13n'}], 'clouds': {'all': 85}, 'wind': {'speed': 1.66, 'deg': 244, 'gust': 1.74}, 'visibility': 10000, 'pop': 0.32, 'snow': {'3h': 0.1}, 'sys': {'pod': 'n'}, 'dt_txt': '2022-12-12 00:00:00'}, {'dt': 1670814000, 'main': {'temp': -0.95, 'feels_like': -0.95, 'temp_min': -0.95, 'temp_max': -0.95, 'pressure': 1014, 'sea_level': 1014, 'grnd_level': 1010, 'humidity': 93, 'temp_kf': 0}, 'weather': [{'id': 804, 'main': 'Clouds', 'description': 'overcast clouds', 'icon': '04n'}], 'clouds': {'all': 89}, 'wind': {'speed': 0.25, 'deg': 110, 'gust': 0.65}, 'visibility': 10000, 'pop': 0.02, 'sys': {'pod': 'n'}, 'dt_txt': '2022-12-12 03:00:00'}, {'dt': 1670824800, 'main': {'temp': -1.35, 'feels_like': -1.35, 'temp_min': -1.35, 'temp_max': -1.35, 'pressure': 1015, 'sea_level': 1015, 'grnd_level': 1011, 'humidity': 92, 'temp_kf': 0}, 'weather': [{'id': 803, 'main': 'Clouds', 'description': 'broken clouds', 'icon': '04n'}], 'clouds': {'all': 54}, 'wind': {'speed': 0.58, 'deg': 42, 'gust': 0.63}, 'visibility': 10000, 'pop': 0.02, 'sys': {'pod': 'n'}, 'dt_txt': '2022-12-12 06:00:00'}, {'dt': 1670835600, 'main': {'temp': -0.07, 'feels_like': -0.07, 'temp_min': -0.07, 'temp_max': -0.07, 'pressure': 1016, 'sea_level': 1016, 'grnd_level': 1012, 'humidity': 86, 'temp_kf': 0}, 'weather': [{'id': 801, 'main': 'Clouds', 'description': 'few clouds', 'icon': '02d'}], 'clouds': {'all': 11}, 'wind': {'speed': 1.19, 'deg': 25, 'gust': 1.42}, 'visibility': 10000, 'pop': 0, 'sys': {'pod': 'd'}, 'dt_txt': '2022-12-12 09:00:00'}, {'dt': 1670846400, 'main': {'temp': 4.61, 'feels_like': 2.51, 'temp_min': 4.61, 'temp_max': 4.61, 'pressure': 1016, 'sea_level': 1016, 'grnd_level': 1012, 'humidity': 68, 'temp_kf': 0}, 'weather': [{'id': 800, 'main': 'Clear', 'description': 'clear sky', 'icon': '01d'}], 'clouds': {'all': 9}, 'wind': {'speed': 2.42, 'deg': 318, 'gust': 4.22}, 'visibility': 10000, 'pop': 0, 'sys': {'pod': 'd'}, 'dt_txt': '2022-12-12 12:00:00'}, {'dt': 1670857200, 'main': {'temp': 3.86, 'feels_like': 1.7, 'temp_min': 3.86, 'temp_max': 3.86, 'pressure': 1015, 'sea_level': 1015, 'grnd_level': 1011, 'humidity': 78, 'temp_kf': 0}, 'weather': [{'id': 801, 'main': 'Clouds', 'description': 'few clouds', 'icon': '02d'}], 'clouds': {'all': 16}, 'wind': {'speed': 2.34, 'deg': 21, 'gust': 3.88}, 'visibility': 10000, 'pop': 0, 'sys': {'pod': 'd'}, 'dt_txt': '2022-12-12 15:00:00'}, {'dt': 1670868000, 'main': {'temp': -1.33, 'feels_like': -6, 'temp_min': -1.33, 'temp_max': -1.33, 'pressure': 1015, 'sea_level': 1015, 'grnd_level': 1011, 'humidity': 93, 'temp_kf': 0}, 'weather': [{'id': 801, 'main': 'Clouds', 'description': 'few clouds', 'icon': '02n'}], 'clouds': {'all': 17}, 'wind': {'speed': 4.12, 'deg': 67, 'gust': 9.34}, 'visibility': 10000, 'pop': 0, 'sys': {'pod': 'n'}, 'dt_txt': '2022-12-12 18:00:00'}, {'dt': 1670878800, 'main': {'temp': -1.95, 'feels_like': -6.6, 'temp_min': -1.95, 'temp_max': -1.95, 'pressure': 1016, 'sea_level': 1016, 'grnd_level': 1011, 'humidity': 93, 'temp_kf': 0}, 'weather': [{'id': 802, 'main': 'Clouds', 'description': 'scattered clouds', 'icon': '03n'}], 'clouds': {'all': 45}, 'wind': {'speed': 3.9, 'deg': 74, 'gust': 10.68}, 'visibility': 10000, 'pop': 0, 'sys': {'pod': 'n'}, 'dt_txt': '2022-12-12 21:00:00'}, {'dt': 1670889600, 'main': {'temp': 0.13, 'feels_like': -5.26, 'temp_min': 0.13, 'temp_max': 0.13, 'pressure': 1015, 'sea_level': 1015, 'grnd_level': 1011, 'humidity': 82, 'temp_kf': 0}, 'weather': [{'id': 803, 'main': 'Clouds', 'description': 'broken clouds', 'icon': '04n'}], 'clouds': {'all': 72}, 'wind': {'speed': 5.94, 'deg': 99, 'gust': 10.78}, 'visibility': 10000, 'pop': 0, 'sys': {'pod': 'n'}, 'dt_txt': '2022-12-13 00:00:00'}, {'dt': 1670900400, 'main': {'temp': -2.92, 'feels_like': -8.22, 'temp_min': -2.92, 'temp_max': -2.92, 'pressure': 1015, 'sea_level': 1015, 'grnd_level': 1011, 'humidity': 94, 'temp_kf': 0}, 'weather': [{'id': 804, 'main': 'Clouds', 'description': 'overcast clouds', 'icon': '04n'}], 'clouds': {'all': 86}, 'wind': {'speed': 4.48, 'deg': 89, 'gust': 11.58}, 'visibility': 10000, 'pop': 0, 'sys': {'pod': 'n'}, 'dt_txt': '2022-12-13 03:00:00'}, {'dt': 1670911200, 'main': {'temp': -2.3, 'feels_like': -8.06, 'temp_min': -2.3, 'temp_max': -2.3, 'pressure': 1014, 'sea_level': 1014, 'grnd_level': 1010, 'humidity': 80, 'temp_kf': 0}, 'weather': [{'id': 804, 'main': 'Clouds', 'description': 'overcast clouds', 'icon': '04n'}], 'clouds': {'all': 88}, 'wind': {'speed': 5.44, 'deg': 89, 'gust': 13.65}, 'visibility': 10000, 'pop': 0, 'sys': {'pod': 'n'}, 'dt_txt': '2022-12-13 06:00:00'}], 'city': {'id': 2983989, 'name': 'Arrondissement de Rennes', 'coord': {'lat': 48.1667, 'lon': -1.6667}, 'country': 'FR', 'population': 539984, 'timezone': 3600, 'sunrise': 1670485445, 'sunset': 1670515993}}\n"
          ]
        }
      ]
    },
    {
      "cell_type": "code",
      "source": [
        "# forecast_main = forecast_json_data['weather'][0]['main']\n",
        "# forecast_main_description = forecast_json_data['weather'][0]['description']\n",
        "# forecast_temperature = forecast_json_data['main']['temp']\n",
        "# forecast_temperature_feel = forecast_json_data['main']['feels_like']\n",
        "# forecast_temperature_min = forecast_json_data['main']['temp_min']\n",
        "# forecast_temperature_max = forecast_json_data['main']['temp_max']\n",
        "# forecast_pressure = forecast_json_data['main']['pressure']\n",
        "# forecast_humidity = forecast_json_data['main']['humidity']\n",
        "# forecast_visibility = forecast_json_data['visibility']\n",
        "# forecast_wind_speed = forecast_json_data['wind']['speed']\n",
        "# forecast_wind_degree = forecast_json_data['wind']['deg']"
      ],
      "metadata": {
        "id": "rKGemYuyVGZZ"
      },
      "execution_count": 150,
      "outputs": []
    },
    {
      "cell_type": "code",
      "source": [
        "forecast_main = forecast_json_data['list'][0]['main']"
      ],
      "metadata": {
        "id": "CcJW2tDDVGdV"
      },
      "execution_count": 151,
      "outputs": []
    },
    {
      "cell_type": "code",
      "source": [
        "num_forecasts = len(forecast_json_data['list'])\n",
        "num_forecasts"
      ],
      "metadata": {
        "colab": {
          "base_uri": "https://localhost:8080/"
        },
        "id": "-x5hLQtOVGgs",
        "outputId": "fa477688-1aae-4564-ad6e-324b1fb51e55"
      },
      "execution_count": 152,
      "outputs": [
        {
          "output_type": "execute_result",
          "data": {
            "text/plain": [
              "40"
            ]
          },
          "metadata": {},
          "execution_count": 152
        }
      ]
    },
    {
      "cell_type": "code",
      "source": [
        "forecast_json_data['city']"
      ],
      "metadata": {
        "colab": {
          "base_uri": "https://localhost:8080/"
        },
        "id": "w9TA8YE8VGkF",
        "outputId": "96bfd851-5a1d-44a2-d2f2-eb3820ffc1e8"
      },
      "execution_count": 153,
      "outputs": [
        {
          "output_type": "execute_result",
          "data": {
            "text/plain": [
              "{'id': 2983989,\n",
              " 'name': 'Arrondissement de Rennes',\n",
              " 'coord': {'lat': 48.1667, 'lon': -1.6667},\n",
              " 'country': 'FR',\n",
              " 'population': 539984,\n",
              " 'timezone': 3600,\n",
              " 'sunrise': 1670485445,\n",
              " 'sunset': 1670515993}"
            ]
          },
          "metadata": {},
          "execution_count": 153
        }
      ]
    },
    {
      "cell_type": "code",
      "source": [
        "df_predictions = pd.DataFrame()"
      ],
      "metadata": {
        "id": "N6p448YjVGoP"
      },
      "execution_count": 154,
      "outputs": []
    },
    {
      "cell_type": "code",
      "source": [
        "# Creating empty lists\n",
        "prediction_num = 0\n",
        "list_prediction_num = []\n",
        "date_time_prediction = []\n",
        "owm_city_id = []\n",
        "city_name = []\n",
        "latitude = []\n",
        "longitude = []\n",
        "country_name = []\n",
        "population = []\n",
        "timezone = [] # Shift in seconds from UTC\n",
        "sunrise = []\n",
        "sunset = []\n",
        "# Main\n",
        "temp_prediction = []\n",
        "temp_feels_like_prediction = []\n",
        "temp_min_prediction = []\n",
        "temp_max_prediction = []\n",
        "pressure_prediction = []\n",
        "sea_level_prediction = []\n",
        "grnd_level_prediction = []\n",
        "humidity_prediction = []\n",
        "temp_kf_prediction = []\n",
        "# Weather\n",
        "main_weather_prediction = []\n",
        "main_weather_description_prediction = []\n",
        "# Clouds\n",
        "clouds_prediction = []\n",
        "# Wind\n",
        "wind_speed_prediction = []\n",
        "wind_degree_prediction = []"
      ],
      "metadata": {
        "id": "7aRPcqS3VGro"
      },
      "execution_count": 155,
      "outputs": []
    },
    {
      "cell_type": "code",
      "source": [
        "# Loop Through the JSON\n",
        "for num_forecasts in forecast_json_data['list']:\n",
        "    df_predictions['prediction_num'] = prediction_num\n",
        "    list_prediction_num.append(prediction_num)\n",
        "    date_time_prediction.append(forecast_json_data['list'][prediction_num]['dt_txt'])\n",
        "    \n",
        "    owm_city_id.append(forecast_json_data['city']['id'])\n",
        "    city_name.append(forecast_json_data['city']['name'])\n",
        "    latitude.append(forecast_json_data['city']['coord']['lat'])\n",
        "    longitude.append(forecast_json_data['city']['coord']['lon'])\n",
        "    country_name.append(forecast_json_data['city']['country'])\n",
        "    population.append(forecast_json_data['city']['population'])\n",
        "    \n",
        "    if forecast_json_data['city']['timezone'] >0 :\n",
        "        timezone.append(\"+\" + str((forecast_json_data['city']['timezone'])/3600))\n",
        "    else:\n",
        "        timezone.append((forecast_json_data['city']['timezone'])/3600)\n",
        "        \n",
        "    sunrise.append(forecast_json_data['city']['sunrise'])\n",
        "    sunset.append(forecast_json_data['city']['sunset'])\n",
        "    \n",
        "    # Main\n",
        "    temp_prediction.append(forecast_json_data['list'][prediction_num]['main']['temp'])\n",
        "    temp_feels_like_prediction.append(forecast_json_data['list'][prediction_num]['main']['feels_like'])\n",
        "    temp_min_prediction.append(forecast_json_data['list'][prediction_num]['main']['temp_min'])\n",
        "    temp_max_prediction.append(forecast_json_data['list'][prediction_num]['main']['temp_max'])\n",
        "    pressure_prediction.append(forecast_json_data['list'][prediction_num]['main']['pressure'])\n",
        "    sea_level_prediction.append(forecast_json_data['list'][prediction_num]['main']['sea_level'])\n",
        "    grnd_level_prediction.append(forecast_json_data['list'][prediction_num]['main']['grnd_level'])\n",
        "    humidity_prediction.append(forecast_json_data['list'][prediction_num]['main']['humidity'])\n",
        "    temp_kf_prediction.append(forecast_json_data['list'][prediction_num]['main']['temp_kf'])\n",
        "    # Weather\n",
        "    main_weather_prediction.append(forecast_json_data['list'][prediction_num]['weather'][0]['main'])\n",
        "    main_weather_description_prediction.append(forecast_json_data['list'][prediction_num]['weather'][0]['description'])\n",
        "    # Clouds\n",
        "    clouds_prediction.append(forecast_json_data['list'][prediction_num]['clouds']['all'])\n",
        "    # Wind\n",
        "    wind_speed_prediction.append(forecast_json_data['list'][prediction_num]['wind']['speed'])\n",
        "    wind_degree_prediction.append(forecast_json_data['list'][prediction_num]['wind']['deg'])\n",
        "    \n",
        "    prediction_num += 1"
      ],
      "metadata": {
        "id": "IzC0IePcUtNL"
      },
      "execution_count": 156,
      "outputs": []
    },
    {
      "cell_type": "code",
      "source": [
        "# Put data into a dataframe\n",
        "df_predictions['prediction_num'] = list_prediction_num\n",
        "df_predictions['date_time_prediction'] = date_time_prediction\n",
        "df_predictions['owm_city_id'] = owm_city_id\n",
        "df_predictions['city_name'] = city_name\n",
        "df_predictions['latitude'] = latitude\n",
        "df_predictions['longitude'] = longitude\n",
        "df_predictions['country_name'] = country_name\n",
        "df_predictions['population'] = population\n",
        "df_predictions['timezone'] = timezone\n",
        "df_predictions['sunrise'] = sunrise\n",
        "df_predictions['sunset'] = sunset\n",
        "\n",
        "    # Main\n",
        "df_predictions['temp_prediction'] = temp_prediction\n",
        "df_predictions['temp_feels_like_prediction'] = temp_feels_like_prediction\n",
        "df_predictions['temp_min_prediction'] = temp_min_prediction\n",
        "df_predictions['temp_max_prediction'] = temp_max_prediction\n",
        "df_predictions['pressure_prediction'] = pressure_prediction\n",
        "df_predictions['sea_level_prediction'] = sea_level_prediction\n",
        "df_predictions['grnd_level_prediction'] = grnd_level_prediction\n",
        "df_predictions['humidity_prediction'] = humidity_prediction\n",
        "df_predictions['temp_kf_prediction'] = temp_kf_prediction\n",
        "    # Weather\n",
        "df_predictions['main_weather_prediction'] = main_weather_prediction\n",
        "df_predictions['main_weather_description_prediction'] = main_weather_description_prediction\n",
        "    # Clouds\n",
        "df_predictions['clouds_prediction'] = clouds_prediction\n",
        "    # Wind\n",
        "df_predictions['wind_speed_prediction'] = wind_speed_prediction\n",
        "df_predictions['wind_degree_prediction'] = wind_degree_prediction"
      ],
      "metadata": {
        "id": "k454fP2EUtQ0"
      },
      "execution_count": 157,
      "outputs": []
    },
    {
      "cell_type": "code",
      "source": [
        "df_predictions.head()"
      ],
      "metadata": {
        "colab": {
          "base_uri": "https://localhost:8080/",
          "height": 357
        },
        "id": "el77jahLZCEb",
        "outputId": "291e01cf-99c5-4733-998b-e6d90892c9d3"
      },
      "execution_count": 158,
      "outputs": [
        {
          "output_type": "execute_result",
          "data": {
            "text/plain": [
              "   prediction_num date_time_prediction  owm_city_id                 city_name  \\\n",
              "0               0  2022-12-08 09:00:00      2983989  Arrondissement de Rennes   \n",
              "1               1  2022-12-08 12:00:00      2983989  Arrondissement de Rennes   \n",
              "2               2  2022-12-08 15:00:00      2983989  Arrondissement de Rennes   \n",
              "3               3  2022-12-08 18:00:00      2983989  Arrondissement de Rennes   \n",
              "4               4  2022-12-08 21:00:00      2983989  Arrondissement de Rennes   \n",
              "\n",
              "   latitude  longitude country_name  population timezone     sunrise  \\\n",
              "0   48.1667    -1.6667           FR      539984     +1.0  1670485445   \n",
              "1   48.1667    -1.6667           FR      539984     +1.0  1670485445   \n",
              "2   48.1667    -1.6667           FR      539984     +1.0  1670485445   \n",
              "3   48.1667    -1.6667           FR      539984     +1.0  1670485445   \n",
              "4   48.1667    -1.6667           FR      539984     +1.0  1670485445   \n",
              "\n",
              "       sunset  temp_prediction  temp_feels_like_prediction  \\\n",
              "0  1670515993            -0.74                       -3.83   \n",
              "1  1670515993             3.13                       -0.07   \n",
              "2  1670515993             5.54                        3.02   \n",
              "3  1670515993             1.70                       -1.62   \n",
              "4  1670515993             0.48                       -2.95   \n",
              "\n",
              "   temp_min_prediction  temp_max_prediction  pressure_prediction  \\\n",
              "0                -0.74                 1.73                 1013   \n",
              "1                 3.13                 5.69                 1011   \n",
              "2                 5.54                 5.54                 1008   \n",
              "3                 1.70                 1.70                 1008   \n",
              "4                 0.48                 0.48                 1008   \n",
              "\n",
              "   sea_level_prediction  grnd_level_prediction  humidity_prediction  \\\n",
              "0                  1013                   1008                   96   \n",
              "1                  1011                   1006                   79   \n",
              "2                  1008                   1004                   67   \n",
              "3                  1008                   1004                   85   \n",
              "4                  1008                   1004                   92   \n",
              "\n",
              "   temp_kf_prediction main_weather_prediction  \\\n",
              "0               -2.47                  Clouds   \n",
              "1               -2.56                  Clouds   \n",
              "2                0.00                  Clouds   \n",
              "3                0.00                  Clouds   \n",
              "4                0.00                   Clear   \n",
              "\n",
              "  main_weather_description_prediction  clouds_prediction  \\\n",
              "0                       broken clouds                 70   \n",
              "1                    scattered clouds                 40   \n",
              "2                    scattered clouds                 36   \n",
              "3                    scattered clouds                 32   \n",
              "4                           clear sky                  7   \n",
              "\n",
              "   wind_speed_prediction  wind_degree_prediction  \n",
              "0                   2.44                      37  \n",
              "1                   3.44                      42  \n",
              "2                   3.20                      32  \n",
              "3                   3.20                      36  \n",
              "4                   3.03                      57  "
            ],
            "text/html": [
              "\n",
              "  <div id=\"df-6e44d195-2192-49c7-97ce-fde3f6da7a0f\">\n",
              "    <div class=\"colab-df-container\">\n",
              "      <div>\n",
              "<style scoped>\n",
              "    .dataframe tbody tr th:only-of-type {\n",
              "        vertical-align: middle;\n",
              "    }\n",
              "\n",
              "    .dataframe tbody tr th {\n",
              "        vertical-align: top;\n",
              "    }\n",
              "\n",
              "    .dataframe thead th {\n",
              "        text-align: right;\n",
              "    }\n",
              "</style>\n",
              "<table border=\"1\" class=\"dataframe\">\n",
              "  <thead>\n",
              "    <tr style=\"text-align: right;\">\n",
              "      <th></th>\n",
              "      <th>prediction_num</th>\n",
              "      <th>date_time_prediction</th>\n",
              "      <th>owm_city_id</th>\n",
              "      <th>city_name</th>\n",
              "      <th>latitude</th>\n",
              "      <th>longitude</th>\n",
              "      <th>country_name</th>\n",
              "      <th>population</th>\n",
              "      <th>timezone</th>\n",
              "      <th>sunrise</th>\n",
              "      <th>sunset</th>\n",
              "      <th>temp_prediction</th>\n",
              "      <th>temp_feels_like_prediction</th>\n",
              "      <th>temp_min_prediction</th>\n",
              "      <th>temp_max_prediction</th>\n",
              "      <th>pressure_prediction</th>\n",
              "      <th>sea_level_prediction</th>\n",
              "      <th>grnd_level_prediction</th>\n",
              "      <th>humidity_prediction</th>\n",
              "      <th>temp_kf_prediction</th>\n",
              "      <th>main_weather_prediction</th>\n",
              "      <th>main_weather_description_prediction</th>\n",
              "      <th>clouds_prediction</th>\n",
              "      <th>wind_speed_prediction</th>\n",
              "      <th>wind_degree_prediction</th>\n",
              "    </tr>\n",
              "  </thead>\n",
              "  <tbody>\n",
              "    <tr>\n",
              "      <th>0</th>\n",
              "      <td>0</td>\n",
              "      <td>2022-12-08 09:00:00</td>\n",
              "      <td>2983989</td>\n",
              "      <td>Arrondissement de Rennes</td>\n",
              "      <td>48.1667</td>\n",
              "      <td>-1.6667</td>\n",
              "      <td>FR</td>\n",
              "      <td>539984</td>\n",
              "      <td>+1.0</td>\n",
              "      <td>1670485445</td>\n",
              "      <td>1670515993</td>\n",
              "      <td>-0.74</td>\n",
              "      <td>-3.83</td>\n",
              "      <td>-0.74</td>\n",
              "      <td>1.73</td>\n",
              "      <td>1013</td>\n",
              "      <td>1013</td>\n",
              "      <td>1008</td>\n",
              "      <td>96</td>\n",
              "      <td>-2.47</td>\n",
              "      <td>Clouds</td>\n",
              "      <td>broken clouds</td>\n",
              "      <td>70</td>\n",
              "      <td>2.44</td>\n",
              "      <td>37</td>\n",
              "    </tr>\n",
              "    <tr>\n",
              "      <th>1</th>\n",
              "      <td>1</td>\n",
              "      <td>2022-12-08 12:00:00</td>\n",
              "      <td>2983989</td>\n",
              "      <td>Arrondissement de Rennes</td>\n",
              "      <td>48.1667</td>\n",
              "      <td>-1.6667</td>\n",
              "      <td>FR</td>\n",
              "      <td>539984</td>\n",
              "      <td>+1.0</td>\n",
              "      <td>1670485445</td>\n",
              "      <td>1670515993</td>\n",
              "      <td>3.13</td>\n",
              "      <td>-0.07</td>\n",
              "      <td>3.13</td>\n",
              "      <td>5.69</td>\n",
              "      <td>1011</td>\n",
              "      <td>1011</td>\n",
              "      <td>1006</td>\n",
              "      <td>79</td>\n",
              "      <td>-2.56</td>\n",
              "      <td>Clouds</td>\n",
              "      <td>scattered clouds</td>\n",
              "      <td>40</td>\n",
              "      <td>3.44</td>\n",
              "      <td>42</td>\n",
              "    </tr>\n",
              "    <tr>\n",
              "      <th>2</th>\n",
              "      <td>2</td>\n",
              "      <td>2022-12-08 15:00:00</td>\n",
              "      <td>2983989</td>\n",
              "      <td>Arrondissement de Rennes</td>\n",
              "      <td>48.1667</td>\n",
              "      <td>-1.6667</td>\n",
              "      <td>FR</td>\n",
              "      <td>539984</td>\n",
              "      <td>+1.0</td>\n",
              "      <td>1670485445</td>\n",
              "      <td>1670515993</td>\n",
              "      <td>5.54</td>\n",
              "      <td>3.02</td>\n",
              "      <td>5.54</td>\n",
              "      <td>5.54</td>\n",
              "      <td>1008</td>\n",
              "      <td>1008</td>\n",
              "      <td>1004</td>\n",
              "      <td>67</td>\n",
              "      <td>0.00</td>\n",
              "      <td>Clouds</td>\n",
              "      <td>scattered clouds</td>\n",
              "      <td>36</td>\n",
              "      <td>3.20</td>\n",
              "      <td>32</td>\n",
              "    </tr>\n",
              "    <tr>\n",
              "      <th>3</th>\n",
              "      <td>3</td>\n",
              "      <td>2022-12-08 18:00:00</td>\n",
              "      <td>2983989</td>\n",
              "      <td>Arrondissement de Rennes</td>\n",
              "      <td>48.1667</td>\n",
              "      <td>-1.6667</td>\n",
              "      <td>FR</td>\n",
              "      <td>539984</td>\n",
              "      <td>+1.0</td>\n",
              "      <td>1670485445</td>\n",
              "      <td>1670515993</td>\n",
              "      <td>1.70</td>\n",
              "      <td>-1.62</td>\n",
              "      <td>1.70</td>\n",
              "      <td>1.70</td>\n",
              "      <td>1008</td>\n",
              "      <td>1008</td>\n",
              "      <td>1004</td>\n",
              "      <td>85</td>\n",
              "      <td>0.00</td>\n",
              "      <td>Clouds</td>\n",
              "      <td>scattered clouds</td>\n",
              "      <td>32</td>\n",
              "      <td>3.20</td>\n",
              "      <td>36</td>\n",
              "    </tr>\n",
              "    <tr>\n",
              "      <th>4</th>\n",
              "      <td>4</td>\n",
              "      <td>2022-12-08 21:00:00</td>\n",
              "      <td>2983989</td>\n",
              "      <td>Arrondissement de Rennes</td>\n",
              "      <td>48.1667</td>\n",
              "      <td>-1.6667</td>\n",
              "      <td>FR</td>\n",
              "      <td>539984</td>\n",
              "      <td>+1.0</td>\n",
              "      <td>1670485445</td>\n",
              "      <td>1670515993</td>\n",
              "      <td>0.48</td>\n",
              "      <td>-2.95</td>\n",
              "      <td>0.48</td>\n",
              "      <td>0.48</td>\n",
              "      <td>1008</td>\n",
              "      <td>1008</td>\n",
              "      <td>1004</td>\n",
              "      <td>92</td>\n",
              "      <td>0.00</td>\n",
              "      <td>Clear</td>\n",
              "      <td>clear sky</td>\n",
              "      <td>7</td>\n",
              "      <td>3.03</td>\n",
              "      <td>57</td>\n",
              "    </tr>\n",
              "  </tbody>\n",
              "</table>\n",
              "</div>\n",
              "      <button class=\"colab-df-convert\" onclick=\"convertToInteractive('df-6e44d195-2192-49c7-97ce-fde3f6da7a0f')\"\n",
              "              title=\"Convert this dataframe to an interactive table.\"\n",
              "              style=\"display:none;\">\n",
              "        \n",
              "  <svg xmlns=\"http://www.w3.org/2000/svg\" height=\"24px\"viewBox=\"0 0 24 24\"\n",
              "       width=\"24px\">\n",
              "    <path d=\"M0 0h24v24H0V0z\" fill=\"none\"/>\n",
              "    <path d=\"M18.56 5.44l.94 2.06.94-2.06 2.06-.94-2.06-.94-.94-2.06-.94 2.06-2.06.94zm-11 1L8.5 8.5l.94-2.06 2.06-.94-2.06-.94L8.5 2.5l-.94 2.06-2.06.94zm10 10l.94 2.06.94-2.06 2.06-.94-2.06-.94-.94-2.06-.94 2.06-2.06.94z\"/><path d=\"M17.41 7.96l-1.37-1.37c-.4-.4-.92-.59-1.43-.59-.52 0-1.04.2-1.43.59L10.3 9.45l-7.72 7.72c-.78.78-.78 2.05 0 2.83L4 21.41c.39.39.9.59 1.41.59.51 0 1.02-.2 1.41-.59l7.78-7.78 2.81-2.81c.8-.78.8-2.07 0-2.86zM5.41 20L4 18.59l7.72-7.72 1.47 1.35L5.41 20z\"/>\n",
              "  </svg>\n",
              "      </button>\n",
              "      \n",
              "  <style>\n",
              "    .colab-df-container {\n",
              "      display:flex;\n",
              "      flex-wrap:wrap;\n",
              "      gap: 12px;\n",
              "    }\n",
              "\n",
              "    .colab-df-convert {\n",
              "      background-color: #E8F0FE;\n",
              "      border: none;\n",
              "      border-radius: 50%;\n",
              "      cursor: pointer;\n",
              "      display: none;\n",
              "      fill: #1967D2;\n",
              "      height: 32px;\n",
              "      padding: 0 0 0 0;\n",
              "      width: 32px;\n",
              "    }\n",
              "\n",
              "    .colab-df-convert:hover {\n",
              "      background-color: #E2EBFA;\n",
              "      box-shadow: 0px 1px 2px rgba(60, 64, 67, 0.3), 0px 1px 3px 1px rgba(60, 64, 67, 0.15);\n",
              "      fill: #174EA6;\n",
              "    }\n",
              "\n",
              "    [theme=dark] .colab-df-convert {\n",
              "      background-color: #3B4455;\n",
              "      fill: #D2E3FC;\n",
              "    }\n",
              "\n",
              "    [theme=dark] .colab-df-convert:hover {\n",
              "      background-color: #434B5C;\n",
              "      box-shadow: 0px 1px 3px 1px rgba(0, 0, 0, 0.15);\n",
              "      filter: drop-shadow(0px 1px 2px rgba(0, 0, 0, 0.3));\n",
              "      fill: #FFFFFF;\n",
              "    }\n",
              "  </style>\n",
              "\n",
              "      <script>\n",
              "        const buttonEl =\n",
              "          document.querySelector('#df-6e44d195-2192-49c7-97ce-fde3f6da7a0f button.colab-df-convert');\n",
              "        buttonEl.style.display =\n",
              "          google.colab.kernel.accessAllowed ? 'block' : 'none';\n",
              "\n",
              "        async function convertToInteractive(key) {\n",
              "          const element = document.querySelector('#df-6e44d195-2192-49c7-97ce-fde3f6da7a0f');\n",
              "          const dataTable =\n",
              "            await google.colab.kernel.invokeFunction('convertToInteractive',\n",
              "                                                     [key], {});\n",
              "          if (!dataTable) return;\n",
              "\n",
              "          const docLinkHtml = 'Like what you see? Visit the ' +\n",
              "            '<a target=\"_blank\" href=https://colab.research.google.com/notebooks/data_table.ipynb>data table notebook</a>'\n",
              "            + ' to learn more about interactive tables.';\n",
              "          element.innerHTML = '';\n",
              "          dataTable['output_type'] = 'display_data';\n",
              "          await google.colab.output.renderOutput(dataTable, element);\n",
              "          const docLink = document.createElement('div');\n",
              "          docLink.innerHTML = docLinkHtml;\n",
              "          element.appendChild(docLink);\n",
              "        }\n",
              "      </script>\n",
              "    </div>\n",
              "  </div>\n",
              "  "
            ]
          },
          "metadata": {},
          "execution_count": 158
        }
      ]
    },
    {
      "cell_type": "code",
      "source": [
        "City_API_endpoint = \"http://api.openweathermap.org/data/2.5/weather?q=\"\n",
        "City = \"Nantes\"\n",
        "Country = \",FR,\"\n",
        "join_key = \"&appid=\" + \"e356e0f2bdc13904d0e62d5bf769987b\"\n",
        "units = \"&units=metric\""
      ],
      "metadata": {
        "id": "I9Z2xAnwZCPV"
      },
      "execution_count": 159,
      "outputs": []
    },
    {
      "cell_type": "code",
      "source": [
        "current_city_weather = City_API_endpoint + City + Country + join_key + units"
      ],
      "metadata": {
        "id": "SNbDdW8fZCTe"
      },
      "execution_count": 160,
      "outputs": []
    },
    {
      "cell_type": "code",
      "source": [
        "print(current_city_weather)"
      ],
      "metadata": {
        "colab": {
          "base_uri": "https://localhost:8080/"
        },
        "id": "ZkuKYChNZCXr",
        "outputId": "4636ff9a-6601-4459-bcb2-f2b26fca4551"
      },
      "execution_count": 161,
      "outputs": [
        {
          "output_type": "stream",
          "name": "stdout",
          "text": [
            "http://api.openweathermap.org/data/2.5/weather?q=Nantes,FR,&appid=e356e0f2bdc13904d0e62d5bf769987b&units=metric\n"
          ]
        }
      ]
    },
    {
      "cell_type": "code",
      "source": [
        "json_data = requests.get(current_city_weather).json()"
      ],
      "metadata": {
        "id": "wePJfBK0ZCbj"
      },
      "execution_count": 162,
      "outputs": []
    },
    {
      "cell_type": "code",
      "source": [
        "print(json_data)"
      ],
      "metadata": {
        "colab": {
          "base_uri": "https://localhost:8080/"
        },
        "id": "rZQERzj5ZCgQ",
        "outputId": "4e011789-e022-4dd5-cb96-219b987d34ad"
      },
      "execution_count": 163,
      "outputs": [
        {
          "output_type": "stream",
          "name": "stdout",
          "text": [
            "{'coord': {'lon': -1.5833, 'lat': 47.1667}, 'weather': [{'id': 701, 'main': 'Mist', 'description': 'mist', 'icon': '50n'}], 'base': 'stations', 'main': {'temp': -0.17, 'feels_like': -4.58, 'temp_min': -1.19, 'temp_max': -0.04, 'pressure': 1011, 'humidity': 100}, 'visibility': 5000, 'wind': {'speed': 4.12, 'deg': 50}, 'clouds': {'all': 100}, 'dt': 1670480532, 'sys': {'type': 1, 'id': 6574, 'country': 'FR', 'sunrise': 1670485186, 'sunset': 1670516213}, 'timezone': 3600, 'id': 2990968, 'name': 'Arrondissement de Nantes', 'cod': 200}\n"
          ]
        }
      ]
    },
    {
      "cell_type": "code",
      "source": [
        "df_all_current_weather = pd.DataFrame()\n",
        "prediction_num = 0"
      ],
      "metadata": {
        "id": "axLR9xb6ZCkI"
      },
      "execution_count": 164,
      "outputs": []
    },
    {
      "cell_type": "code",
      "source": [
        "# Create empty lists to store the JSON Data\n",
        "current_weather_id = []\n",
        "current_time = []\n",
        "own_city_id = []\n",
        "city = []\n",
        "latitude = []\n",
        "longitude = []\n",
        "country = []\n",
        "timezone = []\n",
        "sunrise = []\n",
        "sunset = []\n",
        "temperature = []\n",
        "temperature_feel = []\n",
        "temperature_min = []\n",
        "temperature_max = []\n",
        "pressure = []\n",
        "humidity = []\n",
        "main = []\n",
        "main_description = []\n",
        "clouds = []\n",
        "wind_speed = []\n",
        "wind_degree = []\n",
        "visibility = []"
      ],
      "metadata": {
        "id": "jCqlbMMJZ0Su"
      },
      "execution_count": 165,
      "outputs": []
    },
    {
      "cell_type": "code",
      "source": [
        "# Add JSON Data to the lists\n",
        "prediction_num +=1\n",
        "current_weather_id.append(prediction_num + 1)\n",
        "current_time.append(pd.Timestamp.now())\n",
        "own_city_id.append(json_data['id'])\n",
        "city.append(json_data['name'])\n",
        "latitude.append(json_data['coord']['lat'])\n",
        "longitude.append(json_data['coord']['lon'])\n",
        "country.append(json_data['sys']['country'])\n",
        "if json_data['timezone'] >0 :\n",
        "    timezone.append((\"+\" + str((json_data['timezone'])/3600)))\n",
        "else:\n",
        "    timezone.append(((json_data['timezone'])/3600))\n",
        "sunrise.append(json_data['sys']['sunrise'])\n",
        "sunset.append(json_data['sys']['sunset'])\n",
        "temperature.append(json_data['main']['temp'])\n",
        "temperature_feel.append(json_data['main']['feels_like'])\n",
        "temperature_min.append(json_data['main']['temp_min'])\n",
        "temperature_max.append(json_data['main']['temp_max'])\n",
        "pressure.append(json_data['main']['pressure'])\n",
        "humidity.append(json_data['main']['humidity'])\n",
        "main.append(json_data['weather'][0]['main'])\n",
        "main_description.append(json_data['weather'][0]['description'])\n",
        "clouds.append(json_data['clouds']['all'])\n",
        "wind_speed.append(json_data['wind']['speed'])\n",
        "wind_degree.append(json_data['wind']['deg'])\n",
        "visibility.append(json_data['visibility'])"
      ],
      "metadata": {
        "id": "aU5pv6taZ0cW"
      },
      "execution_count": 166,
      "outputs": []
    },
    {
      "cell_type": "code",
      "source": [
        "# Write Lists to DataFrame\n",
        "df_all_current_weather['current_weather_id'] = current_weather_id\n",
        "df_all_current_weather['current_time'] = current_time\n",
        "df_all_current_weather['own_city_id'] = own_city_id\n",
        "df_all_current_weather['city'] = city\n",
        "df_all_current_weather['latitude'] = latitude\n",
        "df_all_current_weather['longitude'] = longitude\n",
        "df_all_current_weather['country'] = country\n",
        "df_all_current_weather['timezone'] = timezone\n",
        "df_all_current_weather['sunrise'] = sunrise\n",
        "df_all_current_weather['sunset'] = sunset\n",
        "df_all_current_weather['temperature'] = temperature\n",
        "df_all_current_weather['temperature_feel'] = temperature_feel\n",
        "df_all_current_weather['temperature_min'] = temperature_min\n",
        "df_all_current_weather['temperature_max'] = temperature_max\n",
        "df_all_current_weather['pressure'] = pressure\n",
        "df_all_current_weather['humidity'] = humidity\n",
        "df_all_current_weather['main'] = main\n",
        "df_all_current_weather['main_description'] = main_description\n",
        "df_all_current_weather['clouds'] = clouds\n",
        "df_all_current_weather['wind_speed'] = wind_speed\n",
        "df_all_current_weather['wind_degree'] = wind_degree\n",
        "df_all_current_weather['visibility'] = visibility"
      ],
      "metadata": {
        "id": "qT-TGGXEZ0iD"
      },
      "execution_count": 167,
      "outputs": []
    },
    {
      "cell_type": "code",
      "source": [
        "df_all_current_weather.head(5)"
      ],
      "metadata": {
        "colab": {
          "base_uri": "https://localhost:8080/",
          "height": 162
        },
        "id": "hmhX88OZZ0m_",
        "outputId": "532f8d1e-0635-460d-b9a5-30ac0553738a"
      },
      "execution_count": 168,
      "outputs": [
        {
          "output_type": "execute_result",
          "data": {
            "text/plain": [
              "   current_weather_id               current_time  own_city_id  \\\n",
              "0                   2 2022-12-08 06:23:55.642841      2990968   \n",
              "\n",
              "                       city  latitude  longitude country timezone     sunrise  \\\n",
              "0  Arrondissement de Nantes   47.1667    -1.5833      FR     +1.0  1670485186   \n",
              "\n",
              "       sunset  temperature  temperature_feel  temperature_min  \\\n",
              "0  1670516213        -0.17             -4.58            -1.19   \n",
              "\n",
              "   temperature_max  pressure  humidity  main main_description  clouds  \\\n",
              "0            -0.04      1011       100  Mist             mist     100   \n",
              "\n",
              "   wind_speed  wind_degree  visibility  \n",
              "0        4.12           50        5000  "
            ],
            "text/html": [
              "\n",
              "  <div id=\"df-1ed2c7c0-a947-400b-af80-cd40ea001b66\">\n",
              "    <div class=\"colab-df-container\">\n",
              "      <div>\n",
              "<style scoped>\n",
              "    .dataframe tbody tr th:only-of-type {\n",
              "        vertical-align: middle;\n",
              "    }\n",
              "\n",
              "    .dataframe tbody tr th {\n",
              "        vertical-align: top;\n",
              "    }\n",
              "\n",
              "    .dataframe thead th {\n",
              "        text-align: right;\n",
              "    }\n",
              "</style>\n",
              "<table border=\"1\" class=\"dataframe\">\n",
              "  <thead>\n",
              "    <tr style=\"text-align: right;\">\n",
              "      <th></th>\n",
              "      <th>current_weather_id</th>\n",
              "      <th>current_time</th>\n",
              "      <th>own_city_id</th>\n",
              "      <th>city</th>\n",
              "      <th>latitude</th>\n",
              "      <th>longitude</th>\n",
              "      <th>country</th>\n",
              "      <th>timezone</th>\n",
              "      <th>sunrise</th>\n",
              "      <th>sunset</th>\n",
              "      <th>temperature</th>\n",
              "      <th>temperature_feel</th>\n",
              "      <th>temperature_min</th>\n",
              "      <th>temperature_max</th>\n",
              "      <th>pressure</th>\n",
              "      <th>humidity</th>\n",
              "      <th>main</th>\n",
              "      <th>main_description</th>\n",
              "      <th>clouds</th>\n",
              "      <th>wind_speed</th>\n",
              "      <th>wind_degree</th>\n",
              "      <th>visibility</th>\n",
              "    </tr>\n",
              "  </thead>\n",
              "  <tbody>\n",
              "    <tr>\n",
              "      <th>0</th>\n",
              "      <td>2</td>\n",
              "      <td>2022-12-08 06:23:55.642841</td>\n",
              "      <td>2990968</td>\n",
              "      <td>Arrondissement de Nantes</td>\n",
              "      <td>47.1667</td>\n",
              "      <td>-1.5833</td>\n",
              "      <td>FR</td>\n",
              "      <td>+1.0</td>\n",
              "      <td>1670485186</td>\n",
              "      <td>1670516213</td>\n",
              "      <td>-0.17</td>\n",
              "      <td>-4.58</td>\n",
              "      <td>-1.19</td>\n",
              "      <td>-0.04</td>\n",
              "      <td>1011</td>\n",
              "      <td>100</td>\n",
              "      <td>Mist</td>\n",
              "      <td>mist</td>\n",
              "      <td>100</td>\n",
              "      <td>4.12</td>\n",
              "      <td>50</td>\n",
              "      <td>5000</td>\n",
              "    </tr>\n",
              "  </tbody>\n",
              "</table>\n",
              "</div>\n",
              "      <button class=\"colab-df-convert\" onclick=\"convertToInteractive('df-1ed2c7c0-a947-400b-af80-cd40ea001b66')\"\n",
              "              title=\"Convert this dataframe to an interactive table.\"\n",
              "              style=\"display:none;\">\n",
              "        \n",
              "  <svg xmlns=\"http://www.w3.org/2000/svg\" height=\"24px\"viewBox=\"0 0 24 24\"\n",
              "       width=\"24px\">\n",
              "    <path d=\"M0 0h24v24H0V0z\" fill=\"none\"/>\n",
              "    <path d=\"M18.56 5.44l.94 2.06.94-2.06 2.06-.94-2.06-.94-.94-2.06-.94 2.06-2.06.94zm-11 1L8.5 8.5l.94-2.06 2.06-.94-2.06-.94L8.5 2.5l-.94 2.06-2.06.94zm10 10l.94 2.06.94-2.06 2.06-.94-2.06-.94-.94-2.06-.94 2.06-2.06.94z\"/><path d=\"M17.41 7.96l-1.37-1.37c-.4-.4-.92-.59-1.43-.59-.52 0-1.04.2-1.43.59L10.3 9.45l-7.72 7.72c-.78.78-.78 2.05 0 2.83L4 21.41c.39.39.9.59 1.41.59.51 0 1.02-.2 1.41-.59l7.78-7.78 2.81-2.81c.8-.78.8-2.07 0-2.86zM5.41 20L4 18.59l7.72-7.72 1.47 1.35L5.41 20z\"/>\n",
              "  </svg>\n",
              "      </button>\n",
              "      \n",
              "  <style>\n",
              "    .colab-df-container {\n",
              "      display:flex;\n",
              "      flex-wrap:wrap;\n",
              "      gap: 12px;\n",
              "    }\n",
              "\n",
              "    .colab-df-convert {\n",
              "      background-color: #E8F0FE;\n",
              "      border: none;\n",
              "      border-radius: 50%;\n",
              "      cursor: pointer;\n",
              "      display: none;\n",
              "      fill: #1967D2;\n",
              "      height: 32px;\n",
              "      padding: 0 0 0 0;\n",
              "      width: 32px;\n",
              "    }\n",
              "\n",
              "    .colab-df-convert:hover {\n",
              "      background-color: #E2EBFA;\n",
              "      box-shadow: 0px 1px 2px rgba(60, 64, 67, 0.3), 0px 1px 3px 1px rgba(60, 64, 67, 0.15);\n",
              "      fill: #174EA6;\n",
              "    }\n",
              "\n",
              "    [theme=dark] .colab-df-convert {\n",
              "      background-color: #3B4455;\n",
              "      fill: #D2E3FC;\n",
              "    }\n",
              "\n",
              "    [theme=dark] .colab-df-convert:hover {\n",
              "      background-color: #434B5C;\n",
              "      box-shadow: 0px 1px 3px 1px rgba(0, 0, 0, 0.15);\n",
              "      filter: drop-shadow(0px 1px 2px rgba(0, 0, 0, 0.3));\n",
              "      fill: #FFFFFF;\n",
              "    }\n",
              "  </style>\n",
              "\n",
              "      <script>\n",
              "        const buttonEl =\n",
              "          document.querySelector('#df-1ed2c7c0-a947-400b-af80-cd40ea001b66 button.colab-df-convert');\n",
              "        buttonEl.style.display =\n",
              "          google.colab.kernel.accessAllowed ? 'block' : 'none';\n",
              "\n",
              "        async function convertToInteractive(key) {\n",
              "          const element = document.querySelector('#df-1ed2c7c0-a947-400b-af80-cd40ea001b66');\n",
              "          const dataTable =\n",
              "            await google.colab.kernel.invokeFunction('convertToInteractive',\n",
              "                                                     [key], {});\n",
              "          if (!dataTable) return;\n",
              "\n",
              "          const docLinkHtml = 'Like what you see? Visit the ' +\n",
              "            '<a target=\"_blank\" href=https://colab.research.google.com/notebooks/data_table.ipynb>data table notebook</a>'\n",
              "            + ' to learn more about interactive tables.';\n",
              "          element.innerHTML = '';\n",
              "          dataTable['output_type'] = 'display_data';\n",
              "          await google.colab.output.renderOutput(dataTable, element);\n",
              "          const docLink = document.createElement('div');\n",
              "          docLink.innerHTML = docLinkHtml;\n",
              "          element.appendChild(docLink);\n",
              "        }\n",
              "      </script>\n",
              "    </div>\n",
              "  </div>\n",
              "  "
            ]
          },
          "metadata": {},
          "execution_count": 168
        }
      ]
    },
    {
      "cell_type": "code",
      "source": [
        "City_API_endpoint = \"http://api.openweathermap.org/data/2.5/forecast?q=\"\n",
        "City = \"Nantes\"\n",
        "Country = \",FR,\"\n",
        "join_key = \"&appid=\" + \"e356e0f2bdc13904d0e62d5bf769987b\"\n",
        "units = \"&units=metric\""
      ],
      "metadata": {
        "id": "3pEccXPqZ0rK"
      },
      "execution_count": 169,
      "outputs": []
    },
    {
      "cell_type": "code",
      "source": [
        "city_forecast = City_API_endpoint + City + Country + join_key + units"
      ],
      "metadata": {
        "id": "8h-O7QcuZ0vV"
      },
      "execution_count": 170,
      "outputs": []
    },
    {
      "cell_type": "code",
      "source": [
        "print(city_forecast)"
      ],
      "metadata": {
        "colab": {
          "base_uri": "https://localhost:8080/"
        },
        "id": "PwcXjArsZ0zP",
        "outputId": "ad74737d-34e0-470d-cd9f-7ef174741a47"
      },
      "execution_count": 171,
      "outputs": [
        {
          "output_type": "stream",
          "name": "stdout",
          "text": [
            "http://api.openweathermap.org/data/2.5/forecast?q=Nantes,FR,&appid=e356e0f2bdc13904d0e62d5bf769987b&units=metric\n"
          ]
        }
      ]
    },
    {
      "cell_type": "code",
      "source": [
        "forecast_json_data = requests.get(city_forecast).json()"
      ],
      "metadata": {
        "id": "wOBDaIqcZ025"
      },
      "execution_count": 172,
      "outputs": []
    },
    {
      "cell_type": "code",
      "source": [
        "print (forecast_json_data)"
      ],
      "metadata": {
        "colab": {
          "base_uri": "https://localhost:8080/"
        },
        "id": "hvyHHO9TZ06h",
        "outputId": "dc443351-1662-4d70-a288-6e2261466c6f"
      },
      "execution_count": 173,
      "outputs": [
        {
          "output_type": "stream",
          "name": "stdout",
          "text": [
            "{'cod': '200', 'message': 0, 'cnt': 40, 'list': [{'dt': 1670490000, 'main': {'temp': 0.17, 'feels_like': -3.5, 'temp_min': 0.17, 'temp_max': 0.84, 'pressure': 1011, 'sea_level': 1011, 'grnd_level': 1007, 'humidity': 94, 'temp_kf': -0.67}, 'weather': [{'id': 803, 'main': 'Clouds', 'description': 'broken clouds', 'icon': '04d'}], 'clouds': {'all': 68}, 'wind': {'speed': 3.24, 'deg': 60, 'gust': 8.36}, 'visibility': 10000, 'pop': 0, 'sys': {'pod': 'd'}, 'dt_txt': '2022-12-08 09:00:00'}, {'dt': 1670500800, 'main': {'temp': 3.52, 'feels_like': -0.6, 'temp_min': 3.52, 'temp_max': 5.37, 'pressure': 1010, 'sea_level': 1010, 'grnd_level': 1005, 'humidity': 74, 'temp_kf': -1.85}, 'weather': [{'id': 802, 'main': 'Clouds', 'description': 'scattered clouds', 'icon': '03d'}], 'clouds': {'all': 35}, 'wind': {'speed': 5.18, 'deg': 61, 'gust': 7.47}, 'visibility': 10000, 'pop': 0, 'sys': {'pod': 'd'}, 'dt_txt': '2022-12-08 12:00:00'}, {'dt': 1670511600, 'main': {'temp': 4.93, 'feels_like': 1.31, 'temp_min': 4.93, 'temp_max': 4.93, 'pressure': 1007, 'sea_level': 1007, 'grnd_level': 1003, 'humidity': 63, 'temp_kf': 0}, 'weather': [{'id': 800, 'main': 'Clear', 'description': 'clear sky', 'icon': '01d'}], 'clouds': {'all': 7}, 'wind': {'speed': 4.88, 'deg': 52, 'gust': 8.16}, 'visibility': 10000, 'pop': 0, 'sys': {'pod': 'd'}, 'dt_txt': '2022-12-08 15:00:00'}, {'dt': 1670522400, 'main': {'temp': 0.76, 'feels_like': -3.28, 'temp_min': 0.76, 'temp_max': 0.76, 'pressure': 1007, 'sea_level': 1007, 'grnd_level': 1003, 'humidity': 84, 'temp_kf': 0}, 'weather': [{'id': 801, 'main': 'Clouds', 'description': 'few clouds', 'icon': '02n'}], 'clouds': {'all': 13}, 'wind': {'speed': 3.9, 'deg': 47, 'gust': 9.63}, 'visibility': 10000, 'pop': 0, 'sys': {'pod': 'n'}, 'dt_txt': '2022-12-08 18:00:00'}, {'dt': 1670533200, 'main': {'temp': -0.14, 'feels_like': -4.41, 'temp_min': -0.14, 'temp_max': -0.14, 'pressure': 1006, 'sea_level': 1006, 'grnd_level': 1003, 'humidity': 88, 'temp_kf': 0}, 'weather': [{'id': 803, 'main': 'Clouds', 'description': 'broken clouds', 'icon': '04n'}], 'clouds': {'all': 70}, 'wind': {'speed': 3.93, 'deg': 47, 'gust': 10.18}, 'visibility': 10000, 'pop': 0, 'sys': {'pod': 'n'}, 'dt_txt': '2022-12-08 21:00:00'}, {'dt': 1670544000, 'main': {'temp': -0.22, 'feels_like': -4.98, 'temp_min': -0.22, 'temp_max': -0.22, 'pressure': 1006, 'sea_level': 1006, 'grnd_level': 1002, 'humidity': 88, 'temp_kf': 0}, 'weather': [{'id': 803, 'main': 'Clouds', 'description': 'broken clouds', 'icon': '04n'}], 'clouds': {'all': 84}, 'wind': {'speed': 4.65, 'deg': 48, 'gust': 11.71}, 'visibility': 10000, 'pop': 0, 'sys': {'pod': 'n'}, 'dt_txt': '2022-12-09 00:00:00'}, {'dt': 1670554800, 'main': {'temp': -0.72, 'feels_like': -5.85, 'temp_min': -0.72, 'temp_max': -0.72, 'pressure': 1005, 'sea_level': 1005, 'grnd_level': 1001, 'humidity': 93, 'temp_kf': 0}, 'weather': [{'id': 803, 'main': 'Clouds', 'description': 'broken clouds', 'icon': '04n'}], 'clouds': {'all': 59}, 'wind': {'speed': 5.06, 'deg': 42, 'gust': 12.27}, 'visibility': 10000, 'pop': 0, 'sys': {'pod': 'n'}, 'dt_txt': '2022-12-09 03:00:00'}, {'dt': 1670565600, 'main': {'temp': -1.51, 'feels_like': -6.45, 'temp_min': -1.51, 'temp_max': -1.51, 'pressure': 1005, 'sea_level': 1005, 'grnd_level': 1001, 'humidity': 92, 'temp_kf': 0}, 'weather': [{'id': 802, 'main': 'Clouds', 'description': 'scattered clouds', 'icon': '03n'}], 'clouds': {'all': 34}, 'wind': {'speed': 4.45, 'deg': 39, 'gust': 11.35}, 'visibility': 10000, 'pop': 0, 'sys': {'pod': 'n'}, 'dt_txt': '2022-12-09 06:00:00'}, {'dt': 1670576400, 'main': {'temp': -0.24, 'feels_like': -5.07, 'temp_min': -0.24, 'temp_max': -0.24, 'pressure': 1006, 'sea_level': 1006, 'grnd_level': 1002, 'humidity': 83, 'temp_kf': 0}, 'weather': [{'id': 800, 'main': 'Clear', 'description': 'clear sky', 'icon': '01d'}], 'clouds': {'all': 7}, 'wind': {'speed': 4.75, 'deg': 43, 'gust': 11.48}, 'visibility': 10000, 'pop': 0, 'sys': {'pod': 'd'}, 'dt_txt': '2022-12-09 09:00:00'}, {'dt': 1670587200, 'main': {'temp': 4.08, 'feels_like': -0.12, 'temp_min': 4.08, 'temp_max': 4.08, 'pressure': 1006, 'sea_level': 1006, 'grnd_level': 1002, 'humidity': 62, 'temp_kf': 0}, 'weather': [{'id': 800, 'main': 'Clear', 'description': 'clear sky', 'icon': '01d'}], 'clouds': {'all': 6}, 'wind': {'speed': 5.66, 'deg': 52, 'gust': 8.22}, 'visibility': 10000, 'pop': 0, 'sys': {'pod': 'd'}, 'dt_txt': '2022-12-09 12:00:00'}, {'dt': 1670598000, 'main': {'temp': 4.05, 'feels_like': 0.3, 'temp_min': 4.05, 'temp_max': 4.05, 'pressure': 1005, 'sea_level': 1005, 'grnd_level': 1001, 'humidity': 62, 'temp_kf': 0}, 'weather': [{'id': 800, 'main': 'Clear', 'description': 'clear sky', 'icon': '01d'}], 'clouds': {'all': 5}, 'wind': {'speed': 4.71, 'deg': 39, 'gust': 7.94}, 'visibility': 10000, 'pop': 0, 'sys': {'pod': 'd'}, 'dt_txt': '2022-12-09 15:00:00'}, {'dt': 1670608800, 'main': {'temp': -0.29, 'feels_like': -4.26, 'temp_min': -0.29, 'temp_max': -0.29, 'pressure': 1007, 'sea_level': 1007, 'grnd_level': 1003, 'humidity': 83, 'temp_kf': 0}, 'weather': [{'id': 800, 'main': 'Clear', 'description': 'clear sky', 'icon': '01n'}], 'clouds': {'all': 3}, 'wind': {'speed': 3.49, 'deg': 30, 'gust': 7.39}, 'visibility': 10000, 'pop': 0, 'sys': {'pod': 'n'}, 'dt_txt': '2022-12-09 18:00:00'}, {'dt': 1670619600, 'main': {'temp': -1.47, 'feels_like': -5.28, 'temp_min': -1.47, 'temp_max': -1.47, 'pressure': 1008, 'sea_level': 1008, 'grnd_level': 1004, 'humidity': 84, 'temp_kf': 0}, 'weather': [{'id': 800, 'main': 'Clear', 'description': 'clear sky', 'icon': '01n'}], 'clouds': {'all': 1}, 'wind': {'speed': 3.02, 'deg': 34, 'gust': 4.31}, 'visibility': 10000, 'pop': 0, 'sys': {'pod': 'n'}, 'dt_txt': '2022-12-09 21:00:00'}, {'dt': 1670630400, 'main': {'temp': -1.84, 'feels_like': -5.51, 'temp_min': -1.84, 'temp_max': -1.84, 'pressure': 1009, 'sea_level': 1009, 'grnd_level': 1005, 'humidity': 89, 'temp_kf': 0}, 'weather': [{'id': 800, 'main': 'Clear', 'description': 'clear sky', 'icon': '01n'}], 'clouds': {'all': 3}, 'wind': {'speed': 2.79, 'deg': 31, 'gust': 3.51}, 'visibility': 10000, 'pop': 0, 'sys': {'pod': 'n'}, 'dt_txt': '2022-12-10 00:00:00'}, {'dt': 1670641200, 'main': {'temp': -1.91, 'feels_like': -5.07, 'temp_min': -1.91, 'temp_max': -1.91, 'pressure': 1009, 'sea_level': 1009, 'grnd_level': 1006, 'humidity': 91, 'temp_kf': 0}, 'weather': [{'id': 800, 'main': 'Clear', 'description': 'clear sky', 'icon': '01n'}], 'clouds': {'all': 6}, 'wind': {'speed': 2.31, 'deg': 11, 'gust': 2.37}, 'visibility': 10000, 'pop': 0, 'sys': {'pod': 'n'}, 'dt_txt': '2022-12-10 03:00:00'}, {'dt': 1670652000, 'main': {'temp': -2.12, 'feels_like': -4.35, 'temp_min': -2.12, 'temp_max': -2.12, 'pressure': 1010, 'sea_level': 1010, 'grnd_level': 1006, 'humidity': 91, 'temp_kf': 0}, 'weather': [{'id': 800, 'main': 'Clear', 'description': 'clear sky', 'icon': '01n'}], 'clouds': {'all': 6}, 'wind': {'speed': 1.61, 'deg': 350, 'gust': 1.62}, 'visibility': 10000, 'pop': 0, 'sys': {'pod': 'n'}, 'dt_txt': '2022-12-10 06:00:00'}, {'dt': 1670662800, 'main': {'temp': -0.29, 'feels_like': -0.29, 'temp_min': -0.29, 'temp_max': -0.29, 'pressure': 1011, 'sea_level': 1011, 'grnd_level': 1007, 'humidity': 81, 'temp_kf': 0}, 'weather': [{'id': 801, 'main': 'Clouds', 'description': 'few clouds', 'icon': '02d'}], 'clouds': {'all': 19}, 'wind': {'speed': 0.54, 'deg': 356, 'gust': 0.61}, 'visibility': 10000, 'pop': 0, 'sys': {'pod': 'd'}, 'dt_txt': '2022-12-10 09:00:00'}, {'dt': 1670673600, 'main': {'temp': 3.99, 'feels_like': 3.99, 'temp_min': 3.99, 'temp_max': 3.99, 'pressure': 1011, 'sea_level': 1011, 'grnd_level': 1008, 'humidity': 61, 'temp_kf': 0}, 'weather': [{'id': 802, 'main': 'Clouds', 'description': 'scattered clouds', 'icon': '03d'}], 'clouds': {'all': 32}, 'wind': {'speed': 1.28, 'deg': 279, 'gust': 1.41}, 'visibility': 10000, 'pop': 0, 'sys': {'pod': 'd'}, 'dt_txt': '2022-12-10 12:00:00'}, {'dt': 1670684400, 'main': {'temp': 3.94, 'feels_like': 3.94, 'temp_min': 3.94, 'temp_max': 3.94, 'pressure': 1011, 'sea_level': 1011, 'grnd_level': 1008, 'humidity': 65, 'temp_kf': 0}, 'weather': [{'id': 803, 'main': 'Clouds', 'description': 'broken clouds', 'icon': '04d'}], 'clouds': {'all': 56}, 'wind': {'speed': 0.95, 'deg': 290, 'gust': 0.99}, 'visibility': 10000, 'pop': 0, 'sys': {'pod': 'd'}, 'dt_txt': '2022-12-10 15:00:00'}, {'dt': 1670695200, 'main': {'temp': 0.4, 'feels_like': 0.4, 'temp_min': 0.4, 'temp_max': 0.4, 'pressure': 1012, 'sea_level': 1012, 'grnd_level': 1008, 'humidity': 78, 'temp_kf': 0}, 'weather': [{'id': 803, 'main': 'Clouds', 'description': 'broken clouds', 'icon': '04n'}], 'clouds': {'all': 64}, 'wind': {'speed': 0.28, 'deg': 350, 'gust': 0.39}, 'visibility': 10000, 'pop': 0.14, 'sys': {'pod': 'n'}, 'dt_txt': '2022-12-10 18:00:00'}, {'dt': 1670706000, 'main': {'temp': -0.83, 'feels_like': -0.83, 'temp_min': -0.83, 'temp_max': -0.83, 'pressure': 1013, 'sea_level': 1013, 'grnd_level': 1009, 'humidity': 83, 'temp_kf': 0}, 'weather': [{'id': 802, 'main': 'Clouds', 'description': 'scattered clouds', 'icon': '03n'}], 'clouds': {'all': 25}, 'wind': {'speed': 0.9, 'deg': 94, 'gust': 0.89}, 'visibility': 10000, 'pop': 0.03, 'sys': {'pod': 'n'}, 'dt_txt': '2022-12-10 21:00:00'}, {'dt': 1670716800, 'main': {'temp': -1.32, 'feels_like': -1.32, 'temp_min': -1.32, 'temp_max': -1.32, 'pressure': 1013, 'sea_level': 1013, 'grnd_level': 1010, 'humidity': 84, 'temp_kf': 0}, 'weather': [{'id': 801, 'main': 'Clouds', 'description': 'few clouds', 'icon': '02n'}], 'clouds': {'all': 16}, 'wind': {'speed': 0.75, 'deg': 133, 'gust': 0.93}, 'visibility': 10000, 'pop': 0.03, 'sys': {'pod': 'n'}, 'dt_txt': '2022-12-11 00:00:00'}, {'dt': 1670727600, 'main': {'temp': -1.69, 'feels_like': -4.46, 'temp_min': -1.69, 'temp_max': -1.69, 'pressure': 1014, 'sea_level': 1014, 'grnd_level': 1010, 'humidity': 87, 'temp_kf': 0}, 'weather': [{'id': 800, 'main': 'Clear', 'description': 'clear sky', 'icon': '01n'}], 'clouds': {'all': 5}, 'wind': {'speed': 2.03, 'deg': 173, 'gust': 2.02}, 'visibility': 10000, 'pop': 0, 'sys': {'pod': 'n'}, 'dt_txt': '2022-12-11 03:00:00'}, {'dt': 1670738400, 'main': {'temp': -1.73, 'feels_like': -4.59, 'temp_min': -1.73, 'temp_max': -1.73, 'pressure': 1014, 'sea_level': 1014, 'grnd_level': 1010, 'humidity': 88, 'temp_kf': 0}, 'weather': [{'id': 802, 'main': 'Clouds', 'description': 'scattered clouds', 'icon': '03n'}], 'clouds': {'all': 44}, 'wind': {'speed': 2.09, 'deg': 149, 'gust': 2.07}, 'visibility': 10000, 'pop': 0, 'sys': {'pod': 'n'}, 'dt_txt': '2022-12-11 06:00:00'}, {'dt': 1670749200, 'main': {'temp': -0.62, 'feels_like': -3.58, 'temp_min': -0.62, 'temp_max': -0.62, 'pressure': 1014, 'sea_level': 1014, 'grnd_level': 1010, 'humidity': 81, 'temp_kf': 0}, 'weather': [{'id': 803, 'main': 'Clouds', 'description': 'broken clouds', 'icon': '04d'}], 'clouds': {'all': 53}, 'wind': {'speed': 2.34, 'deg': 155, 'gust': 3.72}, 'visibility': 10000, 'pop': 0, 'sys': {'pod': 'd'}, 'dt_txt': '2022-12-11 09:00:00'}, {'dt': 1670760000, 'main': {'temp': 4.17, 'feels_like': 1.59, 'temp_min': 4.17, 'temp_max': 4.17, 'pressure': 1013, 'sea_level': 1013, 'grnd_level': 1009, 'humidity': 58, 'temp_kf': 0}, 'weather': [{'id': 802, 'main': 'Clouds', 'description': 'scattered clouds', 'icon': '03d'}], 'clouds': {'all': 48}, 'wind': {'speed': 2.9, 'deg': 170, 'gust': 3.54}, 'visibility': 10000, 'pop': 0, 'sys': {'pod': 'd'}, 'dt_txt': '2022-12-11 12:00:00'}, {'dt': 1670770800, 'main': {'temp': 3.87, 'feels_like': 1.76, 'temp_min': 3.87, 'temp_max': 3.87, 'pressure': 1013, 'sea_level': 1013, 'grnd_level': 1009, 'humidity': 63, 'temp_kf': 0}, 'weather': [{'id': 802, 'main': 'Clouds', 'description': 'scattered clouds', 'icon': '03d'}], 'clouds': {'all': 33}, 'wind': {'speed': 2.29, 'deg': 167, 'gust': 3.03}, 'visibility': 10000, 'pop': 0, 'sys': {'pod': 'd'}, 'dt_txt': '2022-12-11 15:00:00'}, {'dt': 1670781600, 'main': {'temp': -0.53, 'feels_like': -3.69, 'temp_min': -0.53, 'temp_max': -0.53, 'pressure': 1013, 'sea_level': 1013, 'grnd_level': 1009, 'humidity': 79, 'temp_kf': 0}, 'weather': [{'id': 802, 'main': 'Clouds', 'description': 'scattered clouds', 'icon': '03n'}], 'clouds': {'all': 29}, 'wind': {'speed': 2.54, 'deg': 171, 'gust': 2.53}, 'visibility': 10000, 'pop': 0, 'sys': {'pod': 'n'}, 'dt_txt': '2022-12-11 18:00:00'}, {'dt': 1670792400, 'main': {'temp': -1.14, 'feels_like': -4.34, 'temp_min': -1.14, 'temp_max': -1.14, 'pressure': 1014, 'sea_level': 1014, 'grnd_level': 1010, 'humidity': 77, 'temp_kf': 0}, 'weather': [{'id': 803, 'main': 'Clouds', 'description': 'broken clouds', 'icon': '04n'}], 'clouds': {'all': 76}, 'wind': {'speed': 2.47, 'deg': 168, 'gust': 2.39}, 'visibility': 10000, 'pop': 0, 'sys': {'pod': 'n'}, 'dt_txt': '2022-12-11 21:00:00'}, {'dt': 1670803200, 'main': {'temp': -1.32, 'feels_like': -4.63, 'temp_min': -1.32, 'temp_max': -1.32, 'pressure': 1014, 'sea_level': 1014, 'grnd_level': 1010, 'humidity': 73, 'temp_kf': 0}, 'weather': [{'id': 803, 'main': 'Clouds', 'description': 'broken clouds', 'icon': '04n'}], 'clouds': {'all': 68}, 'wind': {'speed': 2.54, 'deg': 178, 'gust': 2.54}, 'visibility': 10000, 'pop': 0.01, 'sys': {'pod': 'n'}, 'dt_txt': '2022-12-12 00:00:00'}, {'dt': 1670814000, 'main': {'temp': -0.76, 'feels_like': -3.89, 'temp_min': -0.76, 'temp_max': -0.76, 'pressure': 1014, 'sea_level': 1014, 'grnd_level': 1010, 'humidity': 69, 'temp_kf': 0}, 'weather': [{'id': 804, 'main': 'Clouds', 'description': 'overcast clouds', 'icon': '04n'}], 'clouds': {'all': 99}, 'wind': {'speed': 2.47, 'deg': 184, 'gust': 2.48}, 'visibility': 10000, 'pop': 0.07, 'sys': {'pod': 'n'}, 'dt_txt': '2022-12-12 03:00:00'}, {'dt': 1670824800, 'main': {'temp': -0.81, 'feels_like': -2.65, 'temp_min': -0.81, 'temp_max': -0.81, 'pressure': 1015, 'sea_level': 1015, 'grnd_level': 1011, 'humidity': 81, 'temp_kf': 0}, 'weather': [{'id': 803, 'main': 'Clouds', 'description': 'broken clouds', 'icon': '04n'}], 'clouds': {'all': 84}, 'wind': {'speed': 1.48, 'deg': 121, 'gust': 1.68}, 'visibility': 10000, 'pop': 0.08, 'sys': {'pod': 'n'}, 'dt_txt': '2022-12-12 06:00:00'}, {'dt': 1670835600, 'main': {'temp': 0.53, 'feels_like': -1.65, 'temp_min': 0.53, 'temp_max': 0.53, 'pressure': 1015, 'sea_level': 1015, 'grnd_level': 1011, 'humidity': 78, 'temp_kf': 0}, 'weather': [{'id': 803, 'main': 'Clouds', 'description': 'broken clouds', 'icon': '04d'}], 'clouds': {'all': 81}, 'wind': {'speed': 1.85, 'deg': 87, 'gust': 2.17}, 'visibility': 10000, 'pop': 0.07, 'sys': {'pod': 'd'}, 'dt_txt': '2022-12-12 09:00:00'}, {'dt': 1670846400, 'main': {'temp': 4.66, 'feels_like': 3.44, 'temp_min': 4.66, 'temp_max': 4.66, 'pressure': 1016, 'sea_level': 1016, 'grnd_level': 1012, 'humidity': 67, 'temp_kf': 0}, 'weather': [{'id': 803, 'main': 'Clouds', 'description': 'broken clouds', 'icon': '04d'}], 'clouds': {'all': 61}, 'wind': {'speed': 1.59, 'deg': 57, 'gust': 1.76}, 'visibility': 10000, 'pop': 0.07, 'sys': {'pod': 'd'}, 'dt_txt': '2022-12-12 12:00:00'}, {'dt': 1670857200, 'main': {'temp': 4.08, 'feels_like': 2.39, 'temp_min': 4.08, 'temp_max': 4.08, 'pressure': 1015, 'sea_level': 1015, 'grnd_level': 1011, 'humidity': 72, 'temp_kf': 0}, 'weather': [{'id': 802, 'main': 'Clouds', 'description': 'scattered clouds', 'icon': '03d'}], 'clouds': {'all': 37}, 'wind': {'speed': 1.91, 'deg': 49, 'gust': 2.5}, 'visibility': 10000, 'pop': 0.02, 'sys': {'pod': 'd'}, 'dt_txt': '2022-12-12 15:00:00'}, {'dt': 1670868000, 'main': {'temp': -0.24, 'feels_like': -3.72, 'temp_min': -0.24, 'temp_max': -0.24, 'pressure': 1014, 'sea_level': 1014, 'grnd_level': 1010, 'humidity': 85, 'temp_kf': 0}, 'weather': [{'id': 802, 'main': 'Clouds', 'description': 'scattered clouds', 'icon': '03n'}], 'clouds': {'all': 31}, 'wind': {'speed': 2.92, 'deg': 55, 'gust': 3}, 'visibility': 10000, 'pop': 0, 'sys': {'pod': 'n'}, 'dt_txt': '2022-12-12 18:00:00'}, {'dt': 1670878800, 'main': {'temp': -2.07, 'feels_like': -6.65, 'temp_min': -2.07, 'temp_max': -2.07, 'pressure': 1014, 'sea_level': 1014, 'grnd_level': 1010, 'humidity': 93, 'temp_kf': 0}, 'weather': [{'id': 804, 'main': 'Clouds', 'description': 'overcast clouds', 'icon': '04n'}], 'clouds': {'all': 85}, 'wind': {'speed': 3.77, 'deg': 68, 'gust': 8.49}, 'visibility': 10000, 'pop': 0, 'sys': {'pod': 'n'}, 'dt_txt': '2022-12-12 21:00:00'}, {'dt': 1670889600, 'main': {'temp': -2.74, 'feels_like': -7.59, 'temp_min': -2.74, 'temp_max': -2.74, 'pressure': 1014, 'sea_level': 1014, 'grnd_level': 1010, 'humidity': 95, 'temp_kf': 0}, 'weather': [{'id': 803, 'main': 'Clouds', 'description': 'broken clouds', 'icon': '04n'}], 'clouds': {'all': 76}, 'wind': {'speed': 3.92, 'deg': 76, 'gust': 9.38}, 'visibility': 10000, 'pop': 0, 'sys': {'pod': 'n'}, 'dt_txt': '2022-12-13 00:00:00'}, {'dt': 1670900400, 'main': {'temp': -1.65, 'feels_like': -7.55, 'temp_min': -1.65, 'temp_max': -1.65, 'pressure': 1013, 'sea_level': 1013, 'grnd_level': 1009, 'humidity': 83, 'temp_kf': 0}, 'weather': [{'id': 804, 'main': 'Clouds', 'description': 'overcast clouds', 'icon': '04n'}], 'clouds': {'all': 85}, 'wind': {'speed': 6.01, 'deg': 74, 'gust': 13.23}, 'visibility': 10000, 'pop': 0, 'sys': {'pod': 'n'}, 'dt_txt': '2022-12-13 03:00:00'}, {'dt': 1670911200, 'main': {'temp': -1.65, 'feels_like': -7.57, 'temp_min': -1.65, 'temp_max': -1.65, 'pressure': 1013, 'sea_level': 1013, 'grnd_level': 1009, 'humidity': 85, 'temp_kf': 0}, 'weather': [{'id': 804, 'main': 'Clouds', 'description': 'overcast clouds', 'icon': '04n'}], 'clouds': {'all': 92}, 'wind': {'speed': 6.05, 'deg': 80, 'gust': 14.18}, 'visibility': 10000, 'pop': 0, 'sys': {'pod': 'n'}, 'dt_txt': '2022-12-13 06:00:00'}], 'city': {'id': 2990968, 'name': 'Arrondissement de Nantes', 'coord': {'lat': 47.1667, 'lon': -1.5833}, 'country': 'FR', 'population': 771660, 'timezone': 3600, 'sunrise': 1670485186, 'sunset': 1670516213}}\n"
          ]
        }
      ]
    },
    {
      "cell_type": "code",
      "source": [
        "# forecast_main = forecast_json_data['weather'][0]['main']\n",
        "# forecast_main_description = forecast_json_data['weather'][0]['description']\n",
        "# forecast_temperature = forecast_json_data['main']['temp']\n",
        "# forecast_temperature_feel = forecast_json_data['main']['feels_like']\n",
        "# forecast_temperature_min = forecast_json_data['main']['temp_min']\n",
        "# forecast_temperature_max = forecast_json_data['main']['temp_max']\n",
        "# forecast_pressure = forecast_json_data['main']['pressure']\n",
        "# forecast_humidity = forecast_json_data['main']['humidity']\n",
        "# forecast_visibility = forecast_json_data['visibility']\n",
        "# forecast_wind_speed = forecast_json_data['wind']['speed']\n",
        "# forecast_wind_degree = forecast_json_data['wind']['deg']"
      ],
      "metadata": {
        "id": "bpa1rMrwZ0-L"
      },
      "execution_count": 174,
      "outputs": []
    },
    {
      "cell_type": "code",
      "source": [
        "forecast_main = forecast_json_data['list'][0]['main']"
      ],
      "metadata": {
        "id": "9RGmhjkwZ1B1"
      },
      "execution_count": 175,
      "outputs": []
    },
    {
      "cell_type": "code",
      "source": [
        "num_forecasts = len(forecast_json_data['list'])\n",
        "num_forecasts"
      ],
      "metadata": {
        "colab": {
          "base_uri": "https://localhost:8080/"
        },
        "id": "rp9rPqRTZ1F_",
        "outputId": "59db874b-9ffe-47f8-e334-b7627fddc7ab"
      },
      "execution_count": 176,
      "outputs": [
        {
          "output_type": "execute_result",
          "data": {
            "text/plain": [
              "40"
            ]
          },
          "metadata": {},
          "execution_count": 176
        }
      ]
    },
    {
      "cell_type": "code",
      "source": [
        "forecast_json_data['city']"
      ],
      "metadata": {
        "colab": {
          "base_uri": "https://localhost:8080/"
        },
        "id": "VcFDgbeuZ1J5",
        "outputId": "7b330116-b35a-4e26-f9db-1c02b7fb6c29"
      },
      "execution_count": 177,
      "outputs": [
        {
          "output_type": "execute_result",
          "data": {
            "text/plain": [
              "{'id': 2990968,\n",
              " 'name': 'Arrondissement de Nantes',\n",
              " 'coord': {'lat': 47.1667, 'lon': -1.5833},\n",
              " 'country': 'FR',\n",
              " 'population': 771660,\n",
              " 'timezone': 3600,\n",
              " 'sunrise': 1670485186,\n",
              " 'sunset': 1670516213}"
            ]
          },
          "metadata": {},
          "execution_count": 177
        }
      ]
    },
    {
      "cell_type": "code",
      "source": [
        "df_predictions = pd.DataFrame()"
      ],
      "metadata": {
        "id": "pj6HPMjYgwvH"
      },
      "execution_count": 178,
      "outputs": []
    },
    {
      "cell_type": "code",
      "source": [
        "# Creating empty lists\n",
        "prediction_num = 0\n",
        "list_prediction_num = []\n",
        "date_time_prediction = []\n",
        "owm_city_id = []\n",
        "city_name = []\n",
        "latitude = []\n",
        "longitude = []\n",
        "country_name = []\n",
        "population = []\n",
        "timezone = [] # Shift in seconds from UTC\n",
        "sunrise = []\n",
        "sunset = []\n",
        "# Main\n",
        "temp_prediction = []\n",
        "temp_feels_like_prediction = []\n",
        "temp_min_prediction = []\n",
        "temp_max_prediction = []\n",
        "pressure_prediction = []\n",
        "sea_level_prediction = []\n",
        "grnd_level_prediction = []\n",
        "humidity_prediction = []\n",
        "temp_kf_prediction = []\n",
        "# Weather\n",
        "main_weather_prediction = []\n",
        "main_weather_description_prediction = []\n",
        "# Clouds\n",
        "clouds_prediction = []\n",
        "# Wind\n",
        "wind_speed_prediction = []\n",
        "wind_degree_prediction = []"
      ],
      "metadata": {
        "id": "t6R-li2Sgw25"
      },
      "execution_count": 179,
      "outputs": []
    },
    {
      "cell_type": "code",
      "source": [
        "# Loop Through the JSON\n",
        "for num_forecasts in forecast_json_data['list']:\n",
        "    df_predictions['prediction_num'] = prediction_num\n",
        "    list_prediction_num.append(prediction_num)\n",
        "    date_time_prediction.append(forecast_json_data['list'][prediction_num]['dt_txt'])\n",
        "    \n",
        "    owm_city_id.append(forecast_json_data['city']['id'])\n",
        "    city_name.append(forecast_json_data['city']['name'])\n",
        "    latitude.append(forecast_json_data['city']['coord']['lat'])\n",
        "    longitude.append(forecast_json_data['city']['coord']['lon'])\n",
        "    country_name.append(forecast_json_data['city']['country'])\n",
        "    population.append(forecast_json_data['city']['population'])\n",
        "    \n",
        "    if forecast_json_data['city']['timezone'] >0 :\n",
        "        timezone.append(\"+\" + str((forecast_json_data['city']['timezone'])/3600))\n",
        "    else:\n",
        "        timezone.append((forecast_json_data['city']['timezone'])/3600)\n",
        "        \n",
        "    sunrise.append(forecast_json_data['city']['sunrise'])\n",
        "    sunset.append(forecast_json_data['city']['sunset'])\n",
        "    \n",
        "    # Main\n",
        "    temp_prediction.append(forecast_json_data['list'][prediction_num]['main']['temp'])\n",
        "    temp_feels_like_prediction.append(forecast_json_data['list'][prediction_num]['main']['feels_like'])\n",
        "    temp_min_prediction.append(forecast_json_data['list'][prediction_num]['main']['temp_min'])\n",
        "    temp_max_prediction.append(forecast_json_data['list'][prediction_num]['main']['temp_max'])\n",
        "    pressure_prediction.append(forecast_json_data['list'][prediction_num]['main']['pressure'])\n",
        "    sea_level_prediction.append(forecast_json_data['list'][prediction_num]['main']['sea_level'])\n",
        "    grnd_level_prediction.append(forecast_json_data['list'][prediction_num]['main']['grnd_level'])\n",
        "    humidity_prediction.append(forecast_json_data['list'][prediction_num]['main']['humidity'])\n",
        "    temp_kf_prediction.append(forecast_json_data['list'][prediction_num]['main']['temp_kf'])\n",
        "    # Weather\n",
        "    main_weather_prediction.append(forecast_json_data['list'][prediction_num]['weather'][0]['main'])\n",
        "    main_weather_description_prediction.append(forecast_json_data['list'][prediction_num]['weather'][0]['description'])\n",
        "    # Clouds\n",
        "    clouds_prediction.append(forecast_json_data['list'][prediction_num]['clouds']['all'])\n",
        "    # Wind\n",
        "    wind_speed_prediction.append(forecast_json_data['list'][prediction_num]['wind']['speed'])\n",
        "    wind_degree_prediction.append(forecast_json_data['list'][prediction_num]['wind']['deg'])\n",
        "    \n",
        "    prediction_num += 1"
      ],
      "metadata": {
        "id": "SapMbIi5gw7k"
      },
      "execution_count": 180,
      "outputs": []
    },
    {
      "cell_type": "code",
      "source": [
        "# Put data into a dataframe\n",
        "df_predictions['prediction_num'] = list_prediction_num\n",
        "df_predictions['date_time_prediction'] = date_time_prediction\n",
        "df_predictions['owm_city_id'] = owm_city_id\n",
        "df_predictions['city_name'] = city_name\n",
        "df_predictions['latitude'] = latitude\n",
        "df_predictions['longitude'] = longitude\n",
        "df_predictions['country_name'] = country_name\n",
        "df_predictions['population'] = population\n",
        "df_predictions['timezone'] = timezone\n",
        "df_predictions['sunrise'] = sunrise\n",
        "df_predictions['sunset'] = sunset\n",
        "\n",
        "    # Main\n",
        "df_predictions['temp_prediction'] = temp_prediction\n",
        "df_predictions['temp_feels_like_prediction'] = temp_feels_like_prediction\n",
        "df_predictions['temp_min_prediction'] = temp_min_prediction\n",
        "df_predictions['temp_max_prediction'] = temp_max_prediction\n",
        "df_predictions['pressure_prediction'] = pressure_prediction\n",
        "df_predictions['sea_level_prediction'] = sea_level_prediction\n",
        "df_predictions['grnd_level_prediction'] = grnd_level_prediction\n",
        "df_predictions['humidity_prediction'] = humidity_prediction\n",
        "df_predictions['temp_kf_prediction'] = temp_kf_prediction\n",
        "    # Weather\n",
        "df_predictions['main_weather_prediction'] = main_weather_prediction\n",
        "df_predictions['main_weather_description_prediction'] = main_weather_description_prediction\n",
        "    # Clouds\n",
        "df_predictions['clouds_prediction'] = clouds_prediction\n",
        "    # Wind\n",
        "df_predictions['wind_speed_prediction'] = wind_speed_prediction\n",
        "df_predictions['wind_degree_prediction'] = wind_degree_prediction"
      ],
      "metadata": {
        "id": "DX2EivZRgw_d"
      },
      "execution_count": 181,
      "outputs": []
    },
    {
      "cell_type": "code",
      "source": [
        "df_predictions.head()"
      ],
      "metadata": {
        "colab": {
          "base_uri": "https://localhost:8080/",
          "height": 357
        },
        "id": "IUF6bxv_gxDH",
        "outputId": "1da0e955-0016-49d1-818d-53906be1d84f"
      },
      "execution_count": 182,
      "outputs": [
        {
          "output_type": "execute_result",
          "data": {
            "text/plain": [
              "   prediction_num date_time_prediction  owm_city_id                 city_name  \\\n",
              "0               0  2022-12-08 09:00:00      2990968  Arrondissement de Nantes   \n",
              "1               1  2022-12-08 12:00:00      2990968  Arrondissement de Nantes   \n",
              "2               2  2022-12-08 15:00:00      2990968  Arrondissement de Nantes   \n",
              "3               3  2022-12-08 18:00:00      2990968  Arrondissement de Nantes   \n",
              "4               4  2022-12-08 21:00:00      2990968  Arrondissement de Nantes   \n",
              "\n",
              "   latitude  longitude country_name  population timezone     sunrise  \\\n",
              "0   47.1667    -1.5833           FR      771660     +1.0  1670485186   \n",
              "1   47.1667    -1.5833           FR      771660     +1.0  1670485186   \n",
              "2   47.1667    -1.5833           FR      771660     +1.0  1670485186   \n",
              "3   47.1667    -1.5833           FR      771660     +1.0  1670485186   \n",
              "4   47.1667    -1.5833           FR      771660     +1.0  1670485186   \n",
              "\n",
              "       sunset  temp_prediction  temp_feels_like_prediction  \\\n",
              "0  1670516213             0.17                       -3.50   \n",
              "1  1670516213             3.52                       -0.60   \n",
              "2  1670516213             4.93                        1.31   \n",
              "3  1670516213             0.76                       -3.28   \n",
              "4  1670516213            -0.14                       -4.41   \n",
              "\n",
              "   temp_min_prediction  temp_max_prediction  pressure_prediction  \\\n",
              "0                 0.17                 0.84                 1011   \n",
              "1                 3.52                 5.37                 1010   \n",
              "2                 4.93                 4.93                 1007   \n",
              "3                 0.76                 0.76                 1007   \n",
              "4                -0.14                -0.14                 1006   \n",
              "\n",
              "   sea_level_prediction  grnd_level_prediction  humidity_prediction  \\\n",
              "0                  1011                   1007                   94   \n",
              "1                  1010                   1005                   74   \n",
              "2                  1007                   1003                   63   \n",
              "3                  1007                   1003                   84   \n",
              "4                  1006                   1003                   88   \n",
              "\n",
              "   temp_kf_prediction main_weather_prediction  \\\n",
              "0               -0.67                  Clouds   \n",
              "1               -1.85                  Clouds   \n",
              "2                0.00                   Clear   \n",
              "3                0.00                  Clouds   \n",
              "4                0.00                  Clouds   \n",
              "\n",
              "  main_weather_description_prediction  clouds_prediction  \\\n",
              "0                       broken clouds                 68   \n",
              "1                    scattered clouds                 35   \n",
              "2                           clear sky                  7   \n",
              "3                          few clouds                 13   \n",
              "4                       broken clouds                 70   \n",
              "\n",
              "   wind_speed_prediction  wind_degree_prediction  \n",
              "0                   3.24                      60  \n",
              "1                   5.18                      61  \n",
              "2                   4.88                      52  \n",
              "3                   3.90                      47  \n",
              "4                   3.93                      47  "
            ],
            "text/html": [
              "\n",
              "  <div id=\"df-0670308d-acd4-4dd4-bfb8-14670172a25f\">\n",
              "    <div class=\"colab-df-container\">\n",
              "      <div>\n",
              "<style scoped>\n",
              "    .dataframe tbody tr th:only-of-type {\n",
              "        vertical-align: middle;\n",
              "    }\n",
              "\n",
              "    .dataframe tbody tr th {\n",
              "        vertical-align: top;\n",
              "    }\n",
              "\n",
              "    .dataframe thead th {\n",
              "        text-align: right;\n",
              "    }\n",
              "</style>\n",
              "<table border=\"1\" class=\"dataframe\">\n",
              "  <thead>\n",
              "    <tr style=\"text-align: right;\">\n",
              "      <th></th>\n",
              "      <th>prediction_num</th>\n",
              "      <th>date_time_prediction</th>\n",
              "      <th>owm_city_id</th>\n",
              "      <th>city_name</th>\n",
              "      <th>latitude</th>\n",
              "      <th>longitude</th>\n",
              "      <th>country_name</th>\n",
              "      <th>population</th>\n",
              "      <th>timezone</th>\n",
              "      <th>sunrise</th>\n",
              "      <th>sunset</th>\n",
              "      <th>temp_prediction</th>\n",
              "      <th>temp_feels_like_prediction</th>\n",
              "      <th>temp_min_prediction</th>\n",
              "      <th>temp_max_prediction</th>\n",
              "      <th>pressure_prediction</th>\n",
              "      <th>sea_level_prediction</th>\n",
              "      <th>grnd_level_prediction</th>\n",
              "      <th>humidity_prediction</th>\n",
              "      <th>temp_kf_prediction</th>\n",
              "      <th>main_weather_prediction</th>\n",
              "      <th>main_weather_description_prediction</th>\n",
              "      <th>clouds_prediction</th>\n",
              "      <th>wind_speed_prediction</th>\n",
              "      <th>wind_degree_prediction</th>\n",
              "    </tr>\n",
              "  </thead>\n",
              "  <tbody>\n",
              "    <tr>\n",
              "      <th>0</th>\n",
              "      <td>0</td>\n",
              "      <td>2022-12-08 09:00:00</td>\n",
              "      <td>2990968</td>\n",
              "      <td>Arrondissement de Nantes</td>\n",
              "      <td>47.1667</td>\n",
              "      <td>-1.5833</td>\n",
              "      <td>FR</td>\n",
              "      <td>771660</td>\n",
              "      <td>+1.0</td>\n",
              "      <td>1670485186</td>\n",
              "      <td>1670516213</td>\n",
              "      <td>0.17</td>\n",
              "      <td>-3.50</td>\n",
              "      <td>0.17</td>\n",
              "      <td>0.84</td>\n",
              "      <td>1011</td>\n",
              "      <td>1011</td>\n",
              "      <td>1007</td>\n",
              "      <td>94</td>\n",
              "      <td>-0.67</td>\n",
              "      <td>Clouds</td>\n",
              "      <td>broken clouds</td>\n",
              "      <td>68</td>\n",
              "      <td>3.24</td>\n",
              "      <td>60</td>\n",
              "    </tr>\n",
              "    <tr>\n",
              "      <th>1</th>\n",
              "      <td>1</td>\n",
              "      <td>2022-12-08 12:00:00</td>\n",
              "      <td>2990968</td>\n",
              "      <td>Arrondissement de Nantes</td>\n",
              "      <td>47.1667</td>\n",
              "      <td>-1.5833</td>\n",
              "      <td>FR</td>\n",
              "      <td>771660</td>\n",
              "      <td>+1.0</td>\n",
              "      <td>1670485186</td>\n",
              "      <td>1670516213</td>\n",
              "      <td>3.52</td>\n",
              "      <td>-0.60</td>\n",
              "      <td>3.52</td>\n",
              "      <td>5.37</td>\n",
              "      <td>1010</td>\n",
              "      <td>1010</td>\n",
              "      <td>1005</td>\n",
              "      <td>74</td>\n",
              "      <td>-1.85</td>\n",
              "      <td>Clouds</td>\n",
              "      <td>scattered clouds</td>\n",
              "      <td>35</td>\n",
              "      <td>5.18</td>\n",
              "      <td>61</td>\n",
              "    </tr>\n",
              "    <tr>\n",
              "      <th>2</th>\n",
              "      <td>2</td>\n",
              "      <td>2022-12-08 15:00:00</td>\n",
              "      <td>2990968</td>\n",
              "      <td>Arrondissement de Nantes</td>\n",
              "      <td>47.1667</td>\n",
              "      <td>-1.5833</td>\n",
              "      <td>FR</td>\n",
              "      <td>771660</td>\n",
              "      <td>+1.0</td>\n",
              "      <td>1670485186</td>\n",
              "      <td>1670516213</td>\n",
              "      <td>4.93</td>\n",
              "      <td>1.31</td>\n",
              "      <td>4.93</td>\n",
              "      <td>4.93</td>\n",
              "      <td>1007</td>\n",
              "      <td>1007</td>\n",
              "      <td>1003</td>\n",
              "      <td>63</td>\n",
              "      <td>0.00</td>\n",
              "      <td>Clear</td>\n",
              "      <td>clear sky</td>\n",
              "      <td>7</td>\n",
              "      <td>4.88</td>\n",
              "      <td>52</td>\n",
              "    </tr>\n",
              "    <tr>\n",
              "      <th>3</th>\n",
              "      <td>3</td>\n",
              "      <td>2022-12-08 18:00:00</td>\n",
              "      <td>2990968</td>\n",
              "      <td>Arrondissement de Nantes</td>\n",
              "      <td>47.1667</td>\n",
              "      <td>-1.5833</td>\n",
              "      <td>FR</td>\n",
              "      <td>771660</td>\n",
              "      <td>+1.0</td>\n",
              "      <td>1670485186</td>\n",
              "      <td>1670516213</td>\n",
              "      <td>0.76</td>\n",
              "      <td>-3.28</td>\n",
              "      <td>0.76</td>\n",
              "      <td>0.76</td>\n",
              "      <td>1007</td>\n",
              "      <td>1007</td>\n",
              "      <td>1003</td>\n",
              "      <td>84</td>\n",
              "      <td>0.00</td>\n",
              "      <td>Clouds</td>\n",
              "      <td>few clouds</td>\n",
              "      <td>13</td>\n",
              "      <td>3.90</td>\n",
              "      <td>47</td>\n",
              "    </tr>\n",
              "    <tr>\n",
              "      <th>4</th>\n",
              "      <td>4</td>\n",
              "      <td>2022-12-08 21:00:00</td>\n",
              "      <td>2990968</td>\n",
              "      <td>Arrondissement de Nantes</td>\n",
              "      <td>47.1667</td>\n",
              "      <td>-1.5833</td>\n",
              "      <td>FR</td>\n",
              "      <td>771660</td>\n",
              "      <td>+1.0</td>\n",
              "      <td>1670485186</td>\n",
              "      <td>1670516213</td>\n",
              "      <td>-0.14</td>\n",
              "      <td>-4.41</td>\n",
              "      <td>-0.14</td>\n",
              "      <td>-0.14</td>\n",
              "      <td>1006</td>\n",
              "      <td>1006</td>\n",
              "      <td>1003</td>\n",
              "      <td>88</td>\n",
              "      <td>0.00</td>\n",
              "      <td>Clouds</td>\n",
              "      <td>broken clouds</td>\n",
              "      <td>70</td>\n",
              "      <td>3.93</td>\n",
              "      <td>47</td>\n",
              "    </tr>\n",
              "  </tbody>\n",
              "</table>\n",
              "</div>\n",
              "      <button class=\"colab-df-convert\" onclick=\"convertToInteractive('df-0670308d-acd4-4dd4-bfb8-14670172a25f')\"\n",
              "              title=\"Convert this dataframe to an interactive table.\"\n",
              "              style=\"display:none;\">\n",
              "        \n",
              "  <svg xmlns=\"http://www.w3.org/2000/svg\" height=\"24px\"viewBox=\"0 0 24 24\"\n",
              "       width=\"24px\">\n",
              "    <path d=\"M0 0h24v24H0V0z\" fill=\"none\"/>\n",
              "    <path d=\"M18.56 5.44l.94 2.06.94-2.06 2.06-.94-2.06-.94-.94-2.06-.94 2.06-2.06.94zm-11 1L8.5 8.5l.94-2.06 2.06-.94-2.06-.94L8.5 2.5l-.94 2.06-2.06.94zm10 10l.94 2.06.94-2.06 2.06-.94-2.06-.94-.94-2.06-.94 2.06-2.06.94z\"/><path d=\"M17.41 7.96l-1.37-1.37c-.4-.4-.92-.59-1.43-.59-.52 0-1.04.2-1.43.59L10.3 9.45l-7.72 7.72c-.78.78-.78 2.05 0 2.83L4 21.41c.39.39.9.59 1.41.59.51 0 1.02-.2 1.41-.59l7.78-7.78 2.81-2.81c.8-.78.8-2.07 0-2.86zM5.41 20L4 18.59l7.72-7.72 1.47 1.35L5.41 20z\"/>\n",
              "  </svg>\n",
              "      </button>\n",
              "      \n",
              "  <style>\n",
              "    .colab-df-container {\n",
              "      display:flex;\n",
              "      flex-wrap:wrap;\n",
              "      gap: 12px;\n",
              "    }\n",
              "\n",
              "    .colab-df-convert {\n",
              "      background-color: #E8F0FE;\n",
              "      border: none;\n",
              "      border-radius: 50%;\n",
              "      cursor: pointer;\n",
              "      display: none;\n",
              "      fill: #1967D2;\n",
              "      height: 32px;\n",
              "      padding: 0 0 0 0;\n",
              "      width: 32px;\n",
              "    }\n",
              "\n",
              "    .colab-df-convert:hover {\n",
              "      background-color: #E2EBFA;\n",
              "      box-shadow: 0px 1px 2px rgba(60, 64, 67, 0.3), 0px 1px 3px 1px rgba(60, 64, 67, 0.15);\n",
              "      fill: #174EA6;\n",
              "    }\n",
              "\n",
              "    [theme=dark] .colab-df-convert {\n",
              "      background-color: #3B4455;\n",
              "      fill: #D2E3FC;\n",
              "    }\n",
              "\n",
              "    [theme=dark] .colab-df-convert:hover {\n",
              "      background-color: #434B5C;\n",
              "      box-shadow: 0px 1px 3px 1px rgba(0, 0, 0, 0.15);\n",
              "      filter: drop-shadow(0px 1px 2px rgba(0, 0, 0, 0.3));\n",
              "      fill: #FFFFFF;\n",
              "    }\n",
              "  </style>\n",
              "\n",
              "      <script>\n",
              "        const buttonEl =\n",
              "          document.querySelector('#df-0670308d-acd4-4dd4-bfb8-14670172a25f button.colab-df-convert');\n",
              "        buttonEl.style.display =\n",
              "          google.colab.kernel.accessAllowed ? 'block' : 'none';\n",
              "\n",
              "        async function convertToInteractive(key) {\n",
              "          const element = document.querySelector('#df-0670308d-acd4-4dd4-bfb8-14670172a25f');\n",
              "          const dataTable =\n",
              "            await google.colab.kernel.invokeFunction('convertToInteractive',\n",
              "                                                     [key], {});\n",
              "          if (!dataTable) return;\n",
              "\n",
              "          const docLinkHtml = 'Like what you see? Visit the ' +\n",
              "            '<a target=\"_blank\" href=https://colab.research.google.com/notebooks/data_table.ipynb>data table notebook</a>'\n",
              "            + ' to learn more about interactive tables.';\n",
              "          element.innerHTML = '';\n",
              "          dataTable['output_type'] = 'display_data';\n",
              "          await google.colab.output.renderOutput(dataTable, element);\n",
              "          const docLink = document.createElement('div');\n",
              "          docLink.innerHTML = docLinkHtml;\n",
              "          element.appendChild(docLink);\n",
              "        }\n",
              "      </script>\n",
              "    </div>\n",
              "  </div>\n",
              "  "
            ]
          },
          "metadata": {},
          "execution_count": 182
        }
      ]
    },
    {
      "cell_type": "code",
      "source": [
        "City_API_endpoint = \"http://api.openweathermap.org/data/2.5/weather?q=\"\n",
        "City = \"Le Mans\"\n",
        "Country = \",FR,\"\n",
        "join_key = \"&appid=\" + \"e356e0f2bdc13904d0e62d5bf769987b\"\n",
        "units = \"&units=metric\""
      ],
      "metadata": {
        "id": "dhlUcdC3gxHB"
      },
      "execution_count": 183,
      "outputs": []
    },
    {
      "cell_type": "code",
      "source": [
        "current_city_weather = City_API_endpoint + City + Country + join_key + units"
      ],
      "metadata": {
        "id": "AYU00HwugxOE"
      },
      "execution_count": 184,
      "outputs": []
    },
    {
      "cell_type": "code",
      "source": [
        "print(current_city_weather)"
      ],
      "metadata": {
        "colab": {
          "base_uri": "https://localhost:8080/"
        },
        "id": "6PmTW1CngxSN",
        "outputId": "c8d9f847-a037-45de-eaf0-3bfc42e2c477"
      },
      "execution_count": 185,
      "outputs": [
        {
          "output_type": "stream",
          "name": "stdout",
          "text": [
            "http://api.openweathermap.org/data/2.5/weather?q=Le Mans,FR,&appid=e356e0f2bdc13904d0e62d5bf769987b&units=metric\n"
          ]
        }
      ]
    },
    {
      "cell_type": "code",
      "source": [
        "json_data = requests.get(current_city_weather).json()"
      ],
      "metadata": {
        "id": "Rj8camXJgxWp"
      },
      "execution_count": 186,
      "outputs": []
    },
    {
      "cell_type": "code",
      "source": [
        "print(json_data)"
      ],
      "metadata": {
        "colab": {
          "base_uri": "https://localhost:8080/"
        },
        "id": "wifConYlgxfA",
        "outputId": "aefca568-a667-445c-c61b-06af73a8735d"
      },
      "execution_count": 187,
      "outputs": [
        {
          "output_type": "stream",
          "name": "stdout",
          "text": [
            "{'coord': {'lon': 0.2, 'lat': 48}, 'weather': [{'id': 804, 'main': 'Clouds', 'description': 'overcast clouds', 'icon': '04n'}], 'base': 'stations', 'main': {'temp': 0.96, 'feels_like': -1.95, 'temp_min': 0.96, 'temp_max': 0.96, 'pressure': 1012, 'humidity': 100}, 'visibility': 6000, 'wind': {'speed': 2.57, 'deg': 40}, 'clouds': {'all': 100}, 'dt': 1670482880, 'sys': {'type': 1, 'id': 6570, 'country': 'FR', 'sunrise': 1670484956, 'sunset': 1670515586}, 'timezone': 3600, 'id': 3003603, 'name': 'Le Mans', 'cod': 200}\n"
          ]
        }
      ]
    },
    {
      "cell_type": "code",
      "source": [
        "df_all_current_weather = pd.DataFrame()\n",
        "prediction_num = 0"
      ],
      "metadata": {
        "id": "BNVWODMUildF"
      },
      "execution_count": 188,
      "outputs": []
    },
    {
      "cell_type": "code",
      "source": [
        "# Create empty lists to store the JSON Data\n",
        "current_weather_id = []\n",
        "current_time = []\n",
        "own_city_id = []\n",
        "city = []\n",
        "latitude = []\n",
        "longitude = []\n",
        "country = []\n",
        "timezone = []\n",
        "sunrise = []\n",
        "sunset = []\n",
        "temperature = []\n",
        "temperature_feel = []\n",
        "temperature_min = []\n",
        "temperature_max = []\n",
        "pressure = []\n",
        "humidity = []\n",
        "main = []\n",
        "main_description = []\n",
        "clouds = []\n",
        "wind_speed = []\n",
        "wind_degree = []\n",
        "visibility = []"
      ],
      "metadata": {
        "id": "4GWKB3jQillp"
      },
      "execution_count": 189,
      "outputs": []
    },
    {
      "cell_type": "code",
      "source": [
        "# Add JSON Data to the lists\n",
        "prediction_num +=1\n",
        "current_weather_id.append(prediction_num + 1)\n",
        "current_time.append(pd.Timestamp.now())\n",
        "own_city_id.append(json_data['id'])\n",
        "city.append(json_data['name'])\n",
        "latitude.append(json_data['coord']['lat'])\n",
        "longitude.append(json_data['coord']['lon'])\n",
        "country.append(json_data['sys']['country'])\n",
        "if json_data['timezone'] >0 :\n",
        "    timezone.append((\"+\" + str((json_data['timezone'])/3600)))\n",
        "else:\n",
        "    timezone.append(((json_data['timezone'])/3600))\n",
        "sunrise.append(json_data['sys']['sunrise'])\n",
        "sunset.append(json_data['sys']['sunset'])\n",
        "temperature.append(json_data['main']['temp'])\n",
        "temperature_feel.append(json_data['main']['feels_like'])\n",
        "temperature_min.append(json_data['main']['temp_min'])\n",
        "temperature_max.append(json_data['main']['temp_max'])\n",
        "pressure.append(json_data['main']['pressure'])\n",
        "humidity.append(json_data['main']['humidity'])\n",
        "main.append(json_data['weather'][0]['main'])\n",
        "main_description.append(json_data['weather'][0]['description'])\n",
        "clouds.append(json_data['clouds']['all'])\n",
        "wind_speed.append(json_data['wind']['speed'])\n",
        "wind_degree.append(json_data['wind']['deg'])\n",
        "visibility.append(json_data['visibility'])"
      ],
      "metadata": {
        "id": "i_2KbyD3ilpy"
      },
      "execution_count": 190,
      "outputs": []
    },
    {
      "cell_type": "code",
      "source": [
        "# Write Lists to DataFrame\n",
        "df_all_current_weather['current_weather_id'] = current_weather_id\n",
        "df_all_current_weather['current_time'] = current_time\n",
        "df_all_current_weather['own_city_id'] = own_city_id\n",
        "df_all_current_weather['city'] = city\n",
        "df_all_current_weather['latitude'] = latitude\n",
        "df_all_current_weather['longitude'] = longitude\n",
        "df_all_current_weather['country'] = country\n",
        "df_all_current_weather['timezone'] = timezone\n",
        "df_all_current_weather['sunrise'] = sunrise\n",
        "df_all_current_weather['sunset'] = sunset\n",
        "df_all_current_weather['temperature'] = temperature\n",
        "df_all_current_weather['temperature_feel'] = temperature_feel\n",
        "df_all_current_weather['temperature_min'] = temperature_min\n",
        "df_all_current_weather['temperature_max'] = temperature_max\n",
        "df_all_current_weather['pressure'] = pressure\n",
        "df_all_current_weather['humidity'] = humidity\n",
        "df_all_current_weather['main'] = main\n",
        "df_all_current_weather['main_description'] = main_description\n",
        "df_all_current_weather['clouds'] = clouds\n",
        "df_all_current_weather['wind_speed'] = wind_speed\n",
        "df_all_current_weather['wind_degree'] = wind_degree\n",
        "df_all_current_weather['visibility'] = visibility"
      ],
      "metadata": {
        "id": "04moddCCilts"
      },
      "execution_count": 191,
      "outputs": []
    },
    {
      "cell_type": "code",
      "source": [
        "df_all_current_weather.head(5)"
      ],
      "metadata": {
        "colab": {
          "base_uri": "https://localhost:8080/",
          "height": 162
        },
        "id": "xw8LI3kRilxm",
        "outputId": "75113422-9f7d-4f98-8090-d1a72558d256"
      },
      "execution_count": 192,
      "outputs": [
        {
          "output_type": "execute_result",
          "data": {
            "text/plain": [
              "   current_weather_id               current_time  own_city_id     city  \\\n",
              "0                   2 2022-12-08 07:03:00.313336      3003603  Le Mans   \n",
              "\n",
              "   latitude  longitude country timezone     sunrise      sunset  temperature  \\\n",
              "0        48        0.2      FR     +1.0  1670484956  1670515586         0.96   \n",
              "\n",
              "   temperature_feel  temperature_min  temperature_max  pressure  humidity  \\\n",
              "0             -1.95             0.96             0.96      1012       100   \n",
              "\n",
              "     main main_description  clouds  wind_speed  wind_degree  visibility  \n",
              "0  Clouds  overcast clouds     100        2.57           40        6000  "
            ],
            "text/html": [
              "\n",
              "  <div id=\"df-ac5ca68f-1c41-4a2b-b29f-f98bcd8220cd\">\n",
              "    <div class=\"colab-df-container\">\n",
              "      <div>\n",
              "<style scoped>\n",
              "    .dataframe tbody tr th:only-of-type {\n",
              "        vertical-align: middle;\n",
              "    }\n",
              "\n",
              "    .dataframe tbody tr th {\n",
              "        vertical-align: top;\n",
              "    }\n",
              "\n",
              "    .dataframe thead th {\n",
              "        text-align: right;\n",
              "    }\n",
              "</style>\n",
              "<table border=\"1\" class=\"dataframe\">\n",
              "  <thead>\n",
              "    <tr style=\"text-align: right;\">\n",
              "      <th></th>\n",
              "      <th>current_weather_id</th>\n",
              "      <th>current_time</th>\n",
              "      <th>own_city_id</th>\n",
              "      <th>city</th>\n",
              "      <th>latitude</th>\n",
              "      <th>longitude</th>\n",
              "      <th>country</th>\n",
              "      <th>timezone</th>\n",
              "      <th>sunrise</th>\n",
              "      <th>sunset</th>\n",
              "      <th>temperature</th>\n",
              "      <th>temperature_feel</th>\n",
              "      <th>temperature_min</th>\n",
              "      <th>temperature_max</th>\n",
              "      <th>pressure</th>\n",
              "      <th>humidity</th>\n",
              "      <th>main</th>\n",
              "      <th>main_description</th>\n",
              "      <th>clouds</th>\n",
              "      <th>wind_speed</th>\n",
              "      <th>wind_degree</th>\n",
              "      <th>visibility</th>\n",
              "    </tr>\n",
              "  </thead>\n",
              "  <tbody>\n",
              "    <tr>\n",
              "      <th>0</th>\n",
              "      <td>2</td>\n",
              "      <td>2022-12-08 07:03:00.313336</td>\n",
              "      <td>3003603</td>\n",
              "      <td>Le Mans</td>\n",
              "      <td>48</td>\n",
              "      <td>0.2</td>\n",
              "      <td>FR</td>\n",
              "      <td>+1.0</td>\n",
              "      <td>1670484956</td>\n",
              "      <td>1670515586</td>\n",
              "      <td>0.96</td>\n",
              "      <td>-1.95</td>\n",
              "      <td>0.96</td>\n",
              "      <td>0.96</td>\n",
              "      <td>1012</td>\n",
              "      <td>100</td>\n",
              "      <td>Clouds</td>\n",
              "      <td>overcast clouds</td>\n",
              "      <td>100</td>\n",
              "      <td>2.57</td>\n",
              "      <td>40</td>\n",
              "      <td>6000</td>\n",
              "    </tr>\n",
              "  </tbody>\n",
              "</table>\n",
              "</div>\n",
              "      <button class=\"colab-df-convert\" onclick=\"convertToInteractive('df-ac5ca68f-1c41-4a2b-b29f-f98bcd8220cd')\"\n",
              "              title=\"Convert this dataframe to an interactive table.\"\n",
              "              style=\"display:none;\">\n",
              "        \n",
              "  <svg xmlns=\"http://www.w3.org/2000/svg\" height=\"24px\"viewBox=\"0 0 24 24\"\n",
              "       width=\"24px\">\n",
              "    <path d=\"M0 0h24v24H0V0z\" fill=\"none\"/>\n",
              "    <path d=\"M18.56 5.44l.94 2.06.94-2.06 2.06-.94-2.06-.94-.94-2.06-.94 2.06-2.06.94zm-11 1L8.5 8.5l.94-2.06 2.06-.94-2.06-.94L8.5 2.5l-.94 2.06-2.06.94zm10 10l.94 2.06.94-2.06 2.06-.94-2.06-.94-.94-2.06-.94 2.06-2.06.94z\"/><path d=\"M17.41 7.96l-1.37-1.37c-.4-.4-.92-.59-1.43-.59-.52 0-1.04.2-1.43.59L10.3 9.45l-7.72 7.72c-.78.78-.78 2.05 0 2.83L4 21.41c.39.39.9.59 1.41.59.51 0 1.02-.2 1.41-.59l7.78-7.78 2.81-2.81c.8-.78.8-2.07 0-2.86zM5.41 20L4 18.59l7.72-7.72 1.47 1.35L5.41 20z\"/>\n",
              "  </svg>\n",
              "      </button>\n",
              "      \n",
              "  <style>\n",
              "    .colab-df-container {\n",
              "      display:flex;\n",
              "      flex-wrap:wrap;\n",
              "      gap: 12px;\n",
              "    }\n",
              "\n",
              "    .colab-df-convert {\n",
              "      background-color: #E8F0FE;\n",
              "      border: none;\n",
              "      border-radius: 50%;\n",
              "      cursor: pointer;\n",
              "      display: none;\n",
              "      fill: #1967D2;\n",
              "      height: 32px;\n",
              "      padding: 0 0 0 0;\n",
              "      width: 32px;\n",
              "    }\n",
              "\n",
              "    .colab-df-convert:hover {\n",
              "      background-color: #E2EBFA;\n",
              "      box-shadow: 0px 1px 2px rgba(60, 64, 67, 0.3), 0px 1px 3px 1px rgba(60, 64, 67, 0.15);\n",
              "      fill: #174EA6;\n",
              "    }\n",
              "\n",
              "    [theme=dark] .colab-df-convert {\n",
              "      background-color: #3B4455;\n",
              "      fill: #D2E3FC;\n",
              "    }\n",
              "\n",
              "    [theme=dark] .colab-df-convert:hover {\n",
              "      background-color: #434B5C;\n",
              "      box-shadow: 0px 1px 3px 1px rgba(0, 0, 0, 0.15);\n",
              "      filter: drop-shadow(0px 1px 2px rgba(0, 0, 0, 0.3));\n",
              "      fill: #FFFFFF;\n",
              "    }\n",
              "  </style>\n",
              "\n",
              "      <script>\n",
              "        const buttonEl =\n",
              "          document.querySelector('#df-ac5ca68f-1c41-4a2b-b29f-f98bcd8220cd button.colab-df-convert');\n",
              "        buttonEl.style.display =\n",
              "          google.colab.kernel.accessAllowed ? 'block' : 'none';\n",
              "\n",
              "        async function convertToInteractive(key) {\n",
              "          const element = document.querySelector('#df-ac5ca68f-1c41-4a2b-b29f-f98bcd8220cd');\n",
              "          const dataTable =\n",
              "            await google.colab.kernel.invokeFunction('convertToInteractive',\n",
              "                                                     [key], {});\n",
              "          if (!dataTable) return;\n",
              "\n",
              "          const docLinkHtml = 'Like what you see? Visit the ' +\n",
              "            '<a target=\"_blank\" href=https://colab.research.google.com/notebooks/data_table.ipynb>data table notebook</a>'\n",
              "            + ' to learn more about interactive tables.';\n",
              "          element.innerHTML = '';\n",
              "          dataTable['output_type'] = 'display_data';\n",
              "          await google.colab.output.renderOutput(dataTable, element);\n",
              "          const docLink = document.createElement('div');\n",
              "          docLink.innerHTML = docLinkHtml;\n",
              "          element.appendChild(docLink);\n",
              "        }\n",
              "      </script>\n",
              "    </div>\n",
              "  </div>\n",
              "  "
            ]
          },
          "metadata": {},
          "execution_count": 192
        }
      ]
    },
    {
      "cell_type": "code",
      "source": [
        "City_API_endpoint = \"http://api.openweathermap.org/data/2.5/forecast?q=\"\n",
        "City = \"Le Mans\"\n",
        "Country = \",FR,\"\n",
        "join_key = \"&appid=\" + \"e356e0f2bdc13904d0e62d5bf769987b\"\n",
        "units = \"&units=metric\""
      ],
      "metadata": {
        "id": "glBmE0l2il1Q"
      },
      "execution_count": 193,
      "outputs": []
    },
    {
      "cell_type": "code",
      "source": [
        "city_forecast = City_API_endpoint + City + Country + join_key + units"
      ],
      "metadata": {
        "id": "nLg5XCVJil5K"
      },
      "execution_count": 194,
      "outputs": []
    },
    {
      "cell_type": "code",
      "source": [
        "print(city_forecast)"
      ],
      "metadata": {
        "colab": {
          "base_uri": "https://localhost:8080/"
        },
        "id": "nGbPcqvAil-G",
        "outputId": "aaf8ae37-c8a3-4904-a0b1-17477597612e"
      },
      "execution_count": 195,
      "outputs": [
        {
          "output_type": "stream",
          "name": "stdout",
          "text": [
            "http://api.openweathermap.org/data/2.5/forecast?q=Le Mans,FR,&appid=e356e0f2bdc13904d0e62d5bf769987b&units=metric\n"
          ]
        }
      ]
    },
    {
      "cell_type": "code",
      "source": [
        "forecast_json_data = requests.get(city_forecast).json()"
      ],
      "metadata": {
        "id": "JpdsHLfljLHO"
      },
      "execution_count": 196,
      "outputs": []
    },
    {
      "cell_type": "code",
      "source": [
        "print (forecast_json_data)"
      ],
      "metadata": {
        "colab": {
          "base_uri": "https://localhost:8080/"
        },
        "id": "YBdi1K9njLMo",
        "outputId": "af654191-395e-4ff0-9fef-698c17a5da9c"
      },
      "execution_count": 197,
      "outputs": [
        {
          "output_type": "stream",
          "name": "stdout",
          "text": [
            "{'cod': '200', 'message': 0, 'cnt': 40, 'list': [{'dt': 1670490000, 'main': {'temp': 1.35, 'feels_like': 1.35, 'temp_min': 1.35, 'temp_max': 2.14, 'pressure': 1012, 'sea_level': 1012, 'grnd_level': 1004, 'humidity': 93, 'temp_kf': -0.79}, 'weather': [{'id': 803, 'main': 'Clouds', 'description': 'broken clouds', 'icon': '04d'}], 'clouds': {'all': 70}, 'wind': {'speed': 0.9, 'deg': 16, 'gust': 0.99}, 'visibility': 10000, 'pop': 0, 'sys': {'pod': 'd'}, 'dt_txt': '2022-12-08 09:00:00'}, {'dt': 1670500800, 'main': {'temp': 4.08, 'feels_like': 2.08, 'temp_min': 4.08, 'temp_max': 5.64, 'pressure': 1011, 'sea_level': 1011, 'grnd_level': 1003, 'humidity': 76, 'temp_kf': -1.56}, 'weather': [{'id': 802, 'main': 'Clouds', 'description': 'scattered clouds', 'icon': '03d'}], 'clouds': {'all': 39}, 'wind': {'speed': 2.21, 'deg': 45, 'gust': 2.57}, 'visibility': 10000, 'pop': 0, 'sys': {'pod': 'd'}, 'dt_txt': '2022-12-08 12:00:00'}, {'dt': 1670511600, 'main': {'temp': 5.32, 'feels_like': 3.26, 'temp_min': 5.32, 'temp_max': 5.32, 'pressure': 1008, 'sea_level': 1008, 'grnd_level': 1001, 'humidity': 65, 'temp_kf': 0}, 'weather': [{'id': 800, 'main': 'Clear', 'description': 'clear sky', 'icon': '01d'}], 'clouds': {'all': 7}, 'wind': {'speed': 2.52, 'deg': 48, 'gust': 3.86}, 'visibility': 10000, 'pop': 0, 'sys': {'pod': 'd'}, 'dt_txt': '2022-12-08 15:00:00'}, {'dt': 1670522400, 'main': {'temp': 1.58, 'feels_like': -1.63, 'temp_min': 1.58, 'temp_max': 1.58, 'pressure': 1008, 'sea_level': 1008, 'grnd_level': 1000, 'humidity': 81, 'temp_kf': 0}, 'weather': [{'id': 800, 'main': 'Clear', 'description': 'clear sky', 'icon': '01n'}], 'clouds': {'all': 7}, 'wind': {'speed': 3.03, 'deg': 58, 'gust': 4.15}, 'visibility': 10000, 'pop': 0, 'sys': {'pod': 'n'}, 'dt_txt': '2022-12-08 18:00:00'}, {'dt': 1670533200, 'main': {'temp': 0.32, 'feels_like': -3.51, 'temp_min': 0.32, 'temp_max': 0.32, 'pressure': 1008, 'sea_level': 1008, 'grnd_level': 1000, 'humidity': 93, 'temp_kf': 0}, 'weather': [{'id': 800, 'main': 'Clear', 'description': 'clear sky', 'icon': '01n'}], 'clouds': {'all': 7}, 'wind': {'speed': 3.48, 'deg': 46, 'gust': 8.54}, 'visibility': 10000, 'pop': 0, 'sys': {'pod': 'n'}, 'dt_txt': '2022-12-08 21:00:00'}, {'dt': 1670544000, 'main': {'temp': -0.64, 'feels_like': -4.76, 'temp_min': -0.64, 'temp_max': -0.64, 'pressure': 1007, 'sea_level': 1007, 'grnd_level': 1000, 'humidity': 92, 'temp_kf': 0}, 'weather': [{'id': 800, 'main': 'Clear', 'description': 'clear sky', 'icon': '01n'}], 'clouds': {'all': 7}, 'wind': {'speed': 3.58, 'deg': 41, 'gust': 8.56}, 'visibility': 10000, 'pop': 0, 'sys': {'pod': 'n'}, 'dt_txt': '2022-12-09 00:00:00'}, {'dt': 1670554800, 'main': {'temp': -1.49, 'feels_like': -5.81, 'temp_min': -1.49, 'temp_max': -1.49, 'pressure': 1006, 'sea_level': 1006, 'grnd_level': 999, 'humidity': 92, 'temp_kf': 0}, 'weather': [{'id': 800, 'main': 'Clear', 'description': 'clear sky', 'icon': '01n'}], 'clouds': {'all': 8}, 'wind': {'speed': 3.6, 'deg': 34, 'gust': 9.04}, 'visibility': 10000, 'pop': 0, 'sys': {'pod': 'n'}, 'dt_txt': '2022-12-09 03:00:00'}, {'dt': 1670565600, 'main': {'temp': -1.78, 'feels_like': -6.15, 'temp_min': -1.78, 'temp_max': -1.78, 'pressure': 1006, 'sea_level': 1006, 'grnd_level': 999, 'humidity': 94, 'temp_kf': 0}, 'weather': [{'id': 800, 'main': 'Clear', 'description': 'clear sky', 'icon': '01n'}], 'clouds': {'all': 7}, 'wind': {'speed': 3.59, 'deg': 31, 'gust': 9.4}, 'visibility': 10000, 'pop': 0, 'sys': {'pod': 'n'}, 'dt_txt': '2022-12-09 06:00:00'}, {'dt': 1670576400, 'main': {'temp': -0.39, 'feels_like': -4.63, 'temp_min': -0.39, 'temp_max': -0.39, 'pressure': 1007, 'sea_level': 1007, 'grnd_level': 999, 'humidity': 85, 'temp_kf': 0}, 'weather': [{'id': 800, 'main': 'Clear', 'description': 'clear sky', 'icon': '01d'}], 'clouds': {'all': 6}, 'wind': {'speed': 3.81, 'deg': 35, 'gust': 9.2}, 'visibility': 10000, 'pop': 0, 'sys': {'pod': 'd'}, 'dt_txt': '2022-12-09 09:00:00'}, {'dt': 1670587200, 'main': {'temp': 4.14, 'feels_like': 0.32, 'temp_min': 4.14, 'temp_max': 4.14, 'pressure': 1006, 'sea_level': 1006, 'grnd_level': 998, 'humidity': 61, 'temp_kf': 0}, 'weather': [{'id': 800, 'main': 'Clear', 'description': 'clear sky', 'icon': '01d'}], 'clouds': {'all': 6}, 'wind': {'speed': 4.88, 'deg': 46, 'gust': 6.56}, 'visibility': 10000, 'pop': 0, 'sys': {'pod': 'd'}, 'dt_txt': '2022-12-09 12:00:00'}, {'dt': 1670598000, 'main': {'temp': 3.71, 'feels_like': 0.48, 'temp_min': 3.71, 'temp_max': 3.71, 'pressure': 1006, 'sea_level': 1006, 'grnd_level': 998, 'humidity': 63, 'temp_kf': 0}, 'weather': [{'id': 800, 'main': 'Clear', 'description': 'clear sky', 'icon': '01d'}], 'clouds': {'all': 6}, 'wind': {'speed': 3.67, 'deg': 30, 'gust': 6.17}, 'visibility': 10000, 'pop': 0, 'sys': {'pod': 'd'}, 'dt_txt': '2022-12-09 15:00:00'}, {'dt': 1670608800, 'main': {'temp': -0.67, 'feels_like': -4.45, 'temp_min': -0.67, 'temp_max': -0.67, 'pressure': 1007, 'sea_level': 1007, 'grnd_level': 999, 'humidity': 84, 'temp_kf': 0}, 'weather': [{'id': 800, 'main': 'Clear', 'description': 'clear sky', 'icon': '01n'}], 'clouds': {'all': 4}, 'wind': {'speed': 3.16, 'deg': 30, 'gust': 4.1}, 'visibility': 10000, 'pop': 0, 'sys': {'pod': 'n'}, 'dt_txt': '2022-12-09 18:00:00'}, {'dt': 1670619600, 'main': {'temp': -1.43, 'feels_like': -4.67, 'temp_min': -1.43, 'temp_max': -1.43, 'pressure': 1008, 'sea_level': 1008, 'grnd_level': 1001, 'humidity': 91, 'temp_kf': 0}, 'weather': [{'id': 800, 'main': 'Clear', 'description': 'clear sky', 'icon': '01n'}], 'clouds': {'all': 7}, 'wind': {'speed': 2.46, 'deg': 29, 'gust': 2.57}, 'visibility': 10000, 'pop': 0, 'sys': {'pod': 'n'}, 'dt_txt': '2022-12-09 21:00:00'}, {'dt': 1670630400, 'main': {'temp': -1.73, 'feels_like': -4.74, 'temp_min': -1.73, 'temp_max': -1.73, 'pressure': 1009, 'sea_level': 1009, 'grnd_level': 1001, 'humidity': 92, 'temp_kf': 0}, 'weather': [{'id': 800, 'main': 'Clear', 'description': 'clear sky', 'icon': '01n'}], 'clouds': {'all': 7}, 'wind': {'speed': 2.21, 'deg': 14, 'gust': 2.13}, 'visibility': 10000, 'pop': 0, 'sys': {'pod': 'n'}, 'dt_txt': '2022-12-10 00:00:00'}, {'dt': 1670641200, 'main': {'temp': -2, 'feels_like': -4.64, 'temp_min': -2, 'temp_max': -2, 'pressure': 1009, 'sea_level': 1009, 'grnd_level': 1001, 'humidity': 91, 'temp_kf': 0}, 'weather': [{'id': 800, 'main': 'Clear', 'description': 'clear sky', 'icon': '01n'}], 'clouds': {'all': 6}, 'wind': {'speed': 1.89, 'deg': 6, 'gust': 1.9}, 'visibility': 10000, 'pop': 0, 'sys': {'pod': 'n'}, 'dt_txt': '2022-12-10 03:00:00'}, {'dt': 1670652000, 'main': {'temp': -2.33, 'feels_like': -4.22, 'temp_min': -2.33, 'temp_max': -2.33, 'pressure': 1009, 'sea_level': 1009, 'grnd_level': 1002, 'humidity': 90, 'temp_kf': 0}, 'weather': [{'id': 800, 'main': 'Clear', 'description': 'clear sky', 'icon': '01n'}], 'clouds': {'all': 6}, 'wind': {'speed': 1.39, 'deg': 12, 'gust': 1.44}, 'visibility': 10000, 'pop': 0, 'sys': {'pod': 'n'}, 'dt_txt': '2022-12-10 06:00:00'}, {'dt': 1670662800, 'main': {'temp': -0.58, 'feels_like': -0.58, 'temp_min': -0.58, 'temp_max': -0.58, 'pressure': 1011, 'sea_level': 1011, 'grnd_level': 1003, 'humidity': 83, 'temp_kf': 0}, 'weather': [{'id': 801, 'main': 'Clouds', 'description': 'few clouds', 'icon': '02d'}], 'clouds': {'all': 12}, 'wind': {'speed': 0.74, 'deg': 356, 'gust': 0.97}, 'visibility': 10000, 'pop': 0, 'sys': {'pod': 'd'}, 'dt_txt': '2022-12-10 09:00:00'}, {'dt': 1670673600, 'main': {'temp': 2.98, 'feels_like': 2.98, 'temp_min': 2.98, 'temp_max': 2.98, 'pressure': 1011, 'sea_level': 1011, 'grnd_level': 1003, 'humidity': 70, 'temp_kf': 0}, 'weather': [{'id': 801, 'main': 'Clouds', 'description': 'few clouds', 'icon': '02d'}], 'clouds': {'all': 17}, 'wind': {'speed': 0.85, 'deg': 298, 'gust': 1.03}, 'visibility': 10000, 'pop': 0, 'sys': {'pod': 'd'}, 'dt_txt': '2022-12-10 12:00:00'}, {'dt': 1670684400, 'main': {'temp': 2.47, 'feels_like': 2.47, 'temp_min': 2.47, 'temp_max': 2.47, 'pressure': 1011, 'sea_level': 1011, 'grnd_level': 1004, 'humidity': 74, 'temp_kf': 0}, 'weather': [{'id': 800, 'main': 'Clear', 'description': 'clear sky', 'icon': '01d'}], 'clouds': {'all': 10}, 'wind': {'speed': 0.97, 'deg': 328, 'gust': 1}, 'visibility': 10000, 'pop': 0, 'sys': {'pod': 'd'}, 'dt_txt': '2022-12-10 15:00:00'}, {'dt': 1670695200, 'main': {'temp': -1.14, 'feels_like': -1.14, 'temp_min': -1.14, 'temp_max': -1.14, 'pressure': 1012, 'sea_level': 1012, 'grnd_level': 1005, 'humidity': 84, 'temp_kf': 0}, 'weather': [{'id': 800, 'main': 'Clear', 'description': 'clear sky', 'icon': '01n'}], 'clouds': {'all': 8}, 'wind': {'speed': 0.61, 'deg': 343, 'gust': 0.59}, 'visibility': 10000, 'pop': 0, 'sys': {'pod': 'n'}, 'dt_txt': '2022-12-10 18:00:00'}, {'dt': 1670706000, 'main': {'temp': -1.99, 'feels_like': -1.99, 'temp_min': -1.99, 'temp_max': -1.99, 'pressure': 1013, 'sea_level': 1013, 'grnd_level': 1005, 'humidity': 84, 'temp_kf': 0}, 'weather': [{'id': 801, 'main': 'Clouds', 'description': 'few clouds', 'icon': '02n'}], 'clouds': {'all': 14}, 'wind': {'speed': 0.77, 'deg': 63, 'gust': 0.78}, 'visibility': 10000, 'pop': 0, 'sys': {'pod': 'n'}, 'dt_txt': '2022-12-10 21:00:00'}, {'dt': 1670716800, 'main': {'temp': -2.55, 'feels_like': -2.55, 'temp_min': -2.55, 'temp_max': -2.55, 'pressure': 1014, 'sea_level': 1014, 'grnd_level': 1006, 'humidity': 85, 'temp_kf': 0}, 'weather': [{'id': 801, 'main': 'Clouds', 'description': 'few clouds', 'icon': '02n'}], 'clouds': {'all': 11}, 'wind': {'speed': 0.23, 'deg': 259, 'gust': 0.28}, 'visibility': 10000, 'pop': 0, 'sys': {'pod': 'n'}, 'dt_txt': '2022-12-11 00:00:00'}, {'dt': 1670727600, 'main': {'temp': -2.84, 'feels_like': -2.84, 'temp_min': -2.84, 'temp_max': -2.84, 'pressure': 1014, 'sea_level': 1014, 'grnd_level': 1006, 'humidity': 86, 'temp_kf': 0}, 'weather': [{'id': 800, 'main': 'Clear', 'description': 'clear sky', 'icon': '01n'}], 'clouds': {'all': 5}, 'wind': {'speed': 0.78, 'deg': 148, 'gust': 0.79}, 'visibility': 10000, 'pop': 0, 'sys': {'pod': 'n'}, 'dt_txt': '2022-12-11 03:00:00'}, {'dt': 1670738400, 'main': {'temp': -3.44, 'feels_like': -7.17, 'temp_min': -3.44, 'temp_max': -3.44, 'pressure': 1014, 'sea_level': 1014, 'grnd_level': 1006, 'humidity': 88, 'temp_kf': 0}, 'weather': [{'id': 800, 'main': 'Clear', 'description': 'clear sky', 'icon': '01n'}], 'clouds': {'all': 5}, 'wind': {'speed': 2.56, 'deg': 222, 'gust': 2.51}, 'visibility': 10000, 'pop': 0, 'sys': {'pod': 'n'}, 'dt_txt': '2022-12-11 06:00:00'}, {'dt': 1670749200, 'main': {'temp': -1.88, 'feels_like': -4.52, 'temp_min': -1.88, 'temp_max': -1.88, 'pressure': 1015, 'sea_level': 1015, 'grnd_level': 1007, 'humidity': 81, 'temp_kf': 0}, 'weather': [{'id': 802, 'main': 'Clouds', 'description': 'scattered clouds', 'icon': '03d'}], 'clouds': {'all': 31}, 'wind': {'speed': 1.91, 'deg': 180, 'gust': 2.98}, 'visibility': 10000, 'pop': 0, 'sys': {'pod': 'd'}, 'dt_txt': '2022-12-11 09:00:00'}, {'dt': 1670760000, 'main': {'temp': 2.69, 'feels_like': -0.05, 'temp_min': 2.69, 'temp_max': 2.69, 'pressure': 1014, 'sea_level': 1014, 'grnd_level': 1006, 'humidity': 55, 'temp_kf': 0}, 'weather': [{'id': 802, 'main': 'Clouds', 'description': 'scattered clouds', 'icon': '03d'}], 'clouds': {'all': 39}, 'wind': {'speed': 2.74, 'deg': 196, 'gust': 3.63}, 'visibility': 10000, 'pop': 0, 'sys': {'pod': 'd'}, 'dt_txt': '2022-12-11 12:00:00'}, {'dt': 1670770800, 'main': {'temp': 1.99, 'feels_like': -0.49, 'temp_min': 1.99, 'temp_max': 1.99, 'pressure': 1013, 'sea_level': 1013, 'grnd_level': 1005, 'humidity': 59, 'temp_kf': 0}, 'weather': [{'id': 800, 'main': 'Clear', 'description': 'clear sky', 'icon': '01d'}], 'clouds': {'all': 7}, 'wind': {'speed': 2.32, 'deg': 195, 'gust': 2.86}, 'visibility': 10000, 'pop': 0, 'sys': {'pod': 'd'}, 'dt_txt': '2022-12-11 15:00:00'}, {'dt': 1670781600, 'main': {'temp': -1.84, 'feels_like': -5.17, 'temp_min': -1.84, 'temp_max': -1.84, 'pressure': 1013, 'sea_level': 1013, 'grnd_level': 1006, 'humidity': 72, 'temp_kf': 0}, 'weather': [{'id': 802, 'main': 'Clouds', 'description': 'scattered clouds', 'icon': '03n'}], 'clouds': {'all': 25}, 'wind': {'speed': 2.47, 'deg': 193, 'gust': 2.38}, 'visibility': 10000, 'pop': 0, 'sys': {'pod': 'n'}, 'dt_txt': '2022-12-11 18:00:00'}, {'dt': 1670792400, 'main': {'temp': -2.3, 'feels_like': -5.55, 'temp_min': -2.3, 'temp_max': -2.3, 'pressure': 1014, 'sea_level': 1014, 'grnd_level': 1006, 'humidity': 73, 'temp_kf': 0}, 'weather': [{'id': 804, 'main': 'Clouds', 'description': 'overcast clouds', 'icon': '04n'}], 'clouds': {'all': 88}, 'wind': {'speed': 2.33, 'deg': 213, 'gust': 2.42}, 'visibility': 10000, 'pop': 0, 'sys': {'pod': 'n'}, 'dt_txt': '2022-12-11 21:00:00'}, {'dt': 1670803200, 'main': {'temp': -1.3, 'feels_like': -3.57, 'temp_min': -1.3, 'temp_max': -1.3, 'pressure': 1014, 'sea_level': 1014, 'grnd_level': 1007, 'humidity': 70, 'temp_kf': 0}, 'weather': [{'id': 804, 'main': 'Clouds', 'description': 'overcast clouds', 'icon': '04n'}], 'clouds': {'all': 94}, 'wind': {'speed': 1.71, 'deg': 216, 'gust': 1.84}, 'visibility': 10000, 'pop': 0, 'sys': {'pod': 'n'}, 'dt_txt': '2022-12-12 00:00:00'}, {'dt': 1670814000, 'main': {'temp': -0.65, 'feels_like': -3.29, 'temp_min': -0.65, 'temp_max': -0.65, 'pressure': 1014, 'sea_level': 1014, 'grnd_level': 1007, 'humidity': 68, 'temp_kf': 0}, 'weather': [{'id': 804, 'main': 'Clouds', 'description': 'overcast clouds', 'icon': '04n'}], 'clouds': {'all': 100}, 'wind': {'speed': 2.06, 'deg': 213, 'gust': 3}, 'visibility': 10000, 'pop': 0, 'sys': {'pod': 'n'}, 'dt_txt': '2022-12-12 03:00:00'}, {'dt': 1670824800, 'main': {'temp': -2.89, 'feels_like': -6.05, 'temp_min': -2.89, 'temp_max': -2.89, 'pressure': 1015, 'sea_level': 1015, 'grnd_level': 1007, 'humidity': 86, 'temp_kf': 0}, 'weather': [{'id': 803, 'main': 'Clouds', 'description': 'broken clouds', 'icon': '04n'}], 'clouds': {'all': 79}, 'wind': {'speed': 2.17, 'deg': 255, 'gust': 2.18}, 'visibility': 10000, 'pop': 0, 'sys': {'pod': 'n'}, 'dt_txt': '2022-12-12 06:00:00'}, {'dt': 1670835600, 'main': {'temp': -1.4, 'feels_like': -4.61, 'temp_min': -1.4, 'temp_max': -1.4, 'pressure': 1015, 'sea_level': 1015, 'grnd_level': 1007, 'humidity': 90, 'temp_kf': 0}, 'weather': [{'id': 800, 'main': 'Clear', 'description': 'clear sky', 'icon': '01d'}], 'clouds': {'all': 10}, 'wind': {'speed': 2.44, 'deg': 239, 'gust': 4.07}, 'visibility': 10000, 'pop': 0, 'sys': {'pod': 'd'}, 'dt_txt': '2022-12-12 09:00:00'}, {'dt': 1670846400, 'main': {'temp': 3.9, 'feels_like': 0.22, 'temp_min': 3.9, 'temp_max': 3.9, 'pressure': 1014, 'sea_level': 1014, 'grnd_level': 1007, 'humidity': 69, 'temp_kf': 0}, 'weather': [{'id': 801, 'main': 'Clouds', 'description': 'few clouds', 'icon': '02d'}], 'clouds': {'all': 11}, 'wind': {'speed': 4.5, 'deg': 273, 'gust': 6.14}, 'visibility': 10000, 'pop': 0, 'sys': {'pod': 'd'}, 'dt_txt': '2022-12-12 12:00:00'}, {'dt': 1670857200, 'main': {'temp': 1.73, 'feels_like': -2, 'temp_min': 1.73, 'temp_max': 1.73, 'pressure': 1014, 'sea_level': 1014, 'grnd_level': 1007, 'humidity': 77, 'temp_kf': 0}, 'weather': [{'id': 803, 'main': 'Clouds', 'description': 'broken clouds', 'icon': '04d'}], 'clouds': {'all': 75}, 'wind': {'speed': 3.76, 'deg': 337, 'gust': 6.25}, 'visibility': 10000, 'pop': 0.06, 'sys': {'pod': 'd'}, 'dt_txt': '2022-12-12 15:00:00'}, {'dt': 1670868000, 'main': {'temp': -0.63, 'feels_like': -5.86, 'temp_min': -0.63, 'temp_max': -0.63, 'pressure': 1015, 'sea_level': 1015, 'grnd_level': 1007, 'humidity': 95, 'temp_kf': 0}, 'weather': [{'id': 803, 'main': 'Clouds', 'description': 'broken clouds', 'icon': '04n'}], 'clouds': {'all': 73}, 'wind': {'speed': 5.27, 'deg': 61, 'gust': 9.54}, 'visibility': 10000, 'pop': 0, 'sys': {'pod': 'n'}, 'dt_txt': '2022-12-12 18:00:00'}, {'dt': 1670878800, 'main': {'temp': -1.21, 'feels_like': -6.34, 'temp_min': -1.21, 'temp_max': -1.21, 'pressure': 1016, 'sea_level': 1016, 'grnd_level': 1009, 'humidity': 89, 'temp_kf': 0}, 'weather': [{'id': 804, 'main': 'Clouds', 'description': 'overcast clouds', 'icon': '04n'}], 'clouds': {'all': 95}, 'wind': {'speed': 4.85, 'deg': 70, 'gust': 9.68}, 'visibility': 10000, 'pop': 0, 'sys': {'pod': 'n'}, 'dt_txt': '2022-12-12 21:00:00'}, {'dt': 1670889600, 'main': {'temp': -3.26, 'feels_like': -8.01, 'temp_min': -3.26, 'temp_max': -3.26, 'pressure': 1016, 'sea_level': 1016, 'grnd_level': 1009, 'humidity': 95, 'temp_kf': 0}, 'weather': [{'id': 803, 'main': 'Clouds', 'description': 'broken clouds', 'icon': '04n'}], 'clouds': {'all': 83}, 'wind': {'speed': 3.66, 'deg': 75, 'gust': 9.25}, 'visibility': 10000, 'pop': 0, 'sys': {'pod': 'n'}, 'dt_txt': '2022-12-13 00:00:00'}, {'dt': 1670900400, 'main': {'temp': -3.95, 'feels_like': -8.71, 'temp_min': -3.95, 'temp_max': -3.95, 'pressure': 1016, 'sea_level': 1016, 'grnd_level': 1009, 'humidity': 92, 'temp_kf': 0}, 'weather': [{'id': 803, 'main': 'Clouds', 'description': 'broken clouds', 'icon': '04n'}], 'clouds': {'all': 60}, 'wind': {'speed': 3.49, 'deg': 68, 'gust': 9.58}, 'visibility': 10000, 'pop': 0, 'sys': {'pod': 'n'}, 'dt_txt': '2022-12-13 03:00:00'}, {'dt': 1670911200, 'main': {'temp': -3.73, 'feels_like': -8.61, 'temp_min': -3.73, 'temp_max': -3.73, 'pressure': 1015, 'sea_level': 1015, 'grnd_level': 1008, 'humidity': 87, 'temp_kf': 0}, 'weather': [{'id': 803, 'main': 'Clouds', 'description': 'broken clouds', 'icon': '04n'}], 'clouds': {'all': 63}, 'wind': {'speed': 3.68, 'deg': 66, 'gust': 10.59}, 'visibility': 10000, 'pop': 0, 'sys': {'pod': 'n'}, 'dt_txt': '2022-12-13 06:00:00'}], 'city': {'id': 3003603, 'name': 'Le Mans', 'coord': {'lat': 48, 'lon': 0.2}, 'country': 'FR', 'population': 144515, 'timezone': 3600, 'sunrise': 1670484956, 'sunset': 1670515586}}\n"
          ]
        }
      ]
    },
    {
      "cell_type": "code",
      "source": [
        "# forecast_main = forecast_json_data['weather'][0]['main']\n",
        "# forecast_main_description = forecast_json_data['weather'][0]['description']\n",
        "# forecast_temperature = forecast_json_data['main']['temp']\n",
        "# forecast_temperature_feel = forecast_json_data['main']['feels_like']\n",
        "# forecast_temperature_min = forecast_json_data['main']['temp_min']\n",
        "# forecast_temperature_max = forecast_json_data['main']['temp_max']\n",
        "# forecast_pressure = forecast_json_data['main']['pressure']\n",
        "# forecast_humidity = forecast_json_data['main']['humidity']\n",
        "# forecast_visibility = forecast_json_data['visibility']\n",
        "# forecast_wind_speed = forecast_json_data['wind']['speed']\n",
        "# forecast_wind_degree = forecast_json_data['wind']['deg']"
      ],
      "metadata": {
        "id": "_surXnqSjLRF"
      },
      "execution_count": 198,
      "outputs": []
    },
    {
      "cell_type": "code",
      "source": [
        "forecast_main = forecast_json_data['list'][0]['main']"
      ],
      "metadata": {
        "id": "bAWun6UpjLVf"
      },
      "execution_count": 199,
      "outputs": []
    },
    {
      "cell_type": "code",
      "source": [
        "num_forecasts = len(forecast_json_data['list'])\n",
        "num_forecasts"
      ],
      "metadata": {
        "colab": {
          "base_uri": "https://localhost:8080/"
        },
        "id": "L1EY9a8CjLZI",
        "outputId": "eae69676-e831-4419-bb72-6ac54068a798"
      },
      "execution_count": 200,
      "outputs": [
        {
          "output_type": "execute_result",
          "data": {
            "text/plain": [
              "40"
            ]
          },
          "metadata": {},
          "execution_count": 200
        }
      ]
    },
    {
      "cell_type": "code",
      "source": [
        "forecast_json_data['city']"
      ],
      "metadata": {
        "colab": {
          "base_uri": "https://localhost:8080/"
        },
        "id": "FvS3WxxvjXyb",
        "outputId": "20194dd4-e7c3-4e93-8d60-6d066b826bcc"
      },
      "execution_count": 201,
      "outputs": [
        {
          "output_type": "execute_result",
          "data": {
            "text/plain": [
              "{'id': 3003603,\n",
              " 'name': 'Le Mans',\n",
              " 'coord': {'lat': 48, 'lon': 0.2},\n",
              " 'country': 'FR',\n",
              " 'population': 144515,\n",
              " 'timezone': 3600,\n",
              " 'sunrise': 1670484956,\n",
              " 'sunset': 1670515586}"
            ]
          },
          "metadata": {},
          "execution_count": 201
        }
      ]
    },
    {
      "cell_type": "code",
      "source": [
        "df_predictions = pd.DataFrame()"
      ],
      "metadata": {
        "id": "qBK57od6jX4W"
      },
      "execution_count": 202,
      "outputs": []
    },
    {
      "cell_type": "code",
      "source": [
        "# Creating empty lists\n",
        "prediction_num = 0\n",
        "list_prediction_num = []\n",
        "date_time_prediction = []\n",
        "owm_city_id = []\n",
        "city_name = []\n",
        "latitude = []\n",
        "longitude = []\n",
        "country_name = []\n",
        "population = []\n",
        "timezone = [] # Shift in seconds from UTC\n",
        "sunrise = []\n",
        "sunset = []\n",
        "# Main\n",
        "temp_prediction = []\n",
        "temp_feels_like_prediction = []\n",
        "temp_min_prediction = []\n",
        "temp_max_prediction = []\n",
        "pressure_prediction = []\n",
        "sea_level_prediction = []\n",
        "grnd_level_prediction = []\n",
        "humidity_prediction = []\n",
        "temp_kf_prediction = []\n",
        "# Weather\n",
        "main_weather_prediction = []\n",
        "main_weather_description_prediction = []\n",
        "# Clouds\n",
        "clouds_prediction = []\n",
        "# Wind\n",
        "wind_speed_prediction = []\n",
        "wind_degree_prediction = []"
      ],
      "metadata": {
        "id": "8skmZzBFjX9S"
      },
      "execution_count": 203,
      "outputs": []
    },
    {
      "cell_type": "code",
      "source": [
        "# Loop Through the JSON\n",
        "for num_forecasts in forecast_json_data['list']:\n",
        "    df_predictions['prediction_num'] = prediction_num\n",
        "    list_prediction_num.append(prediction_num)\n",
        "    date_time_prediction.append(forecast_json_data['list'][prediction_num]['dt_txt'])\n",
        "    \n",
        "    owm_city_id.append(forecast_json_data['city']['id'])\n",
        "    city_name.append(forecast_json_data['city']['name'])\n",
        "    latitude.append(forecast_json_data['city']['coord']['lat'])\n",
        "    longitude.append(forecast_json_data['city']['coord']['lon'])\n",
        "    country_name.append(forecast_json_data['city']['country'])\n",
        "    population.append(forecast_json_data['city']['population'])\n",
        "    \n",
        "    if forecast_json_data['city']['timezone'] >0 :\n",
        "        timezone.append(\"+\" + str((forecast_json_data['city']['timezone'])/3600))\n",
        "    else:\n",
        "        timezone.append((forecast_json_data['city']['timezone'])/3600)\n",
        "        \n",
        "    sunrise.append(forecast_json_data['city']['sunrise'])\n",
        "    sunset.append(forecast_json_data['city']['sunset'])\n",
        "    \n",
        "    # Main\n",
        "    temp_prediction.append(forecast_json_data['list'][prediction_num]['main']['temp'])\n",
        "    temp_feels_like_prediction.append(forecast_json_data['list'][prediction_num]['main']['feels_like'])\n",
        "    temp_min_prediction.append(forecast_json_data['list'][prediction_num]['main']['temp_min'])\n",
        "    temp_max_prediction.append(forecast_json_data['list'][prediction_num]['main']['temp_max'])\n",
        "    pressure_prediction.append(forecast_json_data['list'][prediction_num]['main']['pressure'])\n",
        "    sea_level_prediction.append(forecast_json_data['list'][prediction_num]['main']['sea_level'])\n",
        "    grnd_level_prediction.append(forecast_json_data['list'][prediction_num]['main']['grnd_level'])\n",
        "    humidity_prediction.append(forecast_json_data['list'][prediction_num]['main']['humidity'])\n",
        "    temp_kf_prediction.append(forecast_json_data['list'][prediction_num]['main']['temp_kf'])\n",
        "    # Weather\n",
        "    main_weather_prediction.append(forecast_json_data['list'][prediction_num]['weather'][0]['main'])\n",
        "    main_weather_description_prediction.append(forecast_json_data['list'][prediction_num]['weather'][0]['description'])\n",
        "    # Clouds\n",
        "    clouds_prediction.append(forecast_json_data['list'][prediction_num]['clouds']['all'])\n",
        "    # Wind\n",
        "    wind_speed_prediction.append(forecast_json_data['list'][prediction_num]['wind']['speed'])\n",
        "    wind_degree_prediction.append(forecast_json_data['list'][prediction_num]['wind']['deg'])\n",
        "    \n",
        "    prediction_num += 1"
      ],
      "metadata": {
        "id": "0mGymtIvjYBM"
      },
      "execution_count": 204,
      "outputs": []
    },
    {
      "cell_type": "code",
      "source": [
        "# Put data into a dataframe\n",
        "df_predictions['prediction_num'] = list_prediction_num\n",
        "df_predictions['date_time_prediction'] = date_time_prediction\n",
        "df_predictions['owm_city_id'] = owm_city_id\n",
        "df_predictions['city_name'] = city_name\n",
        "df_predictions['latitude'] = latitude\n",
        "df_predictions['longitude'] = longitude\n",
        "df_predictions['country_name'] = country_name\n",
        "df_predictions['population'] = population\n",
        "df_predictions['timezone'] = timezone\n",
        "df_predictions['sunrise'] = sunrise\n",
        "df_predictions['sunset'] = sunset\n",
        "\n",
        "    # Main\n",
        "df_predictions['temp_prediction'] = temp_prediction\n",
        "df_predictions['temp_feels_like_prediction'] = temp_feels_like_prediction\n",
        "df_predictions['temp_min_prediction'] = temp_min_prediction\n",
        "df_predictions['temp_max_prediction'] = temp_max_prediction\n",
        "df_predictions['pressure_prediction'] = pressure_prediction\n",
        "df_predictions['sea_level_prediction'] = sea_level_prediction\n",
        "df_predictions['grnd_level_prediction'] = grnd_level_prediction\n",
        "df_predictions['humidity_prediction'] = humidity_prediction\n",
        "df_predictions['temp_kf_prediction'] = temp_kf_prediction\n",
        "    # Weather\n",
        "df_predictions['main_weather_prediction'] = main_weather_prediction\n",
        "df_predictions['main_weather_description_prediction'] = main_weather_description_prediction\n",
        "    # Clouds\n",
        "df_predictions['clouds_prediction'] = clouds_prediction\n",
        "    # Wind\n",
        "df_predictions['wind_speed_prediction'] = wind_speed_prediction\n",
        "df_predictions['wind_degree_prediction'] = wind_degree_prediction"
      ],
      "metadata": {
        "id": "0uWWygt6jYGJ"
      },
      "execution_count": 205,
      "outputs": []
    },
    {
      "cell_type": "code",
      "source": [
        "df_predictions.head()"
      ],
      "metadata": {
        "colab": {
          "base_uri": "https://localhost:8080/",
          "height": 270
        },
        "id": "XAaCZROojlUB",
        "outputId": "7ad8b037-34a6-4dbe-f8cf-36e9c48bea68"
      },
      "execution_count": 206,
      "outputs": [
        {
          "output_type": "execute_result",
          "data": {
            "text/plain": [
              "   prediction_num date_time_prediction  owm_city_id city_name  latitude  \\\n",
              "0               0  2022-12-08 09:00:00      3003603   Le Mans        48   \n",
              "1               1  2022-12-08 12:00:00      3003603   Le Mans        48   \n",
              "2               2  2022-12-08 15:00:00      3003603   Le Mans        48   \n",
              "3               3  2022-12-08 18:00:00      3003603   Le Mans        48   \n",
              "4               4  2022-12-08 21:00:00      3003603   Le Mans        48   \n",
              "\n",
              "   longitude country_name  population timezone     sunrise      sunset  \\\n",
              "0        0.2           FR      144515     +1.0  1670484956  1670515586   \n",
              "1        0.2           FR      144515     +1.0  1670484956  1670515586   \n",
              "2        0.2           FR      144515     +1.0  1670484956  1670515586   \n",
              "3        0.2           FR      144515     +1.0  1670484956  1670515586   \n",
              "4        0.2           FR      144515     +1.0  1670484956  1670515586   \n",
              "\n",
              "   temp_prediction  temp_feels_like_prediction  temp_min_prediction  \\\n",
              "0             1.35                        1.35                 1.35   \n",
              "1             4.08                        2.08                 4.08   \n",
              "2             5.32                        3.26                 5.32   \n",
              "3             1.58                       -1.63                 1.58   \n",
              "4             0.32                       -3.51                 0.32   \n",
              "\n",
              "   temp_max_prediction  pressure_prediction  sea_level_prediction  \\\n",
              "0                 2.14                 1012                  1012   \n",
              "1                 5.64                 1011                  1011   \n",
              "2                 5.32                 1008                  1008   \n",
              "3                 1.58                 1008                  1008   \n",
              "4                 0.32                 1008                  1008   \n",
              "\n",
              "   grnd_level_prediction  humidity_prediction  temp_kf_prediction  \\\n",
              "0                   1004                   93               -0.79   \n",
              "1                   1003                   76               -1.56   \n",
              "2                   1001                   65                0.00   \n",
              "3                   1000                   81                0.00   \n",
              "4                   1000                   93                0.00   \n",
              "\n",
              "  main_weather_prediction main_weather_description_prediction  \\\n",
              "0                  Clouds                       broken clouds   \n",
              "1                  Clouds                    scattered clouds   \n",
              "2                   Clear                           clear sky   \n",
              "3                   Clear                           clear sky   \n",
              "4                   Clear                           clear sky   \n",
              "\n",
              "   clouds_prediction  wind_speed_prediction  wind_degree_prediction  \n",
              "0                 70                   0.90                      16  \n",
              "1                 39                   2.21                      45  \n",
              "2                  7                   2.52                      48  \n",
              "3                  7                   3.03                      58  \n",
              "4                  7                   3.48                      46  "
            ],
            "text/html": [
              "\n",
              "  <div id=\"df-9209bf67-4611-4a0f-8207-ca201810568f\">\n",
              "    <div class=\"colab-df-container\">\n",
              "      <div>\n",
              "<style scoped>\n",
              "    .dataframe tbody tr th:only-of-type {\n",
              "        vertical-align: middle;\n",
              "    }\n",
              "\n",
              "    .dataframe tbody tr th {\n",
              "        vertical-align: top;\n",
              "    }\n",
              "\n",
              "    .dataframe thead th {\n",
              "        text-align: right;\n",
              "    }\n",
              "</style>\n",
              "<table border=\"1\" class=\"dataframe\">\n",
              "  <thead>\n",
              "    <tr style=\"text-align: right;\">\n",
              "      <th></th>\n",
              "      <th>prediction_num</th>\n",
              "      <th>date_time_prediction</th>\n",
              "      <th>owm_city_id</th>\n",
              "      <th>city_name</th>\n",
              "      <th>latitude</th>\n",
              "      <th>longitude</th>\n",
              "      <th>country_name</th>\n",
              "      <th>population</th>\n",
              "      <th>timezone</th>\n",
              "      <th>sunrise</th>\n",
              "      <th>sunset</th>\n",
              "      <th>temp_prediction</th>\n",
              "      <th>temp_feels_like_prediction</th>\n",
              "      <th>temp_min_prediction</th>\n",
              "      <th>temp_max_prediction</th>\n",
              "      <th>pressure_prediction</th>\n",
              "      <th>sea_level_prediction</th>\n",
              "      <th>grnd_level_prediction</th>\n",
              "      <th>humidity_prediction</th>\n",
              "      <th>temp_kf_prediction</th>\n",
              "      <th>main_weather_prediction</th>\n",
              "      <th>main_weather_description_prediction</th>\n",
              "      <th>clouds_prediction</th>\n",
              "      <th>wind_speed_prediction</th>\n",
              "      <th>wind_degree_prediction</th>\n",
              "    </tr>\n",
              "  </thead>\n",
              "  <tbody>\n",
              "    <tr>\n",
              "      <th>0</th>\n",
              "      <td>0</td>\n",
              "      <td>2022-12-08 09:00:00</td>\n",
              "      <td>3003603</td>\n",
              "      <td>Le Mans</td>\n",
              "      <td>48</td>\n",
              "      <td>0.2</td>\n",
              "      <td>FR</td>\n",
              "      <td>144515</td>\n",
              "      <td>+1.0</td>\n",
              "      <td>1670484956</td>\n",
              "      <td>1670515586</td>\n",
              "      <td>1.35</td>\n",
              "      <td>1.35</td>\n",
              "      <td>1.35</td>\n",
              "      <td>2.14</td>\n",
              "      <td>1012</td>\n",
              "      <td>1012</td>\n",
              "      <td>1004</td>\n",
              "      <td>93</td>\n",
              "      <td>-0.79</td>\n",
              "      <td>Clouds</td>\n",
              "      <td>broken clouds</td>\n",
              "      <td>70</td>\n",
              "      <td>0.90</td>\n",
              "      <td>16</td>\n",
              "    </tr>\n",
              "    <tr>\n",
              "      <th>1</th>\n",
              "      <td>1</td>\n",
              "      <td>2022-12-08 12:00:00</td>\n",
              "      <td>3003603</td>\n",
              "      <td>Le Mans</td>\n",
              "      <td>48</td>\n",
              "      <td>0.2</td>\n",
              "      <td>FR</td>\n",
              "      <td>144515</td>\n",
              "      <td>+1.0</td>\n",
              "      <td>1670484956</td>\n",
              "      <td>1670515586</td>\n",
              "      <td>4.08</td>\n",
              "      <td>2.08</td>\n",
              "      <td>4.08</td>\n",
              "      <td>5.64</td>\n",
              "      <td>1011</td>\n",
              "      <td>1011</td>\n",
              "      <td>1003</td>\n",
              "      <td>76</td>\n",
              "      <td>-1.56</td>\n",
              "      <td>Clouds</td>\n",
              "      <td>scattered clouds</td>\n",
              "      <td>39</td>\n",
              "      <td>2.21</td>\n",
              "      <td>45</td>\n",
              "    </tr>\n",
              "    <tr>\n",
              "      <th>2</th>\n",
              "      <td>2</td>\n",
              "      <td>2022-12-08 15:00:00</td>\n",
              "      <td>3003603</td>\n",
              "      <td>Le Mans</td>\n",
              "      <td>48</td>\n",
              "      <td>0.2</td>\n",
              "      <td>FR</td>\n",
              "      <td>144515</td>\n",
              "      <td>+1.0</td>\n",
              "      <td>1670484956</td>\n",
              "      <td>1670515586</td>\n",
              "      <td>5.32</td>\n",
              "      <td>3.26</td>\n",
              "      <td>5.32</td>\n",
              "      <td>5.32</td>\n",
              "      <td>1008</td>\n",
              "      <td>1008</td>\n",
              "      <td>1001</td>\n",
              "      <td>65</td>\n",
              "      <td>0.00</td>\n",
              "      <td>Clear</td>\n",
              "      <td>clear sky</td>\n",
              "      <td>7</td>\n",
              "      <td>2.52</td>\n",
              "      <td>48</td>\n",
              "    </tr>\n",
              "    <tr>\n",
              "      <th>3</th>\n",
              "      <td>3</td>\n",
              "      <td>2022-12-08 18:00:00</td>\n",
              "      <td>3003603</td>\n",
              "      <td>Le Mans</td>\n",
              "      <td>48</td>\n",
              "      <td>0.2</td>\n",
              "      <td>FR</td>\n",
              "      <td>144515</td>\n",
              "      <td>+1.0</td>\n",
              "      <td>1670484956</td>\n",
              "      <td>1670515586</td>\n",
              "      <td>1.58</td>\n",
              "      <td>-1.63</td>\n",
              "      <td>1.58</td>\n",
              "      <td>1.58</td>\n",
              "      <td>1008</td>\n",
              "      <td>1008</td>\n",
              "      <td>1000</td>\n",
              "      <td>81</td>\n",
              "      <td>0.00</td>\n",
              "      <td>Clear</td>\n",
              "      <td>clear sky</td>\n",
              "      <td>7</td>\n",
              "      <td>3.03</td>\n",
              "      <td>58</td>\n",
              "    </tr>\n",
              "    <tr>\n",
              "      <th>4</th>\n",
              "      <td>4</td>\n",
              "      <td>2022-12-08 21:00:00</td>\n",
              "      <td>3003603</td>\n",
              "      <td>Le Mans</td>\n",
              "      <td>48</td>\n",
              "      <td>0.2</td>\n",
              "      <td>FR</td>\n",
              "      <td>144515</td>\n",
              "      <td>+1.0</td>\n",
              "      <td>1670484956</td>\n",
              "      <td>1670515586</td>\n",
              "      <td>0.32</td>\n",
              "      <td>-3.51</td>\n",
              "      <td>0.32</td>\n",
              "      <td>0.32</td>\n",
              "      <td>1008</td>\n",
              "      <td>1008</td>\n",
              "      <td>1000</td>\n",
              "      <td>93</td>\n",
              "      <td>0.00</td>\n",
              "      <td>Clear</td>\n",
              "      <td>clear sky</td>\n",
              "      <td>7</td>\n",
              "      <td>3.48</td>\n",
              "      <td>46</td>\n",
              "    </tr>\n",
              "  </tbody>\n",
              "</table>\n",
              "</div>\n",
              "      <button class=\"colab-df-convert\" onclick=\"convertToInteractive('df-9209bf67-4611-4a0f-8207-ca201810568f')\"\n",
              "              title=\"Convert this dataframe to an interactive table.\"\n",
              "              style=\"display:none;\">\n",
              "        \n",
              "  <svg xmlns=\"http://www.w3.org/2000/svg\" height=\"24px\"viewBox=\"0 0 24 24\"\n",
              "       width=\"24px\">\n",
              "    <path d=\"M0 0h24v24H0V0z\" fill=\"none\"/>\n",
              "    <path d=\"M18.56 5.44l.94 2.06.94-2.06 2.06-.94-2.06-.94-.94-2.06-.94 2.06-2.06.94zm-11 1L8.5 8.5l.94-2.06 2.06-.94-2.06-.94L8.5 2.5l-.94 2.06-2.06.94zm10 10l.94 2.06.94-2.06 2.06-.94-2.06-.94-.94-2.06-.94 2.06-2.06.94z\"/><path d=\"M17.41 7.96l-1.37-1.37c-.4-.4-.92-.59-1.43-.59-.52 0-1.04.2-1.43.59L10.3 9.45l-7.72 7.72c-.78.78-.78 2.05 0 2.83L4 21.41c.39.39.9.59 1.41.59.51 0 1.02-.2 1.41-.59l7.78-7.78 2.81-2.81c.8-.78.8-2.07 0-2.86zM5.41 20L4 18.59l7.72-7.72 1.47 1.35L5.41 20z\"/>\n",
              "  </svg>\n",
              "      </button>\n",
              "      \n",
              "  <style>\n",
              "    .colab-df-container {\n",
              "      display:flex;\n",
              "      flex-wrap:wrap;\n",
              "      gap: 12px;\n",
              "    }\n",
              "\n",
              "    .colab-df-convert {\n",
              "      background-color: #E8F0FE;\n",
              "      border: none;\n",
              "      border-radius: 50%;\n",
              "      cursor: pointer;\n",
              "      display: none;\n",
              "      fill: #1967D2;\n",
              "      height: 32px;\n",
              "      padding: 0 0 0 0;\n",
              "      width: 32px;\n",
              "    }\n",
              "\n",
              "    .colab-df-convert:hover {\n",
              "      background-color: #E2EBFA;\n",
              "      box-shadow: 0px 1px 2px rgba(60, 64, 67, 0.3), 0px 1px 3px 1px rgba(60, 64, 67, 0.15);\n",
              "      fill: #174EA6;\n",
              "    }\n",
              "\n",
              "    [theme=dark] .colab-df-convert {\n",
              "      background-color: #3B4455;\n",
              "      fill: #D2E3FC;\n",
              "    }\n",
              "\n",
              "    [theme=dark] .colab-df-convert:hover {\n",
              "      background-color: #434B5C;\n",
              "      box-shadow: 0px 1px 3px 1px rgba(0, 0, 0, 0.15);\n",
              "      filter: drop-shadow(0px 1px 2px rgba(0, 0, 0, 0.3));\n",
              "      fill: #FFFFFF;\n",
              "    }\n",
              "  </style>\n",
              "\n",
              "      <script>\n",
              "        const buttonEl =\n",
              "          document.querySelector('#df-9209bf67-4611-4a0f-8207-ca201810568f button.colab-df-convert');\n",
              "        buttonEl.style.display =\n",
              "          google.colab.kernel.accessAllowed ? 'block' : 'none';\n",
              "\n",
              "        async function convertToInteractive(key) {\n",
              "          const element = document.querySelector('#df-9209bf67-4611-4a0f-8207-ca201810568f');\n",
              "          const dataTable =\n",
              "            await google.colab.kernel.invokeFunction('convertToInteractive',\n",
              "                                                     [key], {});\n",
              "          if (!dataTable) return;\n",
              "\n",
              "          const docLinkHtml = 'Like what you see? Visit the ' +\n",
              "            '<a target=\"_blank\" href=https://colab.research.google.com/notebooks/data_table.ipynb>data table notebook</a>'\n",
              "            + ' to learn more about interactive tables.';\n",
              "          element.innerHTML = '';\n",
              "          dataTable['output_type'] = 'display_data';\n",
              "          await google.colab.output.renderOutput(dataTable, element);\n",
              "          const docLink = document.createElement('div');\n",
              "          docLink.innerHTML = docLinkHtml;\n",
              "          element.appendChild(docLink);\n",
              "        }\n",
              "      </script>\n",
              "    </div>\n",
              "  </div>\n",
              "  "
            ]
          },
          "metadata": {},
          "execution_count": 206
        }
      ]
    },
    {
      "cell_type": "code",
      "source": [],
      "metadata": {
        "id": "8CjlIES4jlf_"
      },
      "execution_count": null,
      "outputs": []
    }
  ]
}